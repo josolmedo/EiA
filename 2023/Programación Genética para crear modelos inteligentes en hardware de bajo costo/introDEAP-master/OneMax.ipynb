{
 "cells": [
  {
   "cell_type": "markdown",
   "id": "1d3dfbab",
   "metadata": {},
   "source": [
    "# Problema OneMax\n",
    "El problema OneMax es una tarea de optimización simple que a menudo se usa como el \"Hello World\" de los Framework de algoritmos genéticos. \n",
    "La tarea de OneMax es encontrar la cadena binaria de una longitud dada que maximiza la suma de sus dígitos. Por ejemplo, el problema OneMax de longitud 5 considerará candidatos como los siguientes:\n",
    "\n",
    "11010 (suma de dígitos = 3), \n",
    "00110 (suma de dígitos = 2), \n",
    "11111 (suma de dígitos = 5)\n",
    "\n",
    "## Módulos requeridos para nuestra evolución.\n",
    "\n",
    "- `random` nos da una forma de generar bits aleatorios;\n",
    "- `base` nos da acceso a Toolbox y base Fitness;\n",
    "- `creator` nos permite crear nuestros tipos;\n",
    "- `tools` nos da acceso al banco de operadores;\n",
    "- `algorithms` nos permite algunos ciclos evolutivos genéricos."
   ]
  },
  {
   "cell_type": "code",
   "execution_count": 1,
   "id": "02cc1cad",
   "metadata": {
    "collapsed": false,
    "jupyter": {
     "outputs_hidden": false
    },
    "tags": []
   },
   "outputs": [],
   "source": [
    "import random\n",
    "from deap import base, creator, tools, algorithms\n"
   ]
  },
  {
   "cell_type": "markdown",
   "id": "626a5f00",
   "metadata": {
    "tags": []
   },
   "source": [
    "## Creación de tipos\n",
    "El primer paso con DEAP es crear los tipos requeridos. Por lo general, los tipos creados son el fitness y el individuo. Para el problema de OneMax, queremos tener una solución con tantos `1s` como sea posible. Por lo tanto, necesitamos un estado físico que se `maximice` y un individuo que sea un contenedor ordenado, en forma de \"list\".\n",
    "La creación de tipos se realiza llamando a la función `create`. Esta función toma dos argumentos obligatorios y argumentos opcionales adicionales. El primer argumento es el nombre real del tipo que queremos crear. El segundo argumento es la clase base de la que debe heredar el nuevo tipo creado. Finalmente, los argumentos opcionales son miembros para agregar al nuevo tipo."
   ]
  },
  {
   "cell_type": "code",
   "execution_count": 2,
   "id": "d806dc0a",
   "metadata": {
    "collapsed": false,
    "jupyter": {
     "outputs_hidden": false
    },
    "tags": []
   },
   "outputs": [],
   "source": [
    "creator.create(\"FitnessMax\", base.Fitness, weights=(1.0,))\n",
    "creator.create(\"Individual\", list, fitness=creator.FitnessMax)"
   ]
  },
  {
   "cell_type": "markdown",
   "id": "f661b7df",
   "metadata": {},
   "source": [
    "La primera línea pasa las propiedades de la base.Fitness a FitnessMax donde se maximizará la actitud, tomando como referencia el atributo de pesos (1.0,). La segunda línea crea una clase Individual que hereda las propiedades de lista y adquiere el atributo del tipo FitnessMax que se acaba de crear. Los pesos (así como el valor devuelto de la evaluación) son **siempre requeridos** para ser iterables.\n",
    "Podemos instanciar directamente objetos de la clase creada como sigue. Este paso no es necesario en un algoritmo, la instanciación se automatizará más adelante.\n"
   ]
  },
  {
   "cell_type": "code",
   "execution_count": 3,
   "id": "72a2fa40",
   "metadata": {
    "collapsed": false,
    "jupyter": {
     "outputs_hidden": false
    },
    "tags": []
   },
   "outputs": [
    {
     "name": "stdout",
     "output_type": "stream",
     "text": [
      "[1, 0, 1, 1, 0]\n",
      "<class 'deap.creator.Individual'>\n",
      "<class 'deap.creator.FitnessMax'>\n"
     ]
    }
   ],
   "source": [
    "ind = creator.Individual([1, 0, 1, 1, 0])\n",
    "\n",
    "print(ind)\n",
    "print(type(ind))\n",
    "print(type(ind.fitness))"
   ]
  },
  {
   "cell_type": "markdown",
   "id": "e97f2c91-00c5-4cbe-aa86-7f845fb4ded8",
   "metadata": {},
   "source": [
    "## Toolbox\n",
    "La caja de herramientas está destinada a almacenar funciones con sus argumentos bajo un alias estándar para usar en el algoritmo. Las funciones se registran mediante una llamada de función con dos argumentos obligatorios, el alias para dar a la función y la función con la que se asociará. Cualquier argumento adicional se dará como argumento cuando se llame al alias."
   ]
  },
  {
   "cell_type": "code",
   "execution_count": 4,
   "id": "40b4d4c8",
   "metadata": {
    "collapsed": false,
    "jupyter": {
     "outputs_hidden": false
    },
    "tags": []
   },
   "outputs": [],
   "source": [
    "toolbox = base.Toolbox()\n",
    "toolbox.register(\"attr_bool\", random.randint, 0, 1)\n",
    "toolbox.register(\"individualCreator\", tools.initRepeat, creator.Individual, toolbox.attr_bool, n=10)\n",
    "toolbox.register(\"populationCreator\", tools.initRepeat, list, toolbox.individualCreator)"
   ]
  },
  {
   "cell_type": "markdown",
   "id": "df833262",
   "metadata": {},
   "source": [
    "En el último bloque de código creamos el objeto `toolbox` y registramos tres funciones:  Primero, `attr_bool`, que llama a randint desde el módulo aleatorio con argumentos (0, 1) para crear un entero en el intervalo $[0, 1]$. La segunda función, `individualCreator`, cuando se llame, usará la función initRepeat disponible en el módulo de herramientas para llenar una clase `Individual` con lo que se produce mediante 10 llamadas a la función `attr_bool` previamente definida. Lo mismo se hace para la función `populationCreator`.\n",
    "Por ejemplo, llamar a cada función individualmente muestra cómo procede."
   ]
  },
  {
   "cell_type": "code",
   "execution_count": 5,
   "id": "333f6c7b",
   "metadata": {
    "collapsed": false,
    "jupyter": {
     "outputs_hidden": false
    },
    "tags": []
   },
   "outputs": [
    {
     "name": "stdout",
     "output_type": "stream",
     "text": [
      "bit es de tipo <class 'int'> y tiene valor\n",
      "0\n",
      "ind es de tipo <class 'deap.creator.Individual'> y contiene 10 bits\n",
      "[0, 1, 1, 1, 1, 0, 0, 1, 1, 0]\n",
      "pop es de tipo <class 'list'> y contiene 3 individuos\n",
      "[[1, 1, 0, 1, 1, 0, 1, 0, 1, 1], [1, 0, 0, 0, 0, 0, 1, 0, 1, 0], [0, 0, 0, 1, 0, 1, 0, 0, 1, 1]]\n"
     ]
    }
   ],
   "source": [
    "bit = toolbox.attr_bool()\n",
    "ind = toolbox.individualCreator()\n",
    "pop = toolbox.populationCreator(n=3)\n",
    "\n",
    "print(\"bit es de tipo %s y tiene valor\\n%s\" % (type(bit), bit))\n",
    "print(\"ind es de tipo %s y contiene %d bits\\n%s\" % (type(ind), len(ind), ind))\n",
    "print(\"pop es de tipo %s y contiene %d individuos\\n%s\" % (type(pop), len(pop), pop))"
   ]
  },
  {
   "cell_type": "markdown",
   "id": "ea94d892",
   "metadata": {},
   "source": [
    "## Evaluación de la Función\n",
    "La función de evaluación es bastante simple para el problema OneMax, necesitamos contar el número de unos en un individuo. Recordamos aquí que el valor devuelto debe ser un iterable de longitud igual al número de objetivos (pesos)."
   ]
  },
  {
   "cell_type": "code",
   "execution_count": 6,
   "id": "702a7afc",
   "metadata": {
    "collapsed": false,
    "jupyter": {
     "outputs_hidden": false
    },
    "tags": []
   },
   "outputs": [],
   "source": [
    "def evalOneMax(individualCreator):\n",
    "    return sum(individualCreator),"
   ]
  },
  {
   "cell_type": "markdown",
   "id": "56af98be",
   "metadata": {},
   "source": [
    "## Operadores Genéticos\n",
    "El registro de los operadores y sus argumentos predeterminados en la caja de herramientas se realiza de la siguiente manera."
   ]
  },
  {
   "cell_type": "code",
   "execution_count": 7,
   "id": "412d7141",
   "metadata": {
    "collapsed": false,
    "jupyter": {
     "outputs_hidden": false
    },
    "tags": []
   },
   "outputs": [],
   "source": [
    "toolbox.register(\"evaluate\", evalOneMax)\n",
    "\n",
    "# Single-point crossover:\n",
    "toolbox.register(\"mate\", tools.cxTwoPoint)\n",
    "\n",
    "# Mutación Flip-bit:\n",
    "# indpb: Probabilidad independiente de que cada atributo sea invertido\n",
    "toolbox.register(\"mutate\", tools.mutFlipBit, indpb=0.10)\n",
    "\n",
    "# Selección de torneo con tamaño de torneo de 3:\n",
    "toolbox.register(\"select\", tools.selTournament, tournsize=3)"
   ]
  },
  {
   "cell_type": "markdown",
   "id": "3cf01b5d",
   "metadata": {},
   "source": [
    "La evaluación recibe el alias `evaluate`. Teniendo un solo argumento siendo el individuo a evaluar, no necesitamos corregir ninguno, el individuo se dará más adelante en el algoritmo. La función de cruce de dos puntos se registra de la misma manera bajo el alias `mate`. La mutación, por su parte, necesita un argumento para ser fijado (la probabilidad independiente de que cada atributo sea mutado `indpb`). En los algoritmos, la función `mutate()` se llama con la firma `toolbox.mutate(mutant)`. Esta es la forma más conveniente porque cada mutación toma una cantidad diferente de argumentos, tener esos argumentos fijos en la caja de herramientas deja abiertas la mayoría de las posibilidades para cambiar el operador de mutación (cruce, selección o evaluación) más adelante en sus investigaciones. Finalmente, el operador de selección se registra con el nombre `select` y el tamaño del torneo se establece en 3.\n",
    "Con esto, podemos mutar a un individuo y esperar que se invierta el 10% de sus atributos.\n"
   ]
  },
  {
   "cell_type": "code",
   "execution_count": 8,
   "id": "abeccfc6",
   "metadata": {
    "collapsed": false,
    "jupyter": {
     "outputs_hidden": false
    },
    "tags": []
   },
   "outputs": [
    {
     "name": "stdout",
     "output_type": "stream",
     "text": [
      "[0, 0, 1, 1, 0, 0, 0, 0, 1, 1]\n",
      "[0, 0, 1, 1, 0, 0, 0, 0, 1, 0]\n"
     ]
    }
   ],
   "source": [
    "ind = toolbox.individualCreator()\n",
    "print(ind)\n",
    "toolbox.mutate(ind)\n",
    "print(ind)"
   ]
  },
  {
   "cell_type": "markdown",
   "id": "a351a8a6",
   "metadata": {},
   "source": [
    "Los operadores ejecutan su comportamiento sobre los individuos en el lugar, lo que significa que si el individuo no se copia antes de modificarse, el antiguo individuo se pierde. La copia de un individuo se realiza con la función `clone` disponible en cada caja de herramientas."
   ]
  },
  {
   "cell_type": "code",
   "execution_count": 9,
   "id": "7ea44c96",
   "metadata": {
    "collapsed": false,
    "jupyter": {
     "outputs_hidden": false
    },
    "tags": []
   },
   "outputs": [
    {
     "name": "stdout",
     "output_type": "stream",
     "text": [
      "False\n",
      "True\n"
     ]
    }
   ],
   "source": [
    "mutant = toolbox.clone(ind)\n",
    "print(mutant is ind)\n",
    "print(mutant == ind)"
   ]
  },
  {
   "cell_type": "markdown",
   "id": "5a1a859c",
   "metadata": {},
   "source": [
    "## Evolución de la población\n",
    "\n",
    "El programa principal es muy simple. Consiste en generar una población, y dársela al algoritmo para que evolucione una solución. Aquí emplearemos algunas herramientas de introspección útiles, como las estadísticas y el Salón de la fama (`HallOfFame`). Las estadísticas se calculan utilizando funciones \"numpy\" sobre la población, y el salón de la fama realiza un seguimiento de los mejores individuos que han aparecido durante la evolución. El algoritmo toma como argumentos, entre otros, la población y la caja de herramientas. Una vez finalizada la evolución la población contiene los individuos de la última generación."
   ]
  },
  {
   "cell_type": "code",
   "execution_count": 10,
   "id": "b0e40db1-3032-4c1e-84f6-73d0f63fbb66",
   "metadata": {
    "tags": []
   },
   "outputs": [],
   "source": [
    "def main():\n",
    "    import numpy\n",
    "    \n",
    "    pop = toolbox.populationCreator(n=50)\n",
    "    hof = tools.HallOfFame(1)\n",
    "    stats = tools.Statistics(lambda ind: ind.fitness.values)\n",
    "    stats.register(\"avg\", numpy.mean)\n",
    "    stats.register(\"min\", numpy.min)\n",
    "    stats.register(\"max\", numpy.max)\n",
    "    \n",
    "    pop, logbook = algorithms.eaSimple(pop, toolbox, cxpb=0.5, mutpb=0.2, ngen=10, stats=stats, halloffame=hof, verbose=True)\n",
    "    \n",
    "    return pop, logbook, hof"
   ]
  },
  {
   "cell_type": "markdown",
   "id": "0a061dad",
   "metadata": {},
   "source": [
    "A continuación, protegemos nuestra llamada a la función principal y lanzamos la evolución, el argumento detallado indica que se generan las estadísticas en cada generación. Podemos imprimir y trazar los datos devueltos."
   ]
  },
  {
   "cell_type": "code",
   "execution_count": 11,
   "id": "56b3901f",
   "metadata": {
    "collapsed": false,
    "jupyter": {
     "outputs_hidden": false
    },
    "tags": []
   },
   "outputs": [
    {
     "name": "stdout",
     "output_type": "stream",
     "text": [
      "gen\tnevals\tavg \tmin\tmax\n",
      "0  \t50    \t5.34\t2  \t8  \n",
      "1  \t32    \t6.16\t4  \t9  \n",
      "2  \t29    \t7.16\t4  \t9  \n",
      "3  \t29    \t8   \t6  \t10 \n",
      "4  \t44    \t8.56\t6  \t10 \n",
      "5  \t26    \t9.28\t6  \t10 \n",
      "6  \t33    \t9.68\t6  \t10 \n",
      "7  \t29    \t9.72\t6  \t10 \n",
      "8  \t38    \t9.74\t7  \t10 \n",
      "9  \t30    \t9.86\t8  \t10 \n",
      "10 \t35    \t9.8 \t6  \t10 \n",
      "El mejor individuo es: [1, 1, 1, 1, 1, 1, 1, 1, 1, 1]\n",
      "con rendimiento-fitness: (10.0,)\n"
     ]
    },
    {
     "data": {
      "image/png": "[encoded data removed]",
      "text/plain": [
       "<Figure size 640x480 with 1 Axes>"
      ]
     },
     "metadata": {},
     "output_type": "display_data"
    }
   ],
   "source": [
    "if __name__ == \"__main__\":\n",
    "    pop, log, hof = main()\n",
    "    print(\"El mejor individuo es: %s\\ncon rendimiento-fitness: %s\" % (hof[0], hof[0].fitness))\n",
    "    \n",
    "    import matplotlib.pyplot as plt\n",
    "    gen, avg, min_, max_ = log.select(\"gen\", \"avg\", \"min\", \"max\")\n",
    "    plt.plot(gen, avg, label=\"average\")\n",
    "    plt.plot(gen, min_, label=\"minimum\")\n",
    "    plt.plot(gen, max_, label=\"maximum\")\n",
    "    plt.xlabel(\"Generacion\")\n",
    "    plt.ylabel(\"rendimiento-Fitness\")\n",
    "    plt.legend(loc=\"lower right\")\n",
    "    plt.show()"
   ]
  },
  {
   "cell_type": "code",
   "execution_count": 22,
   "id": "02284e6a",
   "metadata": {
    "collapsed": false,
    "jupyter": {
     "outputs_hidden": false
    }
   },
   "outputs": [],
   "source": []
  }
 ],
 "metadata": {
  "kernelspec": {
   "display_name": "Python 3 (ipykernel)",
   "language": "python",
   "name": "python3"
  },
  "language_info": {
   "codemirror_mode": {
    "name": "ipython",
    "version": 3
   },
   "file_extension": ".py",
   "mimetype": "text/x-python",
   "name": "python",
   "nbconvert_exporter": "python",
   "pygments_lexer": "ipython3",
   "version": "3.10.10"
  }
 },
 "nbformat": 4,
 "nbformat_minor": 5
}
