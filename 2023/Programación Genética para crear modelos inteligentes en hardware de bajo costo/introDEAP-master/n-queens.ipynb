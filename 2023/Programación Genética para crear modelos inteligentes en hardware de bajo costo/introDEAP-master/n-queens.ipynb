{
 "cells": [
  {
   "cell_type": "markdown",
   "id": "1d3dfbab",
   "metadata": {},
   "source": [
    "# Problema n-queens\n",
    "La tarea era colocar ocho reinas de ajedrez en el tablero sin que dos de ellas se amenazaran entre sí. En otras palabras, no hay dos reinas que puedan compartir la misma fila, la misma columna o la misma diagonal. El problema de las N-Reinas es similar, usando un tablero de ajedrez N×N y N reinas de ajedrez.\n",
    "\n",
    "## Módulos requeridos para nuestra evolución.\n",
    "- `random` nos da una forma de generar bits aleatorios;\n",
    "- `base` nos da acceso a Toolbox y base Fitness;\n",
    "- `creator` nos permite crear nuestros tipos;\n",
    "- `tools` nos da acceso al banco de operadores;\n",
    "- `array` nos permite hacer operaciones con arreglos.\n",
    "- `numpy`\n",
    "- `matplotlib`\n",
    "- `seaborn`\n",
    "\n",
    "## Módulos creados\n",
    "- `elitism`\n",
    "- `queens`"
   ]
  },
  {
   "cell_type": "code",
   "execution_count": 1,
   "id": "02cc1cad",
   "metadata": {
    "collapsed": false,
    "jupyter": {
     "outputs_hidden": false
    },
    "tags": []
   },
   "outputs": [],
   "source": [
    "import random\n",
    "import array\n",
    "from deap import base, creator, tools\n",
    "\n",
    "import elitism\n",
    "import queens\n",
    "\n",
    "# problem constants:\n",
    "NUM_OF_QUEENS = 8\n",
    "\n",
    "# Genetic Algorithm constants:\n",
    "POPULATION_SIZE = 300\n",
    "MAX_GENERATIONS = 100\n",
    "HALL_OF_FAME_SIZE = 30\n",
    "P_CROSSOVER = 0.9  # probability for crossover\n",
    "P_MUTATION = 0.1   # probability for mutating an individual\n",
    "\n",
    "# set the random seed for repeatable results\n",
    "RANDOM_SEED = 42\n",
    "random.seed(RANDOM_SEED)"
   ]
  },
  {
   "cell_type": "markdown",
   "id": "626a5f00",
   "metadata": {
    "tags": []
   },
   "source": [
    "## Representación del problema\n",
    "Para encapsular el problema N-Queens, hemos creado una clase de Python llamada queens.py. La clase se inicializa con el tamaño deseado del problema y proporciona los siguientes métodos públicos: \n",
    "getViolationsCount(positions): calcula el número de infracciones en la solución dada, que está representado por una lista de índices.\n",
    "plotBoard(posiciones): Traza las posiciones de las reinas en el tablero de acuerdo con la solución dada"
   ]
  },
  {
   "cell_type": "code",
   "execution_count": 2,
   "id": "d806dc0a",
   "metadata": {
    "collapsed": false,
    "jupyter": {
     "outputs_hidden": false
    },
    "tags": []
   },
   "outputs": [],
   "source": [
    "nQueens = queens.NQueensProblem(NUM_OF_QUEENS)\n",
    "\n",
    "creator.create(\"FitnessMin\", base.Fitness, weights=(-1.0,))\n",
    "creator.create(\"Individual\", array.array, typecode='i', fitness=creator.FitnessMin)"
   ]
  },
  {
   "cell_type": "markdown",
   "id": "f661b7df",
   "metadata": {},
   "source": [
    "La segunda línea pasa las propiedades de base.Fitness a FitnessMin donde se minimizará la actitud, tomando como referencia el atributo de pesos (-1.0,). La tercera línea crea una clase Individual que hereda las propiedades del arreglo y adquiere el atributo del tipo FitnessMin que se acaba de crear.\n"
   ]
  },
  {
   "cell_type": "markdown",
   "id": "bc267138-5bcb-4516-8b6f-41c62e525bb7",
   "metadata": {
    "tags": []
   },
   "source": [
    "## Toolbox\n",
    "Dado que la solución está representada por una lista ordenada de enteros, cada uno representando una ubicación de columna de una reina, usamos las siguientes definiciones de caja de herramientas para crear la población inicial:"
   ]
  },
  {
   "cell_type": "code",
   "execution_count": 3,
   "id": "40b4d4c8",
   "metadata": {
    "collapsed": false,
    "jupyter": {
     "outputs_hidden": false
    },
    "tags": []
   },
   "outputs": [],
   "source": [
    "toolbox = base.Toolbox()\n",
    "# create an operator that generates randomly shuffled indices:\n",
    "toolbox.register(\"randomOrder\", random.sample, range(len(nQueens)), len(nQueens))\n",
    "\n",
    "# create the individual creation operator to fill up an Individual instance with shuffled indices:\n",
    "toolbox.register(\"individualCreator\", tools.initIterate, creator.Individual, toolbox.randomOrder)\n",
    "\n",
    "# create the population creation operator to generate a list of individuals:\n",
    "toolbox.register(\"populationCreator\", tools.initRepeat, list, toolbox.individualCreator)"
   ]
  },
  {
   "cell_type": "markdown",
   "id": "ea94d892",
   "metadata": {},
   "source": [
    "## Evaluación de la Función\n",
    "La función de aptitud se establece para contar el número de infracciones causadas por la colocación de las damas en el tablero de ajedrez, representadas por cada solución individual:"
   ]
  },
  {
   "cell_type": "code",
   "execution_count": 4,
   "id": "702a7afc",
   "metadata": {
    "collapsed": false,
    "jupyter": {
     "outputs_hidden": false
    },
    "tags": []
   },
   "outputs": [],
   "source": [
    "# fitness calculation - compute the total distance of the list of cities represented by indices:\n",
    "def getViolationsCount(individual):\n",
    "    return nQueens.getViolationsCount(individual),  # return a tuple"
   ]
  },
  {
   "cell_type": "markdown",
   "id": "56af98be",
   "metadata": {},
   "source": [
    "## Operadores Genéticos\n",
    "En cuanto a los operadores genéticos, utilizamos la selección de torneos con un tamaño de torneo de 2, así como los operadores de cruce y mutación, que están especializados para listas ordenadas:"
   ]
  },
  {
   "cell_type": "code",
   "execution_count": 5,
   "id": "412d7141",
   "metadata": {
    "collapsed": false,
    "jupyter": {
     "outputs_hidden": false
    },
    "tags": []
   },
   "outputs": [],
   "source": [
    "toolbox.register(\"evaluate\", getViolationsCount)\n",
    "\n",
    "# Genetic operators:\n",
    "toolbox.register(\"select\", tools.selTournament, tournsize=2)\n",
    "toolbox.register(\"mate\", tools.cxUniformPartialyMatched, indpb=2.0/len(nQueens))\n",
    "toolbox.register(\"mutate\", tools.mutShuffleIndexes, indpb=1.0/len(nQueens))"
   ]
  },
  {
   "cell_type": "markdown",
   "id": "5a1a859c",
   "metadata": {},
   "source": [
    "## Evolución de la población\n",
    "El programa principal es muy simple. Consiste en generar una población, y dársela al algoritmo para que evolucione una solución. Además, continuamos utilizando el enfoque elitista, donde los miembros del salón de la fama (HOF), los mejores individuos actuales, siempre pasan intactos a la próxima generación. Como descubrimos en el capítulo anterior, este enfoque funciona bien con una selección de torneo de tamaño 2:"
   ]
  },
  {
   "cell_type": "code",
   "execution_count": 6,
   "id": "b0e40db1-3032-4c1e-84f6-73d0f63fbb66",
   "metadata": {
    "tags": []
   },
   "outputs": [],
   "source": [
    "# Genetic Algorithm flow:\n",
    "def main():\n",
    "    import numpy\n",
    "    \n",
    "    # create initial population (generation 0):\n",
    "    pop = toolbox.populationCreator(n=POPULATION_SIZE)\n",
    "\n",
    "    # prepare the statistics object:\n",
    "    stats = tools.Statistics(lambda ind: ind.fitness.values)\n",
    "    stats.register(\"min\", numpy.min)\n",
    "    stats.register(\"avg\", numpy.mean)\n",
    "\n",
    "    # define the hall-of-fame object:\n",
    "    hof = tools.HallOfFame(HALL_OF_FAME_SIZE)\n",
    "\n",
    "    # perform the Genetic Algorithm flow with hof feature added:\n",
    "    pop, logbook = elitism.eaSimpleWithElitism(pop, toolbox, cxpb=P_CROSSOVER, mutpb=P_MUTATION,\n",
    "                                              ngen=MAX_GENERATIONS, stats=stats, halloffame=hof, verbose=True)\n",
    "\n",
    "    return pop, logbook, hof"
   ]
  },
  {
   "cell_type": "markdown",
   "id": "0a061dad",
   "metadata": {},
   "source": [
    "Dado que cada problema de N-Queens puede tener múltiples soluciones posibles, imprimimos todos los miembros del salón de la fama, en lugar de solo el primero, para que podamos ver cuántas soluciones válidas encontramos:"
   ]
  },
  {
   "cell_type": "code",
   "execution_count": 7,
   "id": "56b3901f",
   "metadata": {
    "collapsed": false,
    "jupyter": {
     "outputs_hidden": false
    },
    "tags": []
   },
   "outputs": [
    {
     "name": "stdout",
     "output_type": "stream",
     "text": [
      "gen\tnevals\tmin\tavg    \n",
      "0  \t300   \t1  \t5.08667\n",
      "1  \t251   \t0  \t3.98333\n",
      "2  \t242   \t0  \t3.47667\n",
      "3  \t245   \t0  \t3.53333\n",
      "4  \t249   \t0  \t3.39667\n",
      "5  \t248   \t0  \t3.32   \n",
      "6  \t252   \t0  \t3.54667\n",
      "7  \t246   \t0  \t3.26   \n",
      "8  \t249   \t0  \t3.27   \n",
      "9  \t241   \t0  \t3.41667\n",
      "10 \t239   \t0  \t3.43667\n",
      "11 \t244   \t0  \t3.29333\n",
      "12 \t248   \t0  \t3.12667\n",
      "13 \t246   \t0  \t3.15333\n",
      "14 \t243   \t0  \t3.47667\n",
      "15 \t234   \t0  \t3.47667\n",
      "16 \t247   \t0  \t3.15667\n",
      "17 \t239   \t0  \t3.15   \n",
      "18 \t250   \t0  \t3.09667\n",
      "19 \t246   \t0  \t2.95333\n",
      "20 \t247   \t0  \t2.99667\n",
      "21 \t245   \t0  \t3.03   \n",
      "22 \t249   \t0  \t3.22   \n",
      "23 \t236   \t0  \t3.12667\n",
      "24 \t251   \t0  \t3.09333\n",
      "25 \t228   \t0  \t3.03333\n",
      "26 \t243   \t0  \t3.13   \n",
      "27 \t240   \t0  \t3.12667\n",
      "28 \t240   \t0  \t3.00333\n",
      "29 \t245   \t0  \t2.98   \n",
      "30 \t246   \t0  \t3.28333\n",
      "31 \t237   \t0  \t3.30333\n",
      "32 \t245   \t0  \t3.25333\n",
      "33 \t242   \t0  \t3.12333\n",
      "34 \t246   \t0  \t3.27   \n",
      "35 \t247   \t0  \t3.05667\n",
      "36 \t238   \t0  \t2.94   \n",
      "37 \t256   \t0  \t2.99333\n",
      "38 \t244   \t0  \t2.99   \n",
      "39 \t240   \t0  \t2.98333\n",
      "40 \t236   \t0  \t3.02667\n",
      "41 \t244   \t0  \t2.88   \n",
      "42 \t240   \t0  \t2.87667\n",
      "43 \t250   \t0  \t3.05667\n",
      "44 \t250   \t0  \t3.08   \n",
      "45 \t238   \t0  \t3.16333\n",
      "46 \t251   \t0  \t3.21   \n",
      "47 \t248   \t0  \t3.02   \n",
      "48 \t248   \t0  \t3.15333\n",
      "49 \t250   \t0  \t2.95333\n",
      "50 \t240   \t0  \t2.75333\n",
      "51 \t247   \t0  \t2.99   \n",
      "52 \t251   \t0  \t3.10333\n",
      "53 \t240   \t0  \t2.83667\n",
      "54 \t247   \t0  \t3.1    \n",
      "55 \t242   \t0  \t2.91   \n",
      "56 \t244   \t0  \t2.91   \n",
      "57 \t248   \t0  \t3.12667\n",
      "58 \t253   \t0  \t3.06667\n",
      "59 \t241   \t0  \t2.91   \n",
      "60 \t229   \t0  \t2.94667\n",
      "61 \t247   \t0  \t2.77333\n",
      "62 \t244   \t0  \t2.88333\n",
      "63 \t248   \t0  \t2.91333\n",
      "64 \t258   \t0  \t3.01667\n",
      "65 \t244   \t0  \t2.96667\n",
      "66 \t248   \t0  \t3.01333\n",
      "67 \t246   \t0  \t2.96333\n",
      "68 \t249   \t0  \t3.14333\n",
      "69 \t242   \t0  \t3.02667\n",
      "70 \t241   \t0  \t3.01   \n",
      "71 \t243   \t0  \t2.88   \n",
      "72 \t241   \t0  \t2.96667\n",
      "73 \t247   \t0  \t2.96333\n",
      "74 \t237   \t0  \t2.91667\n",
      "75 \t254   \t0  \t3.16667\n",
      "76 \t252   \t0  \t3.21667\n",
      "77 \t237   \t0  \t3.16   \n",
      "78 \t241   \t0  \t2.85   \n",
      "79 \t248   \t0  \t3.08667\n",
      "80 \t239   \t0  \t3.04667\n",
      "81 \t254   \t0  \t3.03   \n",
      "82 \t245   \t0  \t3.08667\n",
      "83 \t244   \t0  \t3.15667\n",
      "84 \t248   \t0  \t3.05333\n",
      "85 \t231   \t0  \t2.88667\n",
      "86 \t250   \t0  \t3.10667\n",
      "87 \t251   \t0  \t3.07333\n",
      "88 \t237   \t0  \t2.95333\n",
      "89 \t249   \t0  \t2.86   \n",
      "90 \t249   \t0  \t2.97333\n",
      "91 \t228   \t0  \t2.79333\n",
      "92 \t247   \t0  \t2.83333\n",
      "93 \t254   \t0  \t2.91   \n",
      "94 \t251   \t0  \t3.18333\n",
      "95 \t248   \t0  \t3      \n",
      "96 \t237   \t0  \t2.75333\n",
      "97 \t233   \t0  \t2.85667\n",
      "98 \t244   \t0  \t2.95   \n",
      "99 \t245   \t0  \t2.97667\n",
      "100\t251   \t0  \t3.10333\n",
      "- Las mejores soluciones son:\n",
      "0 :  0.0  ->  Individual('i', [3, 5, 7, 2, 0, 6, 4, 1])\n",
      "1 :  0.0  ->  Individual('i', [3, 7, 0, 2, 5, 1, 6, 4])\n",
      "2 :  0.0  ->  Individual('i', [5, 2, 0, 7, 4, 1, 3, 6])\n",
      "3 :  0.0  ->  Individual('i', [2, 5, 3, 1, 7, 4, 6, 0])\n",
      "4 :  0.0  ->  Individual('i', [6, 2, 7, 1, 4, 0, 5, 3])\n",
      "5 :  0.0  ->  Individual('i', [4, 0, 7, 5, 2, 6, 1, 3])\n",
      "6 :  0.0  ->  Individual('i', [6, 3, 1, 7, 5, 0, 2, 4])\n",
      "7 :  0.0  ->  Individual('i', [6, 4, 2, 0, 5, 7, 1, 3])\n",
      "8 :  0.0  ->  Individual('i', [5, 3, 0, 4, 7, 1, 6, 2])\n",
      "9 :  0.0  ->  Individual('i', [4, 1, 3, 5, 7, 2, 0, 6])\n",
      "10 :  0.0  ->  Individual('i', [5, 2, 0, 6, 4, 7, 1, 3])\n",
      "11 :  0.0  ->  Individual('i', [7, 3, 0, 2, 5, 1, 6, 4])\n",
      "12 :  0.0  ->  Individual('i', [7, 2, 0, 5, 1, 4, 6, 3])\n",
      "13 :  0.0  ->  Individual('i', [6, 2, 0, 5, 7, 4, 1, 3])\n",
      "14 :  0.0  ->  Individual('i', [4, 0, 7, 3, 1, 6, 2, 5])\n",
      "15 :  0.0  ->  Individual('i', [4, 2, 0, 5, 7, 1, 3, 6])\n",
      "16 :  0.0  ->  Individual('i', [3, 6, 4, 2, 0, 5, 7, 1])\n",
      "17 :  0.0  ->  Individual('i', [7, 1, 4, 2, 0, 6, 3, 5])\n",
      "18 :  0.0  ->  Individual('i', [3, 6, 4, 1, 5, 0, 2, 7])\n",
      "19 :  0.0  ->  Individual('i', [4, 2, 7, 3, 6, 0, 5, 1])\n",
      "20 :  0.0  ->  Individual('i', [4, 6, 0, 3, 1, 7, 5, 2])\n",
      "21 :  0.0  ->  Individual('i', [4, 6, 1, 3, 7, 0, 2, 5])\n",
      "22 :  0.0  ->  Individual('i', [4, 6, 1, 5, 2, 0, 3, 7])\n",
      "23 :  0.0  ->  Individual('i', [4, 6, 1, 5, 2, 0, 7, 3])\n",
      "24 :  0.0  ->  Individual('i', [2, 5, 7, 0, 4, 6, 1, 3])\n",
      "25 :  0.0  ->  Individual('i', [5, 0, 4, 1, 7, 2, 6, 3])\n",
      "26 :  0.0  ->  Individual('i', [4, 2, 0, 6, 1, 7, 5, 3])\n",
      "27 :  0.0  ->  Individual('i', [5, 3, 6, 0, 7, 1, 4, 2])\n",
      "28 :  0.0  ->  Individual('i', [3, 1, 4, 7, 5, 0, 2, 6])\n",
      "29 :  0.0  ->  Individual('i', [2, 0, 6, 4, 7, 1, 3, 5])\n"
     ]
    },
    {
     "data": {
      "image/png": "[encoded data removed]",
      "text/plain": [
       "<Figure size 640x480 with 1 Axes>"
      ]
     },
     "metadata": {},
     "output_type": "display_data"
    },
    {
     "data": {
      "image/png": "[encoded data removed]",
      "text/plain": [
       "<Figure size 640x480 with 1 Axes>"
      ]
     },
     "metadata": {},
     "output_type": "display_data"
    }
   ],
   "source": [
    "if __name__ == \"__main__\":\n",
    "    pop, log, hof = main()\n",
    "    \n",
    "    import matplotlib.pyplot as plt\n",
    "    import seaborn as sns\n",
    "    \n",
    "    # print hall of fame members info:\n",
    "    print(\"- Las mejores soluciones son:\")\n",
    "    for i in range(HALL_OF_FAME_SIZE):\n",
    "        print(i, \": \", hof.items[i].fitness.values[0], \" -> \", hof.items[i])\n",
    "\n",
    "    # plot statistics:\n",
    "    minFitnessValues, meanFitnessValues = log.select(\"min\", \"avg\")\n",
    "    plt.figure(1)\n",
    "    sns.set_style(\"whitegrid\")\n",
    "    plt.plot(minFitnessValues, color='red')\n",
    "    plt.plot(meanFitnessValues, color='green')\n",
    "    plt.xlabel('Generation')\n",
    "    plt.ylabel('Min / Average Fitness')\n",
    "    plt.title('Min and Average fitness over Generations')\n",
    "\n",
    "    # plot best solution:\n",
    "    sns.set_style(\"whitegrid\", {'axes.grid' : False})\n",
    "    nQueens.plotBoard(hof.items[0])\n",
    "\n",
    "    # show both plots:\n",
    "    plt.show()"
   ]
  },
  {
   "cell_type": "code",
   "execution_count": 22,
   "id": "02284e6a",
   "metadata": {
    "collapsed": false,
    "jupyter": {
     "outputs_hidden": false
    }
   },
   "outputs": [],
   "source": []
  }
 ],
 "metadata": {
  "kernelspec": {
   "display_name": "Python 3 (ipykernel)",
   "language": "python",
   "name": "python3"
  },
  "language_info": {
   "codemirror_mode": {
    "name": "ipython",
    "version": 3
   },
   "file_extension": ".py",
   "mimetype": "text/x-python",
   "name": "python",
   "nbconvert_exporter": "python",
   "pygments_lexer": "ipython3",
   "version": "3.10.10"
  }
 },
 "nbformat": 4,
 "nbformat_minor": 5
}
