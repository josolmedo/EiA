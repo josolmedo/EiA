{
 "cells": [
  {
   "cell_type": "markdown",
   "id": "9fb7c6ad",
   "metadata": {},
   "source": [
    "# Machine learning su aplicación en Biología\n",
    "\n",
    "__Análisis de datos biológicos utilizando métodos de machine learning__\n",
    "\n",
    "_MeIA_\n",
    "\n",
    "`2023`"
   ]
  },
  {
   "cell_type": "markdown",
   "id": "bc58cb0f",
   "metadata": {},
   "source": [
    "## K-Nearest Neighbor (K-NN)"
   ]
  },
  {
   "cell_type": "markdown",
   "id": "320c0782",
   "metadata": {},
   "source": [
    "Para una nueva instancia, el K-NN encuantra los puntos de datos más cercanos o los vecinos más cercanos del conjunto de datos a través del cial se entrena el modelo.\n",
    "\n",
    "K-NN considera el número k de los vecinos más cercanos para la nueva entrada, k es generalmente definida por el usuario. La predicción para el nuevo punto de datos es simplemente la clase de sus k puntos de datos más cercanos.\n",
    "\n",
    "Por ejemplo, los síntomas pueden considerarse características y las etiquetas son diagnósticos o tratamientos para este problema.\n",
    "\n",
    "<img src=\"./Imagenes/KnnClassification.png\" width=\"400\" height=\"400\"/>"
   ]
  },
  {
   "cell_type": "markdown",
   "id": "26780873",
   "metadata": {},
   "source": [
    "El valor k es un factor importante para decidir el comportamiento del modelo. Los valores bajos de K pueden comprometer la precisión del modelo, ya que el ruido puede tener un efecto más significativo en el modelo, mientras que los valores altos de k hacen que el algoritmo K-NN sea computacionalmente intensivo. Por lo tanto, se elige un valor más bajo de k que genera una mayor tasa tasa de precisión. La seleccióm de un valor óptimo de k es muy crucial.\n",
    "\n",
    "Se utilizan diferentes tipos de medidas de distancia para encontrar cuáles son los vecinos más cercanos. La medida de distancia más común es la distancia euclidiana."
   ]
  },
  {
   "cell_type": "code",
   "execution_count": 1,
   "id": "5425d4e6",
   "metadata": {},
   "outputs": [],
   "source": [
    "import pandas as pd\n",
    "import seaborn as sns\n",
    "import matplotlib as mpl\n",
    "import matplotlib.pyplot as plt\n",
    "import numpy as np"
   ]
  },
  {
   "cell_type": "code",
   "execution_count": 2,
   "id": "cd6efc9d",
   "metadata": {},
   "outputs": [],
   "source": [
    "dataset = pd.read_csv('Datos/heart.csv')\n",
    "dataset.head()\n",
    "X = dataset.iloc[:,:-1]\n",
    "y = dataset.iloc[:,-1]"
   ]
  },
  {
   "cell_type": "markdown",
   "id": "7a0b2ef6",
   "metadata": {},
   "source": [
    "#### Dividimos el conjunto de datos en entrenamiento y de prueba"
   ]
  },
  {
   "cell_type": "code",
   "execution_count": 3,
   "id": "1bb86f3d",
   "metadata": {},
   "outputs": [],
   "source": [
    "from sklearn.model_selection import train_test_split\n",
    "\n",
    "X_train, X_test, y_train, y_test = train_test_split(X, y, test_size = 0.25,\n",
    "random_state = 0)"
   ]
  },
  {
   "cell_type": "markdown",
   "id": "bfb53230",
   "metadata": {},
   "source": [
    "#### Entrenamiento del modelo K-NN\n",
    "\n",
    "Utilizando la clase KNeighborsClassifier, este usa n_neighbors mientras lo inicializa, este es el parámetroes el valor k. También podemos pasar medidas de distancia, pero por defaul utilizaremos distancia euclidiana. Utilizaremos un valor K=1 y determinaremos la precisión del modelo y y despues investigamos como se podría predecir el valor k óptimo."
   ]
  },
  {
   "cell_type": "code",
   "execution_count": 4,
   "id": "030e0b70",
   "metadata": {},
   "outputs": [
    {
     "data": {
      "text/plain": [
       "KNeighborsClassifier(n_neighbors=1)"
      ]
     },
     "execution_count": 4,
     "metadata": {},
     "output_type": "execute_result"
    }
   ],
   "source": [
    "from sklearn.neighbors import KNeighborsClassifier\n",
    "classifier = KNeighborsClassifier(n_neighbors = 1)\n",
    "classifier.fit(X_train, y_train)"
   ]
  },
  {
   "cell_type": "markdown",
   "id": "eab62570",
   "metadata": {},
   "source": [
    "#### Evaluación con K=1"
   ]
  },
  {
   "cell_type": "code",
   "execution_count": 5,
   "id": "80fe29b4",
   "metadata": {},
   "outputs": [
    {
     "name": "stdout",
     "output_type": "stream",
     "text": [
      "\n",
      "\n",
      "[[12 21]\n",
      " [15 28]]\n",
      "\n",
      "\n",
      "              precision    recall  f1-score   support\n",
      "\n",
      "           0       0.44      0.36      0.40        33\n",
      "           1       0.57      0.65      0.61        43\n",
      "\n",
      "    accuracy                           0.53        76\n",
      "   macro avg       0.51      0.51      0.50        76\n",
      "weighted avg       0.52      0.53      0.52        76\n",
      "\n"
     ]
    }
   ],
   "source": [
    "y_pred = classifier.predict(X_test)\n",
    "from sklearn.metrics import confusion_matrix, classification_report\n",
    "print('\\n')\n",
    "print(confusion_matrix(y_test,y_pred))\n",
    "print('\\n')\n",
    "print(classification_report(y_test,y_pred))"
   ]
  },
  {
   "cell_type": "markdown",
   "id": "9d4bd021",
   "metadata": {},
   "source": [
    "Con K=1 tenemos una exactitud de 53%, que está por debajo de nuestra precisión de referencia."
   ]
  },
  {
   "cell_type": "markdown",
   "id": "650c030b",
   "metadata": {},
   "source": [
    "#### Como elegír un valor K\n",
    "\n",
    "Al elegir un valor k óptimo, iniciaremos el modelo con varios valores k y realizaremos un seguimiento de los errores. En este caso, la definición de error es el número de etiquetas predichas incorrectamente o erróneamente a partir de los datos de prueba. A continuación trazaremos los datos de error frente a los valores k y elegiremos los valores k con error mínimo."
   ]
  },
  {
   "cell_type": "code",
   "execution_count": 6,
   "id": "53999d74",
   "metadata": {},
   "outputs": [],
   "source": [
    "error_rate = []\n",
    "\n",
    "# Will take some time\n",
    "for i in range(1,30):\n",
    "    \n",
    "    knn = KNeighborsClassifier(n_neighbors=i)\n",
    "    knn.fit(X_train,y_train)\n",
    "    pred_i = knn.predict(X_test)\n",
    "    error_rate.append(np.mean(pred_i != y_test))"
   ]
  },
  {
   "cell_type": "code",
   "execution_count": 7,
   "id": "190157dc",
   "metadata": {},
   "outputs": [
    {
     "data": {
      "text/plain": [
       "Text(0, 0.5, 'Error Rate')"
      ]
     },
     "execution_count": 7,
     "metadata": {},
     "output_type": "execute_result"
    },
    {
     "data": {
      "image/png": "[encoded data removed]",
      "text/plain": [
       "<Figure size 720x432 with 1 Axes>"
      ]
     },
     "metadata": {
      "needs_background": "light"
     },
     "output_type": "display_data"
    }
   ],
   "source": [
    "plt.figure(figsize=(10,6))\n",
    "plt.plot(range(1,30),error_rate,color='black')\n",
    "plt.title('Error Rate vs. K Value')\n",
    "plt.xlabel('K Value')\n",
    "plt.ylabel('Error Rate')"
   ]
  },
  {
   "cell_type": "markdown",
   "id": "f14aab68",
   "metadata": {},
   "source": [
    "La gráfica de la tasa de error frente al valor k a menudo se denomina gráfica de codo porqie inicialmente, los valores pequeños de k suelen tener tasas de error más añtas. La tasa de error disminuye gradualmente con un aumento de valor k y, finalmente, la curva se aplana y se asemeja a un codo. LA gráfica muestra que el error es bajo en ciertos valores de k. Seleccionamos el menor valor k entre los valores k que producen un error bajo. Por lo tanto tomemos k=11."
   ]
  },
  {
   "cell_type": "code",
   "execution_count": 8,
   "id": "ba7dad5f",
   "metadata": {},
   "outputs": [
    {
     "name": "stdout",
     "output_type": "stream",
     "text": [
      "[[20 13]\n",
      " [ 9 34]]\n",
      "\n",
      "\n",
      "              precision    recall  f1-score   support\n",
      "\n",
      "           0       0.69      0.61      0.65        33\n",
      "           1       0.72      0.79      0.76        43\n",
      "\n",
      "    accuracy                           0.71        76\n",
      "   macro avg       0.71      0.70      0.70        76\n",
      "weighted avg       0.71      0.71      0.71        76\n",
      "\n"
     ]
    }
   ],
   "source": [
    "from sklearn.neighbors import KNeighborsClassifier\n",
    "classifier = KNeighborsClassifier(n_neighbors = 11)\n",
    "classifier.fit(X_train, y_train)\n",
    "y_pred = classifier.predict(X_test)\n",
    "from sklearn.metrics import confusion_matrix, classification_report\n",
    "print(confusion_matrix(y_test,y_pred))\n",
    "print('\\n')\n",
    "print(classification_report(y_test,y_pred))"
   ]
  },
  {
   "cell_type": "markdown",
   "id": "d4129e36",
   "metadata": {},
   "source": [
    "Podemos identificar que el modelo mejoro y tiene una exactitud del 71%. "
   ]
  },
  {
   "cell_type": "markdown",
   "id": "0e3299cc",
   "metadata": {},
   "source": [
    "#### Escalando datos"
   ]
  },
  {
   "cell_type": "code",
   "execution_count": 9,
   "id": "a6cd7576",
   "metadata": {},
   "outputs": [],
   "source": [
    "from sklearn.preprocessing import StandardScaler\n",
    "sc = StandardScaler()\n",
    "X_norm = sc.fit_transform(X)\n",
    "from sklearn.model_selection import train_test_split\n",
    "X_train, X_test, y_train, y_test = train_test_split(X_norm, y, test_size =\n",
    "0.25, random_state = 0)"
   ]
  },
  {
   "cell_type": "code",
   "execution_count": 10,
   "id": "1187c402",
   "metadata": {},
   "outputs": [
    {
     "data": {
      "text/plain": [
       "Text(0, 0.5, 'Error Rate')"
      ]
     },
     "execution_count": 10,
     "metadata": {},
     "output_type": "execute_result"
    },
    {
     "data": {
      "image/png": "[encoded data removed]",
      "text/plain": [
       "<Figure size 720x432 with 1 Axes>"
      ]
     },
     "metadata": {
      "needs_background": "light"
     },
     "output_type": "display_data"
    }
   ],
   "source": [
    "error_rate = []\n",
    "\n",
    "# Will take some time\n",
    "for i in range(1,15):\n",
    "    \n",
    "    knn = KNeighborsClassifier(n_neighbors=i)\n",
    "    knn.fit(X_train,y_train)\n",
    "    pred_i = knn.predict(X_test)\n",
    "    error_rate.append(np.mean(pred_i != y_test))\n",
    "\n",
    "plt.figure(figsize=(10,6))\n",
    "plt.plot(range(1,15),error_rate,color='black')\n",
    "plt.title('Error Rate vs. K Value')\n",
    "plt.xlabel('K value')\n",
    "plt.ylabel('Error Rate')"
   ]
  },
  {
   "cell_type": "code",
   "execution_count": 11,
   "id": "133ae000",
   "metadata": {},
   "outputs": [
    {
     "name": "stdout",
     "output_type": "stream",
     "text": [
      "[[27  6]\n",
      " [ 4 39]]\n",
      "\n",
      "\n",
      "              precision    recall  f1-score   support\n",
      "\n",
      "           0       0.87      0.82      0.84        33\n",
      "           1       0.87      0.91      0.89        43\n",
      "\n",
      "    accuracy                           0.87        76\n",
      "   macro avg       0.87      0.86      0.87        76\n",
      "weighted avg       0.87      0.87      0.87        76\n",
      "\n"
     ]
    }
   ],
   "source": [
    "from sklearn.neighbors import KNeighborsClassifier\n",
    "classifier = KNeighborsClassifier(n_neighbors = 8)\n",
    "classifier.fit(X_train, y_train)\n",
    "y_pred = classifier.predict(X_test)\n",
    "from sklearn.metrics import confusion_matrix, classification_report\n",
    "print(confusion_matrix(y_test,y_pred))\n",
    "print('\\n')\n",
    "print(classification_report(y_test,y_pred))"
   ]
  },
  {
   "cell_type": "markdown",
   "id": "81141a17",
   "metadata": {},
   "source": [
    "Con el escalado de datos obtenemos una exactitud de 87%. "
   ]
  },
  {
   "cell_type": "markdown",
   "id": "df7ba57b",
   "metadata": {},
   "source": [
    "#### Predicción de nuevos valores"
   ]
  },
  {
   "cell_type": "code",
   "execution_count": 12,
   "id": "db0cb9ed",
   "metadata": {},
   "outputs": [
    {
     "data": {
      "text/plain": [
       "age          41.0\n",
       "sex           0.0\n",
       "cp            1.0\n",
       "trestbps    130.0\n",
       "chol        204.0\n",
       "fbs           0.0\n",
       "restecg       0.0\n",
       "thalach     172.0\n",
       "exang         0.0\n",
       "oldpeak       1.4\n",
       "slope         2.0\n",
       "ca            0.0\n",
       "thal          2.0\n",
       "target        1.0\n",
       "Name: 2, dtype: float64"
      ]
     },
     "execution_count": 12,
     "metadata": {},
     "output_type": "execute_result"
    }
   ],
   "source": [
    "#Tomemos una instancia desde el data set original\n",
    "dataset.iloc[2,:]"
   ]
  },
  {
   "cell_type": "code",
   "execution_count": 13,
   "id": "ce479331",
   "metadata": {},
   "outputs": [
    {
     "name": "stderr",
     "output_type": "stream",
     "text": [
      "/Users/galanve/opt/anaconda3/lib/python3.9/site-packages/sklearn/base.py:450: UserWarning: X does not have valid feature names, but StandardScaler was fitted with feature names\n",
      "  warnings.warn(\n"
     ]
    },
    {
     "data": {
      "text/plain": [
       "array([1])"
      ]
     },
     "execution_count": 13,
     "metadata": {},
     "output_type": "execute_result"
    }
   ],
   "source": [
    "new_data=dataset.iloc[2,:-1].values\n",
    "#realizamos la predicción de la etiqueta con base a los datos\n",
    "classifier.predict(sc.transform([new_data]))"
   ]
  },
  {
   "cell_type": "markdown",
   "id": "f7ed657b",
   "metadata": {},
   "source": [
    "### Diagnóstico de la enfermedad hepática usando K-NN\n",
    "\n",
    "Utilizaremos el conjunto de datos de hígado (Venkata Ramana et al. 2011) que se compone de 10 características indpendientes y 583 observaciones."
   ]
  },
  {
   "cell_type": "code",
   "execution_count": 14,
   "id": "44fc4305",
   "metadata": {
    "scrolled": true
   },
   "outputs": [
    {
     "data": {
      "text/html": [
       "<div>\n",
       "<style scoped>\n",
       "    .dataframe tbody tr th:only-of-type {\n",
       "        vertical-align: middle;\n",
       "    }\n",
       "\n",
       "    .dataframe tbody tr th {\n",
       "        vertical-align: top;\n",
       "    }\n",
       "\n",
       "    .dataframe thead th {\n",
       "        text-align: right;\n",
       "    }\n",
       "</style>\n",
       "<table border=\"1\" class=\"dataframe\">\n",
       "  <thead>\n",
       "    <tr style=\"text-align: right;\">\n",
       "      <th></th>\n",
       "      <th>0</th>\n",
       "      <th>1</th>\n",
       "      <th>2</th>\n",
       "      <th>3</th>\n",
       "      <th>4</th>\n",
       "    </tr>\n",
       "  </thead>\n",
       "  <tbody>\n",
       "    <tr>\n",
       "      <th>Age</th>\n",
       "      <td>65</td>\n",
       "      <td>62</td>\n",
       "      <td>62</td>\n",
       "      <td>58</td>\n",
       "      <td>72</td>\n",
       "    </tr>\n",
       "    <tr>\n",
       "      <th>Gender</th>\n",
       "      <td>Female</td>\n",
       "      <td>Male</td>\n",
       "      <td>Male</td>\n",
       "      <td>Male</td>\n",
       "      <td>Male</td>\n",
       "    </tr>\n",
       "    <tr>\n",
       "      <th>Total_Bilirubin</th>\n",
       "      <td>0.7</td>\n",
       "      <td>10.9</td>\n",
       "      <td>7.3</td>\n",
       "      <td>1.0</td>\n",
       "      <td>3.9</td>\n",
       "    </tr>\n",
       "    <tr>\n",
       "      <th>Direct_Bilirubin</th>\n",
       "      <td>0.1</td>\n",
       "      <td>5.5</td>\n",
       "      <td>4.1</td>\n",
       "      <td>0.4</td>\n",
       "      <td>2.0</td>\n",
       "    </tr>\n",
       "    <tr>\n",
       "      <th>Alkaline_Phosphotase</th>\n",
       "      <td>187</td>\n",
       "      <td>699</td>\n",
       "      <td>490</td>\n",
       "      <td>182</td>\n",
       "      <td>195</td>\n",
       "    </tr>\n",
       "    <tr>\n",
       "      <th>Alamine_Aminotransferase</th>\n",
       "      <td>16</td>\n",
       "      <td>64</td>\n",
       "      <td>60</td>\n",
       "      <td>14</td>\n",
       "      <td>27</td>\n",
       "    </tr>\n",
       "    <tr>\n",
       "      <th>Aspartate_Aminotransferase</th>\n",
       "      <td>18</td>\n",
       "      <td>100</td>\n",
       "      <td>68</td>\n",
       "      <td>20</td>\n",
       "      <td>59</td>\n",
       "    </tr>\n",
       "    <tr>\n",
       "      <th>Total_Protiens</th>\n",
       "      <td>6.8</td>\n",
       "      <td>7.5</td>\n",
       "      <td>7.0</td>\n",
       "      <td>6.8</td>\n",
       "      <td>7.3</td>\n",
       "    </tr>\n",
       "    <tr>\n",
       "      <th>Albumin</th>\n",
       "      <td>3.3</td>\n",
       "      <td>3.2</td>\n",
       "      <td>3.3</td>\n",
       "      <td>3.4</td>\n",
       "      <td>2.4</td>\n",
       "    </tr>\n",
       "    <tr>\n",
       "      <th>Albumin_and_Globulin_Ratio</th>\n",
       "      <td>0.9</td>\n",
       "      <td>0.74</td>\n",
       "      <td>0.89</td>\n",
       "      <td>1.0</td>\n",
       "      <td>0.4</td>\n",
       "    </tr>\n",
       "    <tr>\n",
       "      <th>Dataset</th>\n",
       "      <td>1</td>\n",
       "      <td>1</td>\n",
       "      <td>1</td>\n",
       "      <td>1</td>\n",
       "      <td>1</td>\n",
       "    </tr>\n",
       "  </tbody>\n",
       "</table>\n",
       "</div>"
      ],
      "text/plain": [
       "                                 0     1     2     3     4\n",
       "Age                             65    62    62    58    72\n",
       "Gender                      Female  Male  Male  Male  Male\n",
       "Total_Bilirubin                0.7  10.9   7.3   1.0   3.9\n",
       "Direct_Bilirubin               0.1   5.5   4.1   0.4   2.0\n",
       "Alkaline_Phosphotase           187   699   490   182   195\n",
       "Alamine_Aminotransferase        16    64    60    14    27\n",
       "Aspartate_Aminotransferase      18   100    68    20    59\n",
       "Total_Protiens                 6.8   7.5   7.0   6.8   7.3\n",
       "Albumin                        3.3   3.2   3.3   3.4   2.4\n",
       "Albumin_and_Globulin_Ratio     0.9  0.74  0.89   1.0   0.4\n",
       "Dataset                          1     1     1     1     1"
      ]
     },
     "execution_count": 14,
     "metadata": {},
     "output_type": "execute_result"
    }
   ],
   "source": [
    "dataset = pd.read_csv('Datos/indian_liver_patient.csv')\n",
    "dataset.head().T"
   ]
  },
  {
   "cell_type": "markdown",
   "id": "a9f15636",
   "metadata": {},
   "source": [
    "Vamos a cambiar el nombre de la variable dependiente de Dataset a Target. La fila Gender tiene los datos en tipo cadena, debido a que los algoritmos solo pueden manejar valores numéricos, por lo que convertiremos estos datos a valores categóricos, Female a 0 y male a 1."
   ]
  },
  {
   "cell_type": "code",
   "execution_count": 15,
   "id": "20d1a98a",
   "metadata": {},
   "outputs": [
    {
     "data": {
      "text/plain": [
       "Age                           0\n",
       "Gender                        0\n",
       "Total_Bilirubin               0\n",
       "Direct_Bilirubin              0\n",
       "Alkaline_Phosphotase          0\n",
       "Alamine_Aminotransferase      0\n",
       "Aspartate_Aminotransferase    0\n",
       "Total_Protiens                0\n",
       "Albumin                       0\n",
       "Albumin_and_Globulin_Ratio    4\n",
       "Target                        0\n",
       "dtype: int64"
      ]
     },
     "execution_count": 15,
     "metadata": {},
     "output_type": "execute_result"
    }
   ],
   "source": [
    "dataset = dataset.rename({'Dataset':'Target'},axis=1)\n",
    "dataset['Gender'] = dataset['Gender'].map({'Female':0,'Male':1})\n",
    "dataset.isnull().sum() ## Analizamos los valores faltantes,\n",
    "#solo Albumin_and_Globulin_Ratio  tiene 4 valores nulos"
   ]
  },
  {
   "cell_type": "markdown",
   "id": "cd8b6da0",
   "metadata": {},
   "source": [
    "### Imputación de valores faltantes\n",
    "\n",
    "Convencionalmente los conjuntos de datos tienden a tener valores faltantes, existen algunas estrategías para tratar con estos valores perdidos.\n",
    "\n",
    "1.- Lo más simple es descartarlos o eliminarlos del conjunto de datos. Sin embargo en conjuntos de datos pequeños esto puedeconducir a la pérdida de información.\n",
    "\n",
    "2.- Otra técnicas es reemplazar el valor nulo con la observación más común de esas características, de acuerdo a la media, la medina o la moda. Esto se denomina imputación del valor perdido. \n",
    "\n",
    "Otra alternativa es realizar una predicción de los calores nulos en función de sus puntos de datos más cercanos o predecir esos valores en función de otras características independientes, utilizando algoritmos de Machine lerarning, preferentemente K-NN realizando una imputación del vecino más cercano."
   ]
  },
  {
   "cell_type": "code",
   "execution_count": 16,
   "id": "eac3d0fc",
   "metadata": {},
   "outputs": [
    {
     "data": {
      "text/plain": [
       "Age                           0\n",
       "Gender                        0\n",
       "Total_Bilirubin               0\n",
       "Direct_Bilirubin              0\n",
       "Alkaline_Phosphotase          0\n",
       "Alamine_Aminotransferase      0\n",
       "Aspartate_Aminotransferase    0\n",
       "Total_Protiens                0\n",
       "Albumin                       0\n",
       "Albumin_and_Globulin_Ratio    0\n",
       "Target                        0\n",
       "dtype: int64"
      ]
     },
     "execution_count": 16,
     "metadata": {},
     "output_type": "execute_result"
    }
   ],
   "source": [
    "#Primero realizaremos una imputación simple utilizando la media\n",
    "from sklearn.impute import SimpleImputer\n",
    "imputer = SimpleImputer(strategy='mean')\n",
    "non_nan_data = imputer.fit_transform(dataset)\n",
    "dataset = pd.DataFrame(non_nan_data,columns = dataset.columns)\n",
    "dataset.isnull().sum()"
   ]
  },
  {
   "cell_type": "code",
   "execution_count": 17,
   "id": "494a8ace",
   "metadata": {},
   "outputs": [
    {
     "data": {
      "text/plain": [
       "Age                           0\n",
       "Gender                        0\n",
       "Total_Bilirubin               0\n",
       "Direct_Bilirubin              0\n",
       "Alkaline_Phosphotase          0\n",
       "Alamine_Aminotransferase      0\n",
       "Aspartate_Aminotransferase    0\n",
       "Total_Protiens                0\n",
       "Albumin                       0\n",
       "Albumin_and_Globulin_Ratio    0\n",
       "Target                        0\n",
       "dtype: int64"
      ]
     },
     "execution_count": 17,
     "metadata": {},
     "output_type": "execute_result"
    }
   ],
   "source": [
    "#También podemos realizar una imputación utilizando K-NN\n",
    "from sklearn.impute import KNNImputer\n",
    "imputer = KNNImputer(n_neighbors=5)\n",
    "non_nan_data = imputer.fit_transform(dataset)\n",
    "dataset = pd.DataFrame(non_nan_data,columns = dataset.columns)\n",
    "dataset.isnull().sum()\n"
   ]
  },
  {
   "cell_type": "code",
   "execution_count": 18,
   "id": "1f3b4404",
   "metadata": {},
   "outputs": [
    {
     "data": {
      "text/plain": [
       "1.0    416\n",
       "2.0    167\n",
       "Name: Target, dtype: int64"
      ]
     },
     "execution_count": 18,
     "metadata": {},
     "output_type": "execute_result"
    }
   ],
   "source": [
    "dataset['Target'].value_counts()"
   ]
  },
  {
   "cell_type": "markdown",
   "id": "8b722e12",
   "metadata": {},
   "source": [
    "El dataset contiene 416 observaciones para pacientes hepáticos y 167 observaciones para pacientes no hepáticos. El dataset esta desequilibrado y tiene una exactitud del 416/583=0.71."
   ]
  },
  {
   "cell_type": "code",
   "execution_count": 19,
   "id": "6217bf09",
   "metadata": {},
   "outputs": [
    {
     "data": {
      "text/html": [
       "<div>\n",
       "<style scoped>\n",
       "    .dataframe tbody tr th:only-of-type {\n",
       "        vertical-align: middle;\n",
       "    }\n",
       "\n",
       "    .dataframe tbody tr th {\n",
       "        vertical-align: top;\n",
       "    }\n",
       "\n",
       "    .dataframe thead th {\n",
       "        text-align: right;\n",
       "    }\n",
       "</style>\n",
       "<table border=\"1\" class=\"dataframe\">\n",
       "  <thead>\n",
       "    <tr style=\"text-align: right;\">\n",
       "      <th></th>\n",
       "      <th>count</th>\n",
       "      <th>mean</th>\n",
       "      <th>std</th>\n",
       "      <th>min</th>\n",
       "      <th>25%</th>\n",
       "      <th>50%</th>\n",
       "      <th>75%</th>\n",
       "      <th>max</th>\n",
       "    </tr>\n",
       "  </thead>\n",
       "  <tbody>\n",
       "    <tr>\n",
       "      <th>Age</th>\n",
       "      <td>583.0</td>\n",
       "      <td>44.746141</td>\n",
       "      <td>16.189833</td>\n",
       "      <td>4.0</td>\n",
       "      <td>33.0</td>\n",
       "      <td>45.000000</td>\n",
       "      <td>58.0</td>\n",
       "      <td>90.0</td>\n",
       "    </tr>\n",
       "    <tr>\n",
       "      <th>Gender</th>\n",
       "      <td>583.0</td>\n",
       "      <td>0.756432</td>\n",
       "      <td>0.429603</td>\n",
       "      <td>0.0</td>\n",
       "      <td>1.0</td>\n",
       "      <td>1.000000</td>\n",
       "      <td>1.0</td>\n",
       "      <td>1.0</td>\n",
       "    </tr>\n",
       "    <tr>\n",
       "      <th>Total_Bilirubin</th>\n",
       "      <td>583.0</td>\n",
       "      <td>3.298799</td>\n",
       "      <td>6.209522</td>\n",
       "      <td>0.4</td>\n",
       "      <td>0.8</td>\n",
       "      <td>1.000000</td>\n",
       "      <td>2.6</td>\n",
       "      <td>75.0</td>\n",
       "    </tr>\n",
       "    <tr>\n",
       "      <th>Direct_Bilirubin</th>\n",
       "      <td>583.0</td>\n",
       "      <td>1.486106</td>\n",
       "      <td>2.808498</td>\n",
       "      <td>0.1</td>\n",
       "      <td>0.2</td>\n",
       "      <td>0.300000</td>\n",
       "      <td>1.3</td>\n",
       "      <td>19.7</td>\n",
       "    </tr>\n",
       "    <tr>\n",
       "      <th>Alkaline_Phosphotase</th>\n",
       "      <td>583.0</td>\n",
       "      <td>290.576329</td>\n",
       "      <td>242.937989</td>\n",
       "      <td>63.0</td>\n",
       "      <td>175.5</td>\n",
       "      <td>208.000000</td>\n",
       "      <td>298.0</td>\n",
       "      <td>2110.0</td>\n",
       "    </tr>\n",
       "    <tr>\n",
       "      <th>Alamine_Aminotransferase</th>\n",
       "      <td>583.0</td>\n",
       "      <td>80.713551</td>\n",
       "      <td>182.620356</td>\n",
       "      <td>10.0</td>\n",
       "      <td>23.0</td>\n",
       "      <td>35.000000</td>\n",
       "      <td>60.5</td>\n",
       "      <td>2000.0</td>\n",
       "    </tr>\n",
       "    <tr>\n",
       "      <th>Aspartate_Aminotransferase</th>\n",
       "      <td>583.0</td>\n",
       "      <td>109.910806</td>\n",
       "      <td>288.918529</td>\n",
       "      <td>10.0</td>\n",
       "      <td>25.0</td>\n",
       "      <td>42.000000</td>\n",
       "      <td>87.0</td>\n",
       "      <td>4929.0</td>\n",
       "    </tr>\n",
       "    <tr>\n",
       "      <th>Total_Protiens</th>\n",
       "      <td>583.0</td>\n",
       "      <td>6.483190</td>\n",
       "      <td>1.085451</td>\n",
       "      <td>2.7</td>\n",
       "      <td>5.8</td>\n",
       "      <td>6.600000</td>\n",
       "      <td>7.2</td>\n",
       "      <td>9.6</td>\n",
       "    </tr>\n",
       "    <tr>\n",
       "      <th>Albumin</th>\n",
       "      <td>583.0</td>\n",
       "      <td>3.141852</td>\n",
       "      <td>0.795519</td>\n",
       "      <td>0.9</td>\n",
       "      <td>2.6</td>\n",
       "      <td>3.100000</td>\n",
       "      <td>3.8</td>\n",
       "      <td>5.5</td>\n",
       "    </tr>\n",
       "    <tr>\n",
       "      <th>Albumin_and_Globulin_Ratio</th>\n",
       "      <td>583.0</td>\n",
       "      <td>0.947064</td>\n",
       "      <td>0.318492</td>\n",
       "      <td>0.3</td>\n",
       "      <td>0.7</td>\n",
       "      <td>0.947064</td>\n",
       "      <td>1.1</td>\n",
       "      <td>2.8</td>\n",
       "    </tr>\n",
       "    <tr>\n",
       "      <th>Target</th>\n",
       "      <td>583.0</td>\n",
       "      <td>1.286449</td>\n",
       "      <td>0.452490</td>\n",
       "      <td>1.0</td>\n",
       "      <td>1.0</td>\n",
       "      <td>1.000000</td>\n",
       "      <td>2.0</td>\n",
       "      <td>2.0</td>\n",
       "    </tr>\n",
       "  </tbody>\n",
       "</table>\n",
       "</div>"
      ],
      "text/plain": [
       "                            count        mean         std   min    25%  \\\n",
       "Age                         583.0   44.746141   16.189833   4.0   33.0   \n",
       "Gender                      583.0    0.756432    0.429603   0.0    1.0   \n",
       "Total_Bilirubin             583.0    3.298799    6.209522   0.4    0.8   \n",
       "Direct_Bilirubin            583.0    1.486106    2.808498   0.1    0.2   \n",
       "Alkaline_Phosphotase        583.0  290.576329  242.937989  63.0  175.5   \n",
       "Alamine_Aminotransferase    583.0   80.713551  182.620356  10.0   23.0   \n",
       "Aspartate_Aminotransferase  583.0  109.910806  288.918529  10.0   25.0   \n",
       "Total_Protiens              583.0    6.483190    1.085451   2.7    5.8   \n",
       "Albumin                     583.0    3.141852    0.795519   0.9    2.6   \n",
       "Albumin_and_Globulin_Ratio  583.0    0.947064    0.318492   0.3    0.7   \n",
       "Target                      583.0    1.286449    0.452490   1.0    1.0   \n",
       "\n",
       "                                   50%    75%     max  \n",
       "Age                          45.000000   58.0    90.0  \n",
       "Gender                        1.000000    1.0     1.0  \n",
       "Total_Bilirubin               1.000000    2.6    75.0  \n",
       "Direct_Bilirubin              0.300000    1.3    19.7  \n",
       "Alkaline_Phosphotase        208.000000  298.0  2110.0  \n",
       "Alamine_Aminotransferase     35.000000   60.5  2000.0  \n",
       "Aspartate_Aminotransferase   42.000000   87.0  4929.0  \n",
       "Total_Protiens                6.600000    7.2     9.6  \n",
       "Albumin                       3.100000    3.8     5.5  \n",
       "Albumin_and_Globulin_Ratio    0.947064    1.1     2.8  \n",
       "Target                        1.000000    2.0     2.0  "
      ]
     },
     "execution_count": 19,
     "metadata": {},
     "output_type": "execute_result"
    }
   ],
   "source": [
    "dataset.describe().T"
   ]
  },
  {
   "cell_type": "code",
   "execution_count": 34,
   "id": "f7633966",
   "metadata": {},
   "outputs": [],
   "source": [
    "X = dataset.iloc[:,:-1]\n",
    "y = dataset.iloc[:,-1]"
   ]
  },
  {
   "cell_type": "code",
   "execution_count": 35,
   "id": "9ad30195",
   "metadata": {},
   "outputs": [],
   "source": [
    "#Escalado de datos\n",
    "from sklearn.preprocessing import StandardScaler\n",
    "sc = StandardScaler()\n",
    "X_norm = sc.fit_transform(X)"
   ]
  },
  {
   "cell_type": "code",
   "execution_count": 39,
   "id": "37514be7",
   "metadata": {},
   "outputs": [],
   "source": [
    "#Dividimos en datos de prueba y entrenamiento\n",
    "from sklearn.model_selection import train_test_split\n",
    "X_train, X_test, y_train, y_test = train_test_split(X, y, test_size = 0.25)"
   ]
  },
  {
   "cell_type": "code",
   "execution_count": 40,
   "id": "4d677ca2",
   "metadata": {},
   "outputs": [
    {
     "data": {
      "text/plain": [
       "Text(0, 0.5, 'Error Rate')"
      ]
     },
     "execution_count": 40,
     "metadata": {},
     "output_type": "execute_result"
    },
    {
     "data": {
      "image/png": "[encoded data removed]",
      "text/plain": [
       "<Figure size 720x432 with 1 Axes>"
      ]
     },
     "metadata": {
      "needs_background": "light"
     },
     "output_type": "display_data"
    }
   ],
   "source": [
    "#Eligimos un valor K\n",
    "\n",
    "error_rate = []\n",
    "\n",
    "# Will take some time\n",
    "for i in range(1,100):\n",
    "    \n",
    "    knn = KNeighborsClassifier(n_neighbors=i)\n",
    "    knn.fit(X_train,y_train)\n",
    "    pred_i = knn.predict(X_test)\n",
    "    error_rate.append(np.mean(pred_i != y_test))\n",
    "\n",
    "plt.figure(figsize=(10,6))\n",
    "plt.plot(range(1,100),error_rate,color='blue', linestyle='dashed', marker='o',\n",
    "         markerfacecolor='red', markersize=10)\n",
    "plt.title('Error Rate vs. K Value')\n",
    "plt.xlabel('K Value')\n",
    "plt.ylabel('Error Rate')"
   ]
  },
  {
   "cell_type": "code",
   "execution_count": 42,
   "id": "4acf062e",
   "metadata": {},
   "outputs": [
    {
     "name": "stdout",
     "output_type": "stream",
     "text": [
      "WITH K=19\n",
      "\n",
      "\n",
      "[[98  6]\n",
      " [30 12]]\n",
      "\n",
      "\n",
      "              precision    recall  f1-score   support\n",
      "\n",
      "         1.0       0.77      0.94      0.84       104\n",
      "         2.0       0.67      0.29      0.40        42\n",
      "\n",
      "    accuracy                           0.75       146\n",
      "   macro avg       0.72      0.61      0.62       146\n",
      "weighted avg       0.74      0.75      0.72       146\n",
      "\n"
     ]
    }
   ],
   "source": [
    "from sklearn.neighbors import KNeighborsClassifier\n",
    "classifier = KNeighborsClassifier(n_neighbors = 19)\n",
    "classifier.fit(X_train, y_train)\n",
    "y_pred = classifier.predict(X_test)\n",
    "# FIRST A QUICK COMPARISON TO OUR ORIGINAL K=10\n",
    "from sklearn.metrics import confusion_matrix, classification_report\n",
    "print('WITH K=19')\n",
    "print('\\n')\n",
    "print(confusion_matrix(y_test,y_pred))\n",
    "print('\\n')\n",
    "print(classification_report(y_test,y_pred))"
   ]
  },
  {
   "cell_type": "markdown",
   "id": "950ff1bc",
   "metadata": {},
   "source": [
    "La precisión es del 75 % y, aunque es más alta que la precisión base, el modelo no se desempeñó significativamente bien. Los factores se asemejan a un alto falso negativo. La baja precisión, el recuerdo y la puntuación F1 para la clase 2 sugirieron que el modelo está sesgado hacia \"1.0\" o predice como un paciente hepático. Si bien el desequilibrio de clases es la razón principal de esto, puede haber otras razones presentes, como la baja correlación de las características con la variable dependiente. Esto se puede verificar trazando el mapa de calor de la matriz de correlación de este dataset."
   ]
  },
  {
   "cell_type": "code",
   "execution_count": 43,
   "id": "537048ed",
   "metadata": {},
   "outputs": [
    {
     "data": {
      "text/plain": [
       "<AxesSubplot:>"
      ]
     },
     "execution_count": 43,
     "metadata": {},
     "output_type": "execute_result"
    },
    {
     "data": {
      "image/png": "[encoded data removed]",
      "text/plain": [
       "<Figure size 432x288 with 2 Axes>"
      ]
     },
     "metadata": {
      "needs_background": "light"
     },
     "output_type": "display_data"
    }
   ],
   "source": [
    "sns.heatmap(dataset.corr())"
   ]
  },
  {
   "cell_type": "markdown",
   "id": "8908dffa",
   "metadata": {},
   "source": [
    "Las intensidades de la columna “Target” muestran que tiene muy poca correlación con todas las demás variables, que pueden estar entre 0.2 y −0.2. Por lo tanto, el conjunto de datos está desequilibrado y tiene una correlación baja para la variable dependiente, que son dos de los principales inconvenientes para implementar el modelo de aprendizaje automático en este conjunto de datos."
   ]
  },
  {
   "cell_type": "code",
   "execution_count": null,
   "id": "a2e133ad",
   "metadata": {},
   "outputs": [],
   "source": []
  },
  {
   "cell_type": "code",
   "execution_count": null,
   "id": "12258985",
   "metadata": {},
   "outputs": [],
   "source": []
  }
 ],
 "metadata": {
  "kernelspec": {
   "display_name": "Python 3 (ipykernel)",
   "language": "python",
   "name": "python3"
  },
  "language_info": {
   "codemirror_mode": {
    "name": "ipython",
    "version": 3
   },
   "file_extension": ".py",
   "mimetype": "text/x-python",
   "name": "python",
   "nbconvert_exporter": "python",
   "pygments_lexer": "ipython3",
   "version": "3.9.12"
  }
 },
 "nbformat": 4,
 "nbformat_minor": 5
}
