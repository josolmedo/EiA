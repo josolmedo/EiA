{
 "cells": [
  {
   "cell_type": "markdown",
   "id": "3792d16f",
   "metadata": {},
   "source": [
    "Vamos utilizar a biblioteca `nglview` para visualizar os dados do PDB. Para instalar basta: \n",
    "\n",
    "pip install nglview"
   ]
  },
  {
   "cell_type": "code",
   "execution_count": 1,
   "id": "be9a30eb",
   "metadata": {},
   "outputs": [
    {
     "name": "stdout",
     "output_type": "stream",
     "text": [
      "zsh:1: command not found: conda\r\n"
     ]
    }
   ],
   "source": [
    "import sys\n",
    "!conda install --yes --prefix {sys.prefix} nglview"
   ]
  },
  {
   "cell_type": "code",
   "execution_count": 1,
   "id": "f2f1fb0f",
   "metadata": {},
   "outputs": [
    {
     "data": {
      "application/vnd.jupyter.widget-view+json": {
       "model_id": "bbd3431e558f4c32b68e735ff975e3f0",
       "version_major": 2,
       "version_minor": 0
      },
      "text/plain": []
     },
     "metadata": {},
     "output_type": "display_data"
    }
   ],
   "source": [
    "import os\n",
    "import nglview as nv"
   ]
  },
  {
   "cell_type": "markdown",
   "id": "444c601e",
   "metadata": {},
   "source": [
    "Para visualizar a proteína, vamos utilizar a função show_file. Vamos colocar essa função dentro da variável view"
   ]
  },
  {
   "cell_type": "code",
   "execution_count": 2,
   "id": "bcf184a6",
   "metadata": {},
   "outputs": [],
   "source": [
    "filepath = os.path.join('PDB_files', '3fgu.pdb')\n",
    "view = nv.show_file(filepath)"
   ]
  },
  {
   "cell_type": "code",
   "execution_count": 3,
   "id": "d472ddf5",
   "metadata": {},
   "outputs": [
    {
     "data": {
      "application/vnd.jupyter.widget-view+json": {
       "model_id": "aba993d851f849cb80dfd6ee1876b3f6",
       "version_major": 2,
       "version_minor": 0
      },
      "text/plain": [
       "NGLWidget()"
      ]
     },
     "metadata": {},
     "output_type": "display_data"
    }
   ],
   "source": [
    "view"
   ]
  },
  {
   "cell_type": "markdown",
   "id": "695dda56",
   "metadata": {},
   "source": [
    "# Alterando a representação molecular"
   ]
  },
  {
   "cell_type": "code",
   "execution_count": 4,
   "id": "ae7c3170",
   "metadata": {},
   "outputs": [
    {
     "data": {
      "application/vnd.jupyter.widget-view+json": {
       "model_id": "138be8bad8d74404a960788a7b15dab2",
       "version_major": 2,
       "version_minor": 0
      },
      "text/plain": [
       "NGLWidget()"
      ]
     },
     "metadata": {},
     "output_type": "display_data"
    }
   ],
   "source": [
    "filepath2 = os.path.join('PDB_files', '2mlr.pdb')\n",
    "view2 = nv.show_file(filepath2)\n",
    "view2"
   ]
  },
  {
   "cell_type": "code",
   "execution_count": 5,
   "id": "c1c97867",
   "metadata": {},
   "outputs": [
    {
     "data": {
      "application/vnd.jupyter.widget-view+json": {
       "model_id": "3b80c10e6288410c88d320a1fc940ffa",
       "version_major": 2,
       "version_minor": 0
      },
      "text/plain": [
       "NGLWidget()"
      ]
     },
     "metadata": {},
     "output_type": "display_data"
    }
   ],
   "source": [
    "view2 = nv.show_file(filepath2)\n",
    "view2.clear_representations()\n",
    "view2.add_representation('ball+stick')\n",
    "view2"
   ]
  },
  {
   "cell_type": "markdown",
   "id": "77246526",
   "metadata": {},
   "source": [
    "As representações disponíveis são:\n",
    "- `cartoon` - representação da estrutura secundária de proteínas (alpha hélices e folhas beta) e estrutura secundária de ácidos nucléicos;\n",
    "- `base` - mostra as bases dos ácidos nucleicos. Geralmente utilizado com a representação em cartoon;\n",
    "- `ball+stick`- representação dos átomos como esferas conectados por cilindros representando as ligações;\n",
    "- `licorice` - similar a ball+stick, mas não mostra as esferas dos átomos;\n",
    "- `spacefill` - os átomos são representados como grandes esferas sem representar as ligações\n",
    "- `hyperball` - uma derivação do `ball+stick` em que cada átomos esta levemente conectado.\n"
   ]
  },
  {
   "cell_type": "markdown",
   "id": "3bc127aa",
   "metadata": {},
   "source": [
    "### Tarefa\n",
    "Nesse ponto podemos deixar como tarefa que eles explorem os outros modos de visualização das duas proteínas"
   ]
  },
  {
   "cell_type": "markdown",
   "id": "5db52267",
   "metadata": {},
   "source": [
    "# Estrutura molecular com diferentes representações"
   ]
  },
  {
   "cell_type": "code",
   "execution_count": 7,
   "id": "92dc098e",
   "metadata": {},
   "outputs": [
    {
     "data": {
      "application/vnd.jupyter.widget-view+json": {
       "model_id": "c9f1af49e688490caf6781b6c8676b7d",
       "version_major": 2,
       "version_minor": 0
      },
      "text/plain": [
       "NGLWidget()"
      ]
     },
     "metadata": {},
     "output_type": "display_data"
    }
   ],
   "source": [
    "view4 = nv.show_file(filepath2)\n",
    "view4.clear_representations()\n",
    "view4.add_representation('licorice', 'ligand', opacity=0.5)\n",
    "view4.add_representation('cartoon', 'protein', color=\"blue\", opacity=1)\n",
    "view4.add_representation('contact')\n",
    "view4.center()\n",
    "view4"
   ]
  },
  {
   "cell_type": "code",
   "execution_count": 8,
   "id": "132f2546",
   "metadata": {},
   "outputs": [
    {
     "data": {
      "application/vnd.jupyter.widget-view+json": {
       "model_id": "85dceb4622e046f38be7871901fda62c",
       "version_major": 2,
       "version_minor": 0
      },
      "text/plain": [
       "NGLWidget()"
      ]
     },
     "metadata": {},
     "output_type": "display_data"
    }
   ],
   "source": [
    "filepath3 = os.path.join('PDB_files', '1xs9.pdb')\n",
    "view5 = nv.show_file(filepath3)\n",
    "view5"
   ]
  },
  {
   "cell_type": "markdown",
   "id": "8a8ea129",
   "metadata": {},
   "source": [
    "# Para salvar uma figura"
   ]
  },
  {
   "cell_type": "code",
   "execution_count": 30,
   "id": "4b6a14ad",
   "metadata": {},
   "outputs": [
    {
     "data": {
      "application/vnd.jupyter.widget-view+json": {
       "model_id": "2dba926c142949f3a8b8dde9cafb6820",
       "version_major": 2,
       "version_minor": 0
      },
      "text/plain": [
       "Image(value=b'', width='99%')"
      ]
     },
     "metadata": {},
     "output_type": "display_data"
    }
   ],
   "source": [
    "view5.render_image()"
   ]
  },
  {
   "cell_type": "code",
   "execution_count": 33,
   "id": "56857399",
   "metadata": {},
   "outputs": [],
   "source": [
    "view5.download_image()"
   ]
  }
 ],
 "metadata": {
  "kernelspec": {
   "display_name": "Python 3 (ipykernel)",
   "language": "python",
   "name": "python3"
  },
  "language_info": {
   "codemirror_mode": {
    "name": "ipython",
    "version": 3
   },
   "file_extension": ".py",
   "mimetype": "text/x-python",
   "name": "python",
   "nbconvert_exporter": "python",
   "pygments_lexer": "ipython3",
   "version": "3.9.12"
  }
 },
 "nbformat": 4,
 "nbformat_minor": 5
}
