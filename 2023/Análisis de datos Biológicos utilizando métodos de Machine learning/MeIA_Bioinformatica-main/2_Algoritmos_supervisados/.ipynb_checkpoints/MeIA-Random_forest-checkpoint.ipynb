{
 "cells": [
  {
   "cell_type": "markdown",
   "id": "8863aa8a",
   "metadata": {},
   "source": [
    "# Machine learning su aplicación en Biología\n",
    "\n",
    "__Análisis de datos biológicos utilizando métodos de machine learning__\n",
    "\n",
    "_MeIA_\n",
    "\n",
    "`2023`"
   ]
  },
  {
   "cell_type": "markdown",
   "id": "442ff5c4",
   "metadata": {},
   "source": [
    "## Árbol de decisión y Bosques aleatorios"
   ]
  },
  {
   "cell_type": "markdown",
   "id": "5687cab8",
   "metadata": {},
   "source": [
    "<img src=\"../imagenes/DECISION-TREE.png\" width=\"400\" height=\"400\"/>\n",
    "\n",
    "Los árboles de decisión y los bosques aleatorios son algoritmos de aprendizaje supervisado que se utilizan para problemas de clasificación y regresión. \n",
    "\n",
    "Un árbol de decisión se basa en todo el conjunto de datos, mientras que un bosque aleatorio selecciona de forma aleatoria observaciones y caractéristicas para crear varios árboles de decisión y luego promedia los resultados.\n",
    "\n",
    "Cada nodo del árbol es una prueba o condición y las ramas representan su resultado.\n",
    "- Nodo Raíz: Sirve como la población total o la muestra que se divide en dos o más conjuntos diversos de grupos.\n",
    "- Nodo de decisión: El nodo de decisión se nombra cuando un subnodo se divide en otros subnodos.\n",
    "- Nodo hoja: Son los resultados finales de todas las decisiones encadenadas respectivas y, a menudo, se denominan nodos terminales.\n",
    "\n"
   ]
  },
  {
   "cell_type": "markdown",
   "id": "b696e3fe",
   "metadata": {},
   "source": [
    "Primero intentaremos aplicar árboles de decisión y el bosque aleatorio en el conjunto de datos de enfermedades cardíacas."
   ]
  },
  {
   "cell_type": "code",
   "execution_count": 1,
   "id": "36b5b9f6",
   "metadata": {},
   "outputs": [],
   "source": [
    "import pandas as pd\n",
    "import seaborn as sns\n",
    "import matplotlib as mpl\n",
    "import matplotlib.pyplot as plt\n",
    "import numpy as np"
   ]
  },
  {
   "cell_type": "code",
   "execution_count": 2,
   "id": "9118f36c",
   "metadata": {},
   "outputs": [],
   "source": [
    "%matplotlib inline\n",
    "mpl.rcParams['figure.dpi'] = 300"
   ]
  },
  {
   "cell_type": "code",
   "execution_count": 3,
   "id": "9ade1f33",
   "metadata": {},
   "outputs": [
    {
     "data": {
      "text/html": [
       "<div>\n",
       "<style scoped>\n",
       "    .dataframe tbody tr th:only-of-type {\n",
       "        vertical-align: middle;\n",
       "    }\n",
       "\n",
       "    .dataframe tbody tr th {\n",
       "        vertical-align: top;\n",
       "    }\n",
       "\n",
       "    .dataframe thead th {\n",
       "        text-align: right;\n",
       "    }\n",
       "</style>\n",
       "<table border=\"1\" class=\"dataframe\">\n",
       "  <thead>\n",
       "    <tr style=\"text-align: right;\">\n",
       "      <th></th>\n",
       "      <th>age</th>\n",
       "      <th>sex</th>\n",
       "      <th>cp</th>\n",
       "      <th>trestbps</th>\n",
       "      <th>chol</th>\n",
       "      <th>fbs</th>\n",
       "      <th>restecg</th>\n",
       "      <th>thalach</th>\n",
       "      <th>exang</th>\n",
       "      <th>oldpeak</th>\n",
       "      <th>slope</th>\n",
       "      <th>ca</th>\n",
       "      <th>thal</th>\n",
       "      <th>target</th>\n",
       "    </tr>\n",
       "  </thead>\n",
       "  <tbody>\n",
       "    <tr>\n",
       "      <th>0</th>\n",
       "      <td>63</td>\n",
       "      <td>1</td>\n",
       "      <td>3</td>\n",
       "      <td>145</td>\n",
       "      <td>233</td>\n",
       "      <td>1</td>\n",
       "      <td>0</td>\n",
       "      <td>150</td>\n",
       "      <td>0</td>\n",
       "      <td>2.3</td>\n",
       "      <td>0</td>\n",
       "      <td>0</td>\n",
       "      <td>1</td>\n",
       "      <td>1</td>\n",
       "    </tr>\n",
       "    <tr>\n",
       "      <th>1</th>\n",
       "      <td>37</td>\n",
       "      <td>1</td>\n",
       "      <td>2</td>\n",
       "      <td>130</td>\n",
       "      <td>250</td>\n",
       "      <td>0</td>\n",
       "      <td>1</td>\n",
       "      <td>187</td>\n",
       "      <td>0</td>\n",
       "      <td>3.5</td>\n",
       "      <td>0</td>\n",
       "      <td>0</td>\n",
       "      <td>2</td>\n",
       "      <td>1</td>\n",
       "    </tr>\n",
       "    <tr>\n",
       "      <th>2</th>\n",
       "      <td>41</td>\n",
       "      <td>0</td>\n",
       "      <td>1</td>\n",
       "      <td>130</td>\n",
       "      <td>204</td>\n",
       "      <td>0</td>\n",
       "      <td>0</td>\n",
       "      <td>172</td>\n",
       "      <td>0</td>\n",
       "      <td>1.4</td>\n",
       "      <td>2</td>\n",
       "      <td>0</td>\n",
       "      <td>2</td>\n",
       "      <td>1</td>\n",
       "    </tr>\n",
       "    <tr>\n",
       "      <th>3</th>\n",
       "      <td>56</td>\n",
       "      <td>1</td>\n",
       "      <td>1</td>\n",
       "      <td>120</td>\n",
       "      <td>236</td>\n",
       "      <td>0</td>\n",
       "      <td>1</td>\n",
       "      <td>178</td>\n",
       "      <td>0</td>\n",
       "      <td>0.8</td>\n",
       "      <td>2</td>\n",
       "      <td>0</td>\n",
       "      <td>2</td>\n",
       "      <td>1</td>\n",
       "    </tr>\n",
       "    <tr>\n",
       "      <th>4</th>\n",
       "      <td>57</td>\n",
       "      <td>0</td>\n",
       "      <td>0</td>\n",
       "      <td>120</td>\n",
       "      <td>354</td>\n",
       "      <td>0</td>\n",
       "      <td>1</td>\n",
       "      <td>163</td>\n",
       "      <td>1</td>\n",
       "      <td>0.6</td>\n",
       "      <td>2</td>\n",
       "      <td>0</td>\n",
       "      <td>2</td>\n",
       "      <td>1</td>\n",
       "    </tr>\n",
       "  </tbody>\n",
       "</table>\n",
       "</div>"
      ],
      "text/plain": [
       "   age  sex  cp  trestbps  chol  fbs  restecg  thalach  exang  oldpeak  slope  \\\n",
       "0   63    1   3       145   233    1        0      150      0      2.3      0   \n",
       "1   37    1   2       130   250    0        1      187      0      3.5      0   \n",
       "2   41    0   1       130   204    0        0      172      0      1.4      2   \n",
       "3   56    1   1       120   236    0        1      178      0      0.8      2   \n",
       "4   57    0   0       120   354    0        1      163      1      0.6      2   \n",
       "\n",
       "   ca  thal  target  \n",
       "0   0     1       1  \n",
       "1   0     2       1  \n",
       "2   0     2       1  \n",
       "3   0     2       1  \n",
       "4   0     2       1  "
      ]
     },
     "execution_count": 3,
     "metadata": {},
     "output_type": "execute_result"
    }
   ],
   "source": [
    "dataset = pd.read_csv('../Datos/heart.csv')\n",
    "dataset.head()"
   ]
  },
  {
   "cell_type": "code",
   "execution_count": 4,
   "id": "26099c15",
   "metadata": {},
   "outputs": [],
   "source": [
    "#Separamos la variables dependiente e independiente\n",
    "X = dataset.iloc[:,:-1]\n",
    "y = dataset.iloc[:,-1]\n",
    "\n",
    "from sklearn.model_selection import train_test_split\n",
    "X_train, X_test, y_train, y_test = train_test_split(X, y, test_size=0.30)"
   ]
  },
  {
   "cell_type": "markdown",
   "id": "ca34bd56",
   "metadata": {},
   "source": [
    "### Árboles de decisión\n",
    "\n",
    "Vamos a entrenar el modelo usando la función fit()"
   ]
  },
  {
   "cell_type": "code",
   "execution_count": 5,
   "id": "c76c2f17",
   "metadata": {},
   "outputs": [
    {
     "data": {
      "text/plain": [
       "DecisionTreeClassifier()"
      ]
     },
     "execution_count": 5,
     "metadata": {},
     "output_type": "execute_result"
    }
   ],
   "source": [
    "from sklearn.tree import DecisionTreeClassifier\n",
    "classifier = DecisionTreeClassifier()\n",
    "classifier.fit(X_train,y_train)"
   ]
  },
  {
   "cell_type": "markdown",
   "id": "d48ec39f",
   "metadata": {},
   "source": [
    "#### Predicción y evaluación"
   ]
  },
  {
   "cell_type": "code",
   "execution_count": 6,
   "id": "b0f6b1cc",
   "metadata": {},
   "outputs": [],
   "source": [
    "#Vamos a evaluar nuestro árbol\n",
    "predictions = classifier.predict(X_test)"
   ]
  },
  {
   "cell_type": "code",
   "execution_count": 7,
   "id": "f4396741",
   "metadata": {},
   "outputs": [
    {
     "name": "stdout",
     "output_type": "stream",
     "text": [
      "              precision    recall  f1-score   support\n",
      "\n",
      "           0       0.74      0.82      0.78        39\n",
      "           1       0.85      0.79      0.82        52\n",
      "\n",
      "    accuracy                           0.80        91\n",
      "   macro avg       0.80      0.80      0.80        91\n",
      "weighted avg       0.81      0.80      0.80        91\n",
      "\n"
     ]
    }
   ],
   "source": [
    "from sklearn.metrics import classification_report,confusion_matrix\n",
    "print(classification_report(y_test,predictions))"
   ]
  },
  {
   "cell_type": "markdown",
   "id": "8c24b1fe",
   "metadata": {},
   "source": [
    "El árbol de decisión alzanzó una tasa de exactitud del 77% que es más alta que la exactitud de referencia (54%)."
   ]
  },
  {
   "cell_type": "code",
   "execution_count": 8,
   "id": "1d43b11a",
   "metadata": {},
   "outputs": [
    {
     "data": {
      "text/plain": [
       "age          41.0\n",
       "sex           0.0\n",
       "cp            1.0\n",
       "trestbps    130.0\n",
       "chol        204.0\n",
       "fbs           0.0\n",
       "restecg       0.0\n",
       "thalach     172.0\n",
       "exang         0.0\n",
       "oldpeak       1.4\n",
       "slope         2.0\n",
       "ca            0.0\n",
       "thal          2.0\n",
       "target        1.0\n",
       "Name: 2, dtype: float64"
      ]
     },
     "execution_count": 8,
     "metadata": {},
     "output_type": "execute_result"
    }
   ],
   "source": [
    "#### Vamos a predecir un nuevo valor\n",
    "dataset.iloc[2,:]"
   ]
  },
  {
   "cell_type": "code",
   "execution_count": 9,
   "id": "820d0237",
   "metadata": {},
   "outputs": [
    {
     "name": "stderr",
     "output_type": "stream",
     "text": [
      "/Users/galanve/opt/anaconda3/lib/python3.9/site-packages/sklearn/base.py:450: UserWarning: X does not have valid feature names, but DecisionTreeClassifier was fitted with feature names\n",
      "  warnings.warn(\n"
     ]
    },
    {
     "data": {
      "text/plain": [
       "array([1])"
      ]
     },
     "execution_count": 9,
     "metadata": {},
     "output_type": "execute_result"
    }
   ],
   "source": [
    "new_data=dataset.iloc[2,:-1].values\n",
    "classifier.predict([new_data])"
   ]
  },
  {
   "cell_type": "markdown",
   "id": "e0fd877f",
   "metadata": {},
   "source": [
    "Conclusión: El modelo del árbol predice correctamente nuestro nuevo valor"
   ]
  },
  {
   "cell_type": "markdown",
   "id": "231b4860",
   "metadata": {},
   "source": [
    "### Random Forests"
   ]
  },
  {
   "cell_type": "code",
   "execution_count": 10,
   "id": "2dbb6417",
   "metadata": {},
   "outputs": [
    {
     "data": {
      "text/plain": [
       "RandomForestClassifier(n_estimators=200)"
      ]
     },
     "execution_count": 10,
     "metadata": {},
     "output_type": "execute_result"
    }
   ],
   "source": [
    "from sklearn.ensemble import RandomForestClassifier\n",
    "#RandomForestClassifier, utiliza n_estimators que es\n",
    "#el número de árboles que se generarán para el datset de entrenamiento.\n",
    "classifier = RandomForestClassifier(n_estimators=200)\n",
    "classifier.fit(X_train, y_train)"
   ]
  },
  {
   "cell_type": "markdown",
   "id": "ce4da1ac",
   "metadata": {},
   "source": [
    "#### Predicción y evaluación de modelos Random Forest"
   ]
  },
  {
   "cell_type": "code",
   "execution_count": 11,
   "id": "5a5dee5f",
   "metadata": {},
   "outputs": [
    {
     "name": "stdout",
     "output_type": "stream",
     "text": [
      "[[29 10]\n",
      " [ 2 50]]\n",
      "              precision    recall  f1-score   support\n",
      "\n",
      "           0       0.94      0.74      0.83        39\n",
      "           1       0.83      0.96      0.89        52\n",
      "\n",
      "    accuracy                           0.87        91\n",
      "   macro avg       0.88      0.85      0.86        91\n",
      "weighted avg       0.88      0.87      0.87        91\n",
      "\n"
     ]
    }
   ],
   "source": [
    "rfc_pred = classifier.predict(X_test)\n",
    "print(confusion_matrix(y_test,rfc_pred))\n",
    "print(classification_report(y_test,rfc_pred))"
   ]
  },
  {
   "cell_type": "markdown",
   "id": "68c1f19c",
   "metadata": {},
   "source": [
    "Este modelo aleatorio logró una tasa de exactitud del 86%, que es un poco superior que lo encontrado en el modelo de árbol de decisión. "
   ]
  },
  {
   "cell_type": "markdown",
   "id": "0bb25515",
   "metadata": {},
   "source": [
    "### Vamos a predecir el pronóstico de la diabetes usando Random Forest"
   ]
  },
  {
   "cell_type": "code",
   "execution_count": 12,
   "id": "207f7962",
   "metadata": {},
   "outputs": [
    {
     "data": {
      "text/html": [
       "<div>\n",
       "<style scoped>\n",
       "    .dataframe tbody tr th:only-of-type {\n",
       "        vertical-align: middle;\n",
       "    }\n",
       "\n",
       "    .dataframe tbody tr th {\n",
       "        vertical-align: top;\n",
       "    }\n",
       "\n",
       "    .dataframe thead th {\n",
       "        text-align: right;\n",
       "    }\n",
       "</style>\n",
       "<table border=\"1\" class=\"dataframe\">\n",
       "  <thead>\n",
       "    <tr style=\"text-align: right;\">\n",
       "      <th></th>\n",
       "      <th>PatientID</th>\n",
       "      <th>Pregnancies</th>\n",
       "      <th>PlasmaGlucose</th>\n",
       "      <th>DiastolicBloodPressure</th>\n",
       "      <th>TricepsThickness</th>\n",
       "      <th>SerumInsulin</th>\n",
       "      <th>BMI</th>\n",
       "      <th>DiabetesPedigree</th>\n",
       "      <th>Age</th>\n",
       "      <th>Diabetic</th>\n",
       "    </tr>\n",
       "  </thead>\n",
       "  <tbody>\n",
       "    <tr>\n",
       "      <th>0</th>\n",
       "      <td>1354778</td>\n",
       "      <td>0</td>\n",
       "      <td>171</td>\n",
       "      <td>80</td>\n",
       "      <td>34</td>\n",
       "      <td>23</td>\n",
       "      <td>43.509726</td>\n",
       "      <td>1.213191</td>\n",
       "      <td>21</td>\n",
       "      <td>0</td>\n",
       "    </tr>\n",
       "    <tr>\n",
       "      <th>1</th>\n",
       "      <td>1147438</td>\n",
       "      <td>8</td>\n",
       "      <td>92</td>\n",
       "      <td>93</td>\n",
       "      <td>47</td>\n",
       "      <td>36</td>\n",
       "      <td>21.240576</td>\n",
       "      <td>0.158365</td>\n",
       "      <td>23</td>\n",
       "      <td>0</td>\n",
       "    </tr>\n",
       "    <tr>\n",
       "      <th>2</th>\n",
       "      <td>1640031</td>\n",
       "      <td>7</td>\n",
       "      <td>115</td>\n",
       "      <td>47</td>\n",
       "      <td>52</td>\n",
       "      <td>35</td>\n",
       "      <td>41.511523</td>\n",
       "      <td>0.079019</td>\n",
       "      <td>23</td>\n",
       "      <td>0</td>\n",
       "    </tr>\n",
       "    <tr>\n",
       "      <th>3</th>\n",
       "      <td>1883350</td>\n",
       "      <td>9</td>\n",
       "      <td>103</td>\n",
       "      <td>78</td>\n",
       "      <td>25</td>\n",
       "      <td>304</td>\n",
       "      <td>29.582192</td>\n",
       "      <td>1.282870</td>\n",
       "      <td>43</td>\n",
       "      <td>1</td>\n",
       "    </tr>\n",
       "    <tr>\n",
       "      <th>4</th>\n",
       "      <td>1424119</td>\n",
       "      <td>1</td>\n",
       "      <td>85</td>\n",
       "      <td>59</td>\n",
       "      <td>27</td>\n",
       "      <td>35</td>\n",
       "      <td>42.604536</td>\n",
       "      <td>0.549542</td>\n",
       "      <td>22</td>\n",
       "      <td>0</td>\n",
       "    </tr>\n",
       "  </tbody>\n",
       "</table>\n",
       "</div>"
      ],
      "text/plain": [
       "   PatientID  Pregnancies  PlasmaGlucose  DiastolicBloodPressure  \\\n",
       "0    1354778            0            171                      80   \n",
       "1    1147438            8             92                      93   \n",
       "2    1640031            7            115                      47   \n",
       "3    1883350            9            103                      78   \n",
       "4    1424119            1             85                      59   \n",
       "\n",
       "   TricepsThickness  SerumInsulin        BMI  DiabetesPedigree  Age  Diabetic  \n",
       "0                34            23  43.509726          1.213191   21         0  \n",
       "1                47            36  21.240576          0.158365   23         0  \n",
       "2                52            35  41.511523          0.079019   23         0  \n",
       "3                25           304  29.582192          1.282870   43         1  \n",
       "4                27            35  42.604536          0.549542   22         0  "
      ]
     },
     "execution_count": 12,
     "metadata": {},
     "output_type": "execute_result"
    }
   ],
   "source": [
    "dataset = pd.read_csv('../Datos/diabetes.csv')\n",
    "dataset.head()"
   ]
  },
  {
   "cell_type": "code",
   "execution_count": 13,
   "id": "ef98b1ec",
   "metadata": {},
   "outputs": [
    {
     "data": {
      "text/plain": [
       "0    10000\n",
       "1     5000\n",
       "Name: Diabetic, dtype: int64"
      ]
     },
     "execution_count": 13,
     "metadata": {},
     "output_type": "execute_result"
    }
   ],
   "source": [
    "dataset['Diabetic'].value_counts()"
   ]
  },
  {
   "cell_type": "markdown",
   "id": "c891e08d",
   "metadata": {},
   "source": [
    "Este dataset tiene nueve características que describen los valores de las observaciones, y la ultima columna Diabetic, representa la etiqueta si una persona es diabética \"1\" y si no es diabética es \"0\""
   ]
  },
  {
   "cell_type": "code",
   "execution_count": 14,
   "id": "7f2f8267",
   "metadata": {},
   "outputs": [
    {
     "data": {
      "text/plain": [
       "PatientID                 0\n",
       "Pregnancies               0\n",
       "PlasmaGlucose             0\n",
       "DiastolicBloodPressure    0\n",
       "TricepsThickness          0\n",
       "SerumInsulin              0\n",
       "BMI                       0\n",
       "DiabetesPedigree          0\n",
       "Age                       0\n",
       "Diabetic                  0\n",
       "dtype: int64"
      ]
     },
     "execution_count": 14,
     "metadata": {},
     "output_type": "execute_result"
    }
   ],
   "source": [
    "#verificamos si se tienen valores nulos\n",
    "dataset.isnull().sum()"
   ]
  },
  {
   "cell_type": "markdown",
   "id": "4192c71b",
   "metadata": {},
   "source": [
    "#### Dividimos el conjunto de entrenamiento y el de prueba"
   ]
  },
  {
   "cell_type": "code",
   "execution_count": 15,
   "id": "d63abf02",
   "metadata": {},
   "outputs": [],
   "source": [
    "X = dataset.iloc[:,1:-1]\n",
    "y = dataset.iloc[:,-1]\n",
    "from sklearn.model_selection import train_test_split\n",
    "X_train, X_test, y_train, y_test = train_test_split(X, y, test_size = 0.25,\n",
    "random_state = 0)"
   ]
  },
  {
   "cell_type": "markdown",
   "id": "bbb43413",
   "metadata": {},
   "source": [
    "#### Clasificador de entrenamiento"
   ]
  },
  {
   "cell_type": "code",
   "execution_count": 16,
   "id": "c06632ca",
   "metadata": {},
   "outputs": [
    {
     "data": {
      "text/plain": [
       "RandomForestClassifier(n_estimators=10)"
      ]
     },
     "execution_count": 16,
     "metadata": {},
     "output_type": "execute_result"
    }
   ],
   "source": [
    "from sklearn.ensemble import RandomForestClassifier\n",
    "#Utilizaremos 10 árboles de desición para comenzar el clasificador\n",
    "classifier = RandomForestClassifier(n_estimators=10)\n",
    "classifier.fit(X_train, y_train)"
   ]
  },
  {
   "cell_type": "code",
   "execution_count": 17,
   "id": "942a0b4f",
   "metadata": {},
   "outputs": [
    {
     "name": "stdout",
     "output_type": "stream",
     "text": [
      "              precision    recall  f1-score   support\n",
      "\n",
      "           0       0.93      0.96      0.94      2500\n",
      "           1       0.91      0.86      0.88      1250\n",
      "\n",
      "    accuracy                           0.92      3750\n",
      "   macro avg       0.92      0.91      0.91      3750\n",
      "weighted avg       0.92      0.92      0.92      3750\n",
      "\n"
     ]
    }
   ],
   "source": [
    "rfc_pred = classifier.predict(X_test)\n",
    "print(classification_report(y_test,rfc_pred))\n"
   ]
  },
  {
   "cell_type": "markdown",
   "id": "54a37891",
   "metadata": {},
   "source": [
    "El clasificador de bosques aleatorio se desempeño significativamente bien con este dataset, logrando una tase de exactitud del 93%. "
   ]
  },
  {
   "cell_type": "markdown",
   "id": "3017a7be",
   "metadata": {},
   "source": [
    "#### Validación cruzada (Cross-Validation)"
   ]
  },
  {
   "cell_type": "markdown",
   "id": "abf42683",
   "metadata": {},
   "source": [
    "En los anteriores modelos dividimos nuestro conjunto de datos aleatorios en dos conjuntos: Entrenamiento y de prueba. Sin embargo, existe una limitación en esta técnica. Si sacrificamos alrededor del 20% al 25% de nuestros datos para evaluar nuestro sistema, es posible que nuestro modelo no pueda entrenarse adecuadamente para los desafíos del mundo real. Cierta información valiosa podría perderse cuando dividimos el conjunto de datos. Esto dará como resultado un mayor sesgo en nuestro sistema. Este problema se agrava cuando trabajamos con un conjunto de datos pequeños.\n",
    "\n",
    "Para superar esto usamos la técnica Cross-validation, para hacer esto, dividiremos el dataset en varios subconjuntos, luego entrenamos y evaluamos nuestros modelo con varias combinaciones de estos subconjuntos.\n"
   ]
  },
  {
   "cell_type": "code",
   "execution_count": 18,
   "id": "eade3eff",
   "metadata": {},
   "outputs": [
    {
     "name": "stdout",
     "output_type": "stream",
     "text": [
      "[0.93066667 0.93033333 0.93366667 0.927      0.93266667]\n"
     ]
    }
   ],
   "source": [
    "from sklearn.model_selection import cross_validate\n",
    "from sklearn.ensemble import RandomForestClassifier\n",
    "\n",
    "classifier = RandomForestClassifier(n_estimators=10)\n",
    "cross_validator = cross_validate(classifier, X, y, cv=5,\n",
    "    scoring = 'accuracy',\n",
    "    return_estimator = 'true')\n",
    "print(cross_validator['test_score'])"
   ]
  },
  {
   "cell_type": "markdown",
   "id": "e0180260",
   "metadata": {},
   "source": [
    "La clase cross_validate requiere el clasificador, características, etiquetas y cv que es el número de K-folds. \n",
    "return_estimator nos permite recuperar el mejor estimador.\n",
    "\n",
    "Podemos observar en el resultado que se han entrenado cinco modelos con combinaciones de datos de prueba y entrenamiento. El ultimo tiene el mayor \"test_score\", podemos utilizar \"best_model = cross_validator[‘estimator’][-1]\" para recuperar el mejor modelo. \"best_model es el clasificador de bosques aleatorios que se puede usar para futuras predicciones."
   ]
  },
  {
   "cell_type": "code",
   "execution_count": 19,
   "id": "30a9f1d1",
   "metadata": {},
   "outputs": [],
   "source": [
    "best_model = cross_validator['estimator'][-1]"
   ]
  },
  {
   "cell_type": "code",
   "execution_count": null,
   "id": "fb26a63d",
   "metadata": {},
   "outputs": [],
   "source": []
  },
  {
   "cell_type": "code",
   "execution_count": null,
   "id": "4147fc59",
   "metadata": {},
   "outputs": [],
   "source": []
  },
  {
   "cell_type": "code",
   "execution_count": null,
   "id": "5b727194",
   "metadata": {},
   "outputs": [],
   "source": []
  }
 ],
 "metadata": {
  "kernelspec": {
   "display_name": "Python 3 (ipykernel)",
   "language": "python",
   "name": "python3"
  },
  "language_info": {
   "codemirror_mode": {
    "name": "ipython",
    "version": 3
   },
   "file_extension": ".py",
   "mimetype": "text/x-python",
   "name": "python",
   "nbconvert_exporter": "python",
   "pygments_lexer": "ipython3",
   "version": "3.9.12"
  }
 },
 "nbformat": 4,
 "nbformat_minor": 5
}
