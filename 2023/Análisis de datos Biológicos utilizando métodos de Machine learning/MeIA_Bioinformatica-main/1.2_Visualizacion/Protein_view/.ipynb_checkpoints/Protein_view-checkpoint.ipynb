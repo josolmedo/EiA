{
 "cells": [
  {
   "cell_type": "markdown",
   "id": "4675207e",
   "metadata": {},
   "source": [
    "# Machine learning su aplicación en Biología\n",
    "\n",
    "__Análisis de datos biológicos utilizando métodos de machine learning__\n",
    "\n",
    "_MeIA_\n",
    "\n",
    "`2023`"
   ]
  },
  {
   "cell_type": "markdown",
   "id": "b8d724b3",
   "metadata": {},
   "source": [
    "En la primera parte vimos cómo usar `Biophyton` para realizar diferentes tipos de análisis. En algunos análisis, especialmente si te interesa la estructura molecular, es importante que cuentes con herramientas que te permitan visualizar las macromoléculas. Ahora, usemos una biblioteca llamada `nglview` para visualizar las proteínas. Para instalar la biblioteca solo\n",
    "\n",
    "pip install nglview\n",
    "\n",
    "NGLview permite la visualización interactiva de estructuras moleculares tridimensionales."
   ]
  },
  {
   "cell_type": "markdown",
   "id": "35e4a70b",
   "metadata": {},
   "source": [
    "# Un poco de historia sobre el estudio estructural de las proteínas.\n",
    "\n",
    "Las proteínas están formadas por una secuencia de aminoácidos. Esta secuencia confiere las propiedades estructurales de las proteínas. Y son estas propiedades estructurales las que dan a las proteínas sus funciones en la célula. En la siguiente figura tenemos el alineamiento de dos proteínas, IRAK4 e IRAK1. Esta secuencia, bajo el efecto de interacciones inter e intramoleculares, formará estructuras secundarias y se enrollará, asumiendo una forma funcional que regulará una vía de inflamación.\n",
    "\n",
    "<img src=\"./Figures/Protein_structure.png\" width=\"800\" height=\"800\"/>\n",
    "\n",
    "Así, estudiar la estructura de las proteínas nos permite:\n",
    "\n",
    "1. Planificar medicamentos más efectivos y selectivos;\n",
    "2. estudiar el plegamiento de proteínas asociadas a diversas enfermedades: enfermedad de Alzheimer, enfermedad de Parkinson, diabetes tipo II, demencia senil, esclerosis lateral amiotrófica, enfermedad de Huntington, entre otras;\n",
    "3. evaluar el efecto de las mutaciones en las secuencias de aminoácidos. Tenemos el ejemplo de la mutación Mpro en SARS-CoV y SARS-CoV-2;\n",
    "4. bioingeniería para catálisis enzimática..."
   ]
  },
  {
   "cell_type": "markdown",
   "id": "444c601e",
   "metadata": {},
   "source": [
    "Usaremos la biblioteca de Biopython para descargar los datos."
   ]
  },
  {
   "cell_type": "code",
   "execution_count": null,
   "id": "6896fc0c",
   "metadata": {},
   "outputs": [],
   "source": [
    "import Bio\n",
    "from Bio.PDB import PDBList\n",
    "pdbl = PDBList()\n",
    "pdbl.retrieve_pdb_file('5uit', pdir = './PDB_files/', file_format = 'mmCif')\n",
    "pdbl.retrieve_pdb_file('6bfn', pdir = './PDB_files/', file_format = 'mmCif')"
   ]
  },
  {
   "cell_type": "markdown",
   "id": "71da3820",
   "metadata": {},
   "source": [
    "## PDB\n",
    "\n",
    "Las proteínas se obtienen de este servidor, conocido como PDB (https://www.rcsb.org/).\n",
    "\n",
    "<img src=\"./Figures/PDB_screen.png\" width=\"800\" height=\"800\"/>\n",
    "\n",
    "También puede ir directamente al sitio web y descargar el archivo.\n",
    "\n",
    "<img src=\"./Figures/PDB_screen-2.png\" width=\"800\" height=\"800\"/>\n",
    "\n",
    "En la página encontrará información sobre la estructura de la proteína\n",
    "\n",
    "<img src=\"./Figures/PDB_screen-3.png\" width=\"800\" height=\"800\"/>\n",
    "\n",
    "Tendrás información sobre los ligandos presentes en la estructura\n",
    "\n",
    "<img src=\"./Figures/PDB_screen-4.png\" width=\"800\" height=\"800\"/>\n",
    "\n",
    "E información experimental sobre la proteína. También encontrará el artículo (si lo hay) en el que se publicó el marco.\n",
    "\n",
    "<img src=\"./Figures/PDB_screen-5.png\" width=\"800\" height=\"800\"/>"
   ]
  },
  {
   "cell_type": "code",
   "execution_count": null,
   "id": "f2f1fb0f",
   "metadata": {},
   "outputs": [],
   "source": [
    "import os\n",
    "import nglview as nv"
   ]
  },
  {
   "cell_type": "markdown",
   "id": "db9643c6",
   "metadata": {},
   "source": [
    "# IRAK4"
   ]
  },
  {
   "cell_type": "code",
   "execution_count": null,
   "id": "bcf184a6",
   "metadata": {},
   "outputs": [],
   "source": [
    "filepath = os.path.join('PDB_files', '5uit.cif')\n",
    "view = nv.show_file(filepath)\n",
    "view"
   ]
  },
  {
   "cell_type": "markdown",
   "id": "c0299e2d",
   "metadata": {},
   "source": [
    "# IRAK1"
   ]
  },
  {
   "cell_type": "code",
   "execution_count": null,
   "id": "aa141d6b",
   "metadata": {},
   "outputs": [],
   "source": [
    "filepath2 = os.path.join('PDB_files', '6bfn.cif')\n",
    "view2 = nv.show_file(filepath2)\n",
    "view2"
   ]
  },
  {
   "cell_type": "markdown",
   "id": "695dda56",
   "metadata": {},
   "source": [
    "# Cambiando la Representación Molecular"
   ]
  },
  {
   "cell_type": "code",
   "execution_count": null,
   "id": "ae7c3170",
   "metadata": {},
   "outputs": [],
   "source": [
    "filepath3 = os.path.join('PDB_files', '2mlr.pdb')\n",
    "view3 = nv.show_file(filepath3)\n",
    "view3"
   ]
  },
  {
   "cell_type": "code",
   "execution_count": null,
   "id": "c1c97867",
   "metadata": {},
   "outputs": [],
   "source": [
    "#view3 = nv.show_file(filepath3)\n",
    "view3.clear_representations()\n",
    "view3.add_representation('ball+stick')\n",
    "view3"
   ]
  },
  {
   "cell_type": "markdown",
   "id": "77246526",
   "metadata": {},
   "source": [
    "Las representaciones disponibles son:\n",
    "- `cartoon`: representación de la estructura secundaria de las proteínas (hélices alfa y láminas beta) y la estructura secundaria de los ácidos nucleicos;\n",
    "- `base` - muestra las bases de los ácidos nucleicos. Generalmente se usa con representación de dibujos animados;\n",
    "- `ball+stick`- representación de átomos como esferas conectadas por cilindros que representan enlaces;\n",
    "- `licorice` - similar a ball+stick, pero no muestra las esferas de los átomos;\n",
    "- `spacefill` - los átomos se representan como grandes esferas sin representar los enlaces\n",
    "- `hyperball`: una derivación de 'bola+palo' en la que cada átomo está débilmente conectado.\n"
   ]
  },
  {
   "cell_type": "markdown",
   "id": "5db52267",
   "metadata": {},
   "source": [
    "# Estructura molecular con diferentes representaciones"
   ]
  },
  {
   "cell_type": "code",
   "execution_count": null,
   "id": "92dc098e",
   "metadata": {},
   "outputs": [],
   "source": [
    "view4 = nv.show_file(filepath3)\n",
    "view4.clear_representations()\n",
    "view4.add_representation('licorice', 'ligand', opacity=0.5)\n",
    "view4.add_representation('cartoon', 'protein', color=\"blue\", opacity=1)\n",
    "view4.add_representation('contact')\n",
    "view4.center()\n",
    "view4"
   ]
  },
  {
   "cell_type": "code",
   "execution_count": null,
   "id": "132f2546",
   "metadata": {},
   "outputs": [],
   "source": [
    "filepath4 = os.path.join('PDB_files', '1xs9.pdb')\n",
    "view5 = nv.show_file(filepath4)\n",
    "view5"
   ]
  },
  {
   "cell_type": "markdown",
   "id": "8a8ea129",
   "metadata": {},
   "source": [
    "# Para guardar una figura"
   ]
  },
  {
   "cell_type": "code",
   "execution_count": null,
   "id": "4b6a14ad",
   "metadata": {},
   "outputs": [],
   "source": [
    "view5.render_image()"
   ]
  },
  {
   "cell_type": "code",
   "execution_count": null,
   "id": "56857399",
   "metadata": {},
   "outputs": [],
   "source": [
    "view5.download_image()"
   ]
  },
  {
   "cell_type": "markdown",
   "id": "5afa1c1a",
   "metadata": {},
   "source": [
    "# AlphaFold\n",
    "\n",
    "Si la estructura de una proteína se define predominantemente por su secuencia de aminoácidos, **¿cómo predecir su estructura a partir de esa secuencia?**\n",
    "\n",
    "Este es un problema muy relevante para la biología estructural. Debido a la complejidad del problema, se lleva a cabo una competencia llamada CASP (Critical Assessment of Structure Prediction) para evaluar la predicción de estructuras de proteínas utilizando varios métodos computacionales.\n",
    "\n",
    "En CASP14 (2020), AlphaFold logró una precisión notable en la predicción de estructuras de proteínas (https://predictioncenter.org/casp14/zscores_final.cgi).\n",
    "\n",
    "<img src=\"./Figures/AlphaFold.png\" width=\"800\" height=\"800\"/>\n",
    "\n",
    "AlphaFold es un nuevo enfoque de machine learning que incorpora conocimientos físicos y biológicos sobre la estructura de las proteínas, aprovechando las alineaciones de varias secuencias, en el diseño del algoritmo de deep learning. Recomendamos leer el artículo para más información sobre la metodología:\n",
    "\n",
    "Jumper, J., Evans, R., Pritzel, A. et al. Highly accurate protein structure prediction with AlphaFold. Nature 596, 583–589 (2021). https://doi.org/10.1038/s41586-021-03819-2\n",
    "\n",
    "<img src=\"./Figures/AlphaFold-2.1.png\" width=\"1000\" height=\"1000\"/>\n",
    "\n",
    "Existe un banco de datos con milhões de estructuras de proteínas preditas\n",
    "\n",
    "<img src=\"./Figures/AlphaFold-3.png\" width=\"800\" height=\"800\"/>\n",
    "\n",
    "\n",
    "Si desea modelar una proteína que no está en la base de datos, la sugerencia es usar AlphaFold en Google Colab:\n",
    "\n",
    "https://colab.research.google.com/github/deepmind/alphafold/blob/main/notebooks/AlphaFold.ipynb\n",
    "\n",
    "\n",
    "<img src=\"./Figures/Colab.png\" width=\"1000\" height=\"1000\"/>\n",
    "\n",
    "Simplemente instale las dependencias y prepare el 'environment' haciendo clic en las dos primeras celdas. Una vez descargada las dependencias, nos proporciona una secuencia de aminoácidos:\n",
    "\n",
    "<img src=\"./Figures/Colab-2.png\" width=\"1000\" height=\"1000\"/>\n",
    "\n",
    "\n",
    "\n",
    "<img src=\"./Figures/Colab-3.png\" width=\"1000\" height=\"1000\"/>\n",
    "\n",
    "\n",
    "<img src=\"./Figures/Colab-4.png\" width=\"1000\" height=\"1000\"/>"
   ]
  },
  {
   "cell_type": "code",
   "execution_count": null,
   "id": "cee391bf",
   "metadata": {},
   "outputs": [],
   "source": []
  },
  {
   "cell_type": "code",
   "execution_count": null,
   "id": "5942243f",
   "metadata": {},
   "outputs": [],
   "source": []
  }
 ],
 "metadata": {
  "kernelspec": {
   "display_name": "Python 3",
   "language": "python",
   "name": "python3"
  },
  "language_info": {
   "codemirror_mode": {
    "name": "ipython",
    "version": 3
   },
   "file_extension": ".py",
   "mimetype": "text/x-python",
   "name": "python",
   "nbconvert_exporter": "python",
   "pygments_lexer": "ipython3",
   "version": "3.9.6"
  }
 },
 "nbformat": 4,
 "nbformat_minor": 5
}
