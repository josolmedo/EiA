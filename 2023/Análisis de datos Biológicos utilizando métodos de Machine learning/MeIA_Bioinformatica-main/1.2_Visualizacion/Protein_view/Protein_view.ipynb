{
 "cells": [
  {
   "cell_type": "markdown",
   "id": "4675207e",
   "metadata": {},
   "source": [
    "# Machine learning su aplicación en Biología\n",
    "\n",
    "__Análisis de datos biológicos utilizando métodos de machine learning__\n",
    "\n",
    "_MeIA_\n",
    "\n",
    "`2023`"
   ]
  },
  {
   "cell_type": "markdown",
   "id": "dc47fe69",
   "metadata": {},
   "source": [
    "## ¿Cómo ha contribuido el machine learning a la biología estructural?"
   ]
  },
  {
   "cell_type": "markdown",
   "id": "853ec280",
   "metadata": {},
   "source": [
    "En la primera parte vimos cómo usar `Biophyton` para realizar diferentes tipos de análisis. En algunos análisis, especialmente si te interesa la estructura molecular, es importante que cuentes con herramientas que te permitan visualizar las macromoléculas. "
   ]
  },
  {
   "cell_type": "markdown",
   "id": "35e4a70b",
   "metadata": {},
   "source": [
    "# Un poco de historia sobre el estudio estructural de las proteínas.\n",
    "\n",
    "Las proteínas están formadas por una secuencia de aminoácidos. Esta secuencia confiere las propiedades estructurales de las proteínas. Y son estas propiedades estructurales las que dan a las proteínas sus funciones en la célula.\n",
    "\n",
    "<img src=\"./Figures/Seq_protein.png\" width=\"600\" height=\"600\"/>\n",
    "\n",
    "## Las estructuras secundarias\n",
    "\n",
    "<img src=\"./Figures/Seq_protein-2.png\" width=\"800\" height=\"800\"/>\n",
    "\n",
    "## Los 'motifs' estructurales\n",
    "\n",
    "<img src=\"./Figures/Motifs.png\" width=\"800\" height=\"800\"/>\n",
    "\n",
    "## ¿Cómo podemos saber si una proteína tiene un motivo estructural? Analicemos el caso de `MarA` (https://www.uniprot.org/uniprotkb/P0ACH5/entry):\n",
    "\n",
    "<img src=\"./Figures/MarA.png\" width=\"800\" height=\"800\"/>\n",
    "\n"
   ]
  },
  {
   "cell_type": "markdown",
   "id": "2ee33af7",
   "metadata": {},
   "source": [
    "Una herramienta ampliamente utilizada para la visualización de macromoléculas es `vmd`, `chimera` y **`PyMOL`** (https://pymolwiki.org/index.php/Main_Page).\n",
    "\n",
    "<img src=\"./Figures/Pymol.png\" width=\"600\" height=\"600\"/>\n",
    "\n",
    "Una de las ventajas de usar PyMOL es la fácil implementación del código, ya que podemos usar Python para automatizar procesos (https://pymolwiki.org/index.php/Category:Script_Library). Hagamos una prueba en `color_by_mutation`:\n",
    "\n",
    "<img src=\"./Figures/color_by_mutations.png\" width=\"600\" height=\"600\"/>\n",
    "\n",
    "Piense en el siguiente problema: quiero desarrollar un fármaco que inhiba la hexoquinasa *Rhipicephalus microplus*, pero esta también es una enzima importante para nosotros. Por lo tanto, necesitamos diseñar un inhibidor basado en la diferencia entre las estructuras de hexoquinasa."
   ]
  },
  {
   "cell_type": "markdown",
   "id": "8c3fbcbd",
   "metadata": {},
   "source": [
    "## La proteína no es estática\n",
    "\n",
    "Forma biológicamente funcional es un conjunto de estructuras en equilibrio que en condiciones nativas comparten funcionalidad. **¿Cómo estudiar la dinámica de proteínas?**\n",
    "\n",
    "<img src=\"./Figures/MD.png\" width=\"950\" height=\"950\"/>\n",
    "\n",
    "\n",
    "Con eso, podemos obtener una gran cantidad de datos (energéticos y estructurales) y utilizarlos para construir modelos de machine learning\n",
    "\n",
    "<img src=\"./Figures/ML_kinases.png\" width=\"800\" height=\"800\"/>\n",
    "\n",
    "<img src=\"./Figures/ML_MD.png\" width=\"800\" height=\"800\"/>\n",
    "\n",
    "<img src=\"./Figures/ML_predictions.png\" width=\"800\" height=\"800\"/>\n",
    "\n"
   ]
  },
  {
   "cell_type": "markdown",
   "id": "876c1d78",
   "metadata": {},
   "source": [
    "## \n",
    "\n",
    "En la siguiente figura tenemos el alineamiento de dos proteínas, IRAK4 e IRAK1. Esta secuencia, bajo el efecto de interacciones inter e intramoleculares, formará estructuras secundarias y se enrollará, asumiendo una forma funcional que regulará una vía de inflamación.\n",
    "\n",
    "<img src=\"./Figures/Protein_structure.png\" width=\"800\" height=\"800\"/>\n",
    "\n",
    "Así, estudiar la estructura de las proteínas nos permite:\n",
    "\n",
    "1. Planificar medicamentos más efectivos y selectivos;\n",
    "2. estudiar el plegamiento de proteínas asociadas a diversas enfermedades: enfermedad de Alzheimer, enfermedad de Parkinson, diabetes tipo II, demencia senil, esclerosis lateral amiotrófica, enfermedad de Huntington, entre otras;\n",
    "3. evaluar el efecto de las mutaciones en las secuencias de aminoácidos. Tenemos el ejemplo de la mutación Mpro en SARS-CoV y SARS-CoV-2;\n",
    "4. bioingeniería para catálisis enzimática..."
   ]
  },
  {
   "cell_type": "markdown",
   "id": "ad390926",
   "metadata": {},
   "source": [
    "Si bien PyMOL es una herramienta que permite muchas cosas, puede surgir la necesidad de obtener este tipo de vista en el propio jupyter notebook.\n",
    "\n",
    "Ahora, usemos una biblioteca llamada `nglview` para visualizar las proteínas. Para instalar la biblioteca solo"
   ]
  },
  {
   "cell_type": "code",
   "execution_count": 2,
   "id": "6b46c15d",
   "metadata": {},
   "outputs": [
    {
     "name": "stdout",
     "output_type": "stream",
     "text": [
      "Requirement already satisfied: nglview in /home/andre/anaconda3/envs/rdkit/lib/python3.9/site-packages (3.0.5)\n",
      "Requirement already satisfied: jupyterlab-widgets in /home/andre/anaconda3/envs/rdkit/lib/python3.9/site-packages (from nglview) (1.0.0)\n",
      "Requirement already satisfied: ipywidgets>=7 in /home/andre/anaconda3/envs/rdkit/lib/python3.9/site-packages (from nglview) (7.6.5)\n",
      "Requirement already satisfied: numpy in /home/andre/anaconda3/envs/rdkit/lib/python3.9/site-packages (from nglview) (1.20.3)\n",
      "Requirement already satisfied: traitlets>=4.3.1 in /home/andre/anaconda3/envs/rdkit/lib/python3.9/site-packages (from ipywidgets>=7->nglview) (5.0.5)\n",
      "Requirement already satisfied: ipython>=4.0.0 in /home/andre/anaconda3/envs/rdkit/lib/python3.9/site-packages (from ipywidgets>=7->nglview) (7.26.0)\n",
      "Requirement already satisfied: widgetsnbextension~=3.5.0 in /home/andre/anaconda3/envs/rdkit/lib/python3.9/site-packages (from ipywidgets>=7->nglview) (3.5.1)\n",
      "Requirement already satisfied: ipykernel>=4.5.1 in /home/andre/anaconda3/envs/rdkit/lib/python3.9/site-packages (from ipywidgets>=7->nglview) (5.3.4)\n",
      "Requirement already satisfied: nbformat>=4.2.0 in /home/andre/anaconda3/envs/rdkit/lib/python3.9/site-packages (from ipywidgets>=7->nglview) (5.1.3)\n",
      "Requirement already satisfied: ipython-genutils~=0.2.0 in /home/andre/anaconda3/envs/rdkit/lib/python3.9/site-packages (from ipywidgets>=7->nglview) (0.2.0)\n",
      "Requirement already satisfied: jupyter-client in /home/andre/anaconda3/envs/rdkit/lib/python3.9/site-packages (from ipykernel>=4.5.1->ipywidgets>=7->nglview) (6.1.12)\n",
      "Requirement already satisfied: tornado>=4.2 in /home/andre/anaconda3/envs/rdkit/lib/python3.9/site-packages (from ipykernel>=4.5.1->ipywidgets>=7->nglview) (6.1)\n",
      "Requirement already satisfied: pexpect>4.3 in /home/andre/anaconda3/envs/rdkit/lib/python3.9/site-packages (from ipython>=4.0.0->ipywidgets>=7->nglview) (4.8.0)\n",
      "Requirement already satisfied: setuptools>=18.5 in /home/andre/anaconda3/envs/rdkit/lib/python3.9/site-packages (from ipython>=4.0.0->ipywidgets>=7->nglview) (57.4.0)\n",
      "Requirement already satisfied: backcall in /home/andre/anaconda3/envs/rdkit/lib/python3.9/site-packages (from ipython>=4.0.0->ipywidgets>=7->nglview) (0.2.0)\n",
      "Requirement already satisfied: pygments in /home/andre/anaconda3/envs/rdkit/lib/python3.9/site-packages (from ipython>=4.0.0->ipywidgets>=7->nglview) (2.10.0)\n",
      "Requirement already satisfied: prompt-toolkit!=3.0.0,!=3.0.1,<3.1.0,>=2.0.0 in /home/andre/anaconda3/envs/rdkit/lib/python3.9/site-packages (from ipython>=4.0.0->ipywidgets>=7->nglview) (3.0.17)\n",
      "Requirement already satisfied: pickleshare in /home/andre/anaconda3/envs/rdkit/lib/python3.9/site-packages (from ipython>=4.0.0->ipywidgets>=7->nglview) (0.7.5)\n",
      "Requirement already satisfied: matplotlib-inline in /home/andre/anaconda3/envs/rdkit/lib/python3.9/site-packages (from ipython>=4.0.0->ipywidgets>=7->nglview) (0.1.2)\n",
      "Requirement already satisfied: decorator in /home/andre/anaconda3/envs/rdkit/lib/python3.9/site-packages (from ipython>=4.0.0->ipywidgets>=7->nglview) (5.0.9)\n",
      "Requirement already satisfied: jedi>=0.16 in /home/andre/anaconda3/envs/rdkit/lib/python3.9/site-packages (from ipython>=4.0.0->ipywidgets>=7->nglview) (0.18.0)\n",
      "Requirement already satisfied: parso<0.9.0,>=0.8.0 in /home/andre/anaconda3/envs/rdkit/lib/python3.9/site-packages (from jedi>=0.16->ipython>=4.0.0->ipywidgets>=7->nglview) (0.8.2)\n",
      "Requirement already satisfied: jsonschema!=2.5.0,>=2.4 in /home/andre/anaconda3/envs/rdkit/lib/python3.9/site-packages (from nbformat>=4.2.0->ipywidgets>=7->nglview) (3.2.0)\n",
      "Requirement already satisfied: jupyter-core in /home/andre/anaconda3/envs/rdkit/lib/python3.9/site-packages (from nbformat>=4.2.0->ipywidgets>=7->nglview) (4.7.1)\n",
      "Requirement already satisfied: pyrsistent>=0.14.0 in /home/andre/anaconda3/envs/rdkit/lib/python3.9/site-packages (from jsonschema!=2.5.0,>=2.4->nbformat>=4.2.0->ipywidgets>=7->nglview) (0.18.0)\n",
      "Requirement already satisfied: six>=1.11.0 in /home/andre/anaconda3/envs/rdkit/lib/python3.9/site-packages (from jsonschema!=2.5.0,>=2.4->nbformat>=4.2.0->ipywidgets>=7->nglview) (1.16.0)\n",
      "Requirement already satisfied: attrs>=17.4.0 in /home/andre/anaconda3/envs/rdkit/lib/python3.9/site-packages (from jsonschema!=2.5.0,>=2.4->nbformat>=4.2.0->ipywidgets>=7->nglview) (21.2.0)\n",
      "Requirement already satisfied: ptyprocess>=0.5 in /home/andre/anaconda3/envs/rdkit/lib/python3.9/site-packages (from pexpect>4.3->ipython>=4.0.0->ipywidgets>=7->nglview) (0.7.0)\n",
      "Requirement already satisfied: wcwidth in /home/andre/anaconda3/envs/rdkit/lib/python3.9/site-packages (from prompt-toolkit!=3.0.0,!=3.0.1,<3.1.0,>=2.0.0->ipython>=4.0.0->ipywidgets>=7->nglview) (0.2.5)\n",
      "Requirement already satisfied: notebook>=4.4.1 in /home/andre/anaconda3/envs/rdkit/lib/python3.9/site-packages (from widgetsnbextension~=3.5.0->ipywidgets>=7->nglview) (6.4.3)\n",
      "Requirement already satisfied: nbconvert in /home/andre/anaconda3/envs/rdkit/lib/python3.9/site-packages (from notebook>=4.4.1->widgetsnbextension~=3.5.0->ipywidgets>=7->nglview) (6.1.0)\n",
      "Requirement already satisfied: terminado>=0.8.3 in /home/andre/anaconda3/envs/rdkit/lib/python3.9/site-packages (from notebook>=4.4.1->widgetsnbextension~=3.5.0->ipywidgets>=7->nglview) (0.9.4)\n",
      "Requirement already satisfied: argon2-cffi in /home/andre/anaconda3/envs/rdkit/lib/python3.9/site-packages (from notebook>=4.4.1->widgetsnbextension~=3.5.0->ipywidgets>=7->nglview) (20.1.0)\n",
      "Requirement already satisfied: pyzmq>=17 in /home/andre/anaconda3/envs/rdkit/lib/python3.9/site-packages (from notebook>=4.4.1->widgetsnbextension~=3.5.0->ipywidgets>=7->nglview) (22.2.1)\n",
      "Requirement already satisfied: jinja2 in /home/andre/anaconda3/envs/rdkit/lib/python3.9/site-packages (from notebook>=4.4.1->widgetsnbextension~=3.5.0->ipywidgets>=7->nglview) (3.0.1)\n",
      "Requirement already satisfied: Send2Trash>=1.5.0 in /home/andre/anaconda3/envs/rdkit/lib/python3.9/site-packages (from notebook>=4.4.1->widgetsnbextension~=3.5.0->ipywidgets>=7->nglview) (1.5.0)\n",
      "Requirement already satisfied: prometheus-client in /home/andre/anaconda3/envs/rdkit/lib/python3.9/site-packages (from notebook>=4.4.1->widgetsnbextension~=3.5.0->ipywidgets>=7->nglview) (0.11.0)\n",
      "Requirement already satisfied: python-dateutil>=2.1 in /home/andre/anaconda3/envs/rdkit/lib/python3.9/site-packages (from jupyter-client->ipykernel>=4.5.1->ipywidgets>=7->nglview) (2.8.2)\n",
      "Requirement already satisfied: cffi>=1.0.0 in /home/andre/anaconda3/envs/rdkit/lib/python3.9/site-packages (from argon2-cffi->notebook>=4.4.1->widgetsnbextension~=3.5.0->ipywidgets>=7->nglview) (1.14.6)\n",
      "Requirement already satisfied: pycparser in /home/andre/anaconda3/envs/rdkit/lib/python3.9/site-packages (from cffi>=1.0.0->argon2-cffi->notebook>=4.4.1->widgetsnbextension~=3.5.0->ipywidgets>=7->nglview) (2.20)\n",
      "Requirement already satisfied: MarkupSafe>=2.0 in /home/andre/anaconda3/envs/rdkit/lib/python3.9/site-packages (from jinja2->notebook>=4.4.1->widgetsnbextension~=3.5.0->ipywidgets>=7->nglview) (2.0.1)\n",
      "Requirement already satisfied: bleach in /home/andre/anaconda3/envs/rdkit/lib/python3.9/site-packages (from nbconvert->notebook>=4.4.1->widgetsnbextension~=3.5.0->ipywidgets>=7->nglview) (4.0.0)\n",
      "Requirement already satisfied: pandocfilters>=1.4.1 in /home/andre/anaconda3/envs/rdkit/lib/python3.9/site-packages (from nbconvert->notebook>=4.4.1->widgetsnbextension~=3.5.0->ipywidgets>=7->nglview) (1.4.3)\n",
      "Requirement already satisfied: nbclient<0.6.0,>=0.5.0 in /home/andre/anaconda3/envs/rdkit/lib/python3.9/site-packages (from nbconvert->notebook>=4.4.1->widgetsnbextension~=3.5.0->ipywidgets>=7->nglview) (0.5.3)\n",
      "Requirement already satisfied: mistune<2,>=0.8.1 in /home/andre/anaconda3/envs/rdkit/lib/python3.9/site-packages (from nbconvert->notebook>=4.4.1->widgetsnbextension~=3.5.0->ipywidgets>=7->nglview) (0.8.4)\n",
      "Requirement already satisfied: entrypoints>=0.2.2 in /home/andre/anaconda3/envs/rdkit/lib/python3.9/site-packages (from nbconvert->notebook>=4.4.1->widgetsnbextension~=3.5.0->ipywidgets>=7->nglview) (0.3)\n",
      "Requirement already satisfied: testpath in /home/andre/anaconda3/envs/rdkit/lib/python3.9/site-packages (from nbconvert->notebook>=4.4.1->widgetsnbextension~=3.5.0->ipywidgets>=7->nglview) (0.5.0)\n",
      "Requirement already satisfied: defusedxml in /home/andre/anaconda3/envs/rdkit/lib/python3.9/site-packages (from nbconvert->notebook>=4.4.1->widgetsnbextension~=3.5.0->ipywidgets>=7->nglview) (0.7.1)\n",
      "Requirement already satisfied: jupyterlab-pygments in /home/andre/anaconda3/envs/rdkit/lib/python3.9/site-packages (from nbconvert->notebook>=4.4.1->widgetsnbextension~=3.5.0->ipywidgets>=7->nglview) (0.1.2)\n",
      "Requirement already satisfied: async-generator in /home/andre/anaconda3/envs/rdkit/lib/python3.9/site-packages (from nbclient<0.6.0,>=0.5.0->nbconvert->notebook>=4.4.1->widgetsnbextension~=3.5.0->ipywidgets>=7->nglview) (1.10)\n",
      "Requirement already satisfied: nest-asyncio in /home/andre/anaconda3/envs/rdkit/lib/python3.9/site-packages (from nbclient<0.6.0,>=0.5.0->nbconvert->notebook>=4.4.1->widgetsnbextension~=3.5.0->ipywidgets>=7->nglview) (1.5.1)\n"
     ]
    },
    {
     "name": "stdout",
     "output_type": "stream",
     "text": [
      "Requirement already satisfied: packaging in /home/andre/anaconda3/envs/rdkit/lib/python3.9/site-packages (from bleach->nbconvert->notebook>=4.4.1->widgetsnbextension~=3.5.0->ipywidgets>=7->nglview) (21.0)\n",
      "Requirement already satisfied: webencodings in /home/andre/anaconda3/envs/rdkit/lib/python3.9/site-packages (from bleach->nbconvert->notebook>=4.4.1->widgetsnbextension~=3.5.0->ipywidgets>=7->nglview) (0.5.1)\n",
      "Requirement already satisfied: pyparsing>=2.0.2 in /home/andre/anaconda3/envs/rdkit/lib/python3.9/site-packages (from packaging->bleach->nbconvert->notebook>=4.4.1->widgetsnbextension~=3.5.0->ipywidgets>=7->nglview) (2.4.7)\n",
      "Note: you may need to restart the kernel to use updated packages.\n"
     ]
    }
   ],
   "source": [
    "pip install nglview"
   ]
  },
  {
   "cell_type": "markdown",
   "id": "0c1ea60e",
   "metadata": {},
   "source": [
    "NGLview permite la visualización interactiva de estructuras moleculares tridimensionales."
   ]
  },
  {
   "cell_type": "markdown",
   "id": "444c601e",
   "metadata": {},
   "source": [
    "Usaremos la biblioteca de Biopython para descargar los datos."
   ]
  },
  {
   "cell_type": "code",
   "execution_count": 3,
   "id": "6896fc0c",
   "metadata": {},
   "outputs": [
    {
     "name": "stdout",
     "output_type": "stream",
     "text": [
      "Structure exists: './PDB_files/5uit.cif' \n",
      "Structure exists: './PDB_files/6bfn.cif' \n"
     ]
    },
    {
     "data": {
      "text/plain": [
       "'./PDB_files/6bfn.cif'"
      ]
     },
     "execution_count": 3,
     "metadata": {},
     "output_type": "execute_result"
    }
   ],
   "source": [
    "import Bio\n",
    "from Bio.PDB import PDBList\n",
    "pdbl = PDBList()\n",
    "pdbl.retrieve_pdb_file('5uit', pdir = './PDB_files/', file_format = 'mmCif')\n",
    "pdbl.retrieve_pdb_file('6bfn', pdir = './PDB_files/', file_format = 'mmCif')"
   ]
  },
  {
   "cell_type": "markdown",
   "id": "71da3820",
   "metadata": {},
   "source": [
    "## PDB\n",
    "\n",
    "Las proteínas se obtienen de este servidor, conocido como PDB (https://www.rcsb.org/).\n",
    "\n",
    "<img src=\"./Figures/PDB_screen.png\" width=\"800\" height=\"800\"/>\n",
    "\n",
    "También puede ir directamente al sitio web y descargar el archivo.\n",
    "\n",
    "<img src=\"./Figures/PDB_screen-2.png\" width=\"800\" height=\"800\"/>\n",
    "\n",
    "En la página encontrará información sobre la estructura de la proteína\n",
    "\n",
    "<img src=\"./Figures/PDB_screen-3.png\" width=\"800\" height=\"800\"/>\n",
    "\n",
    "Tendrás información sobre los ligandos presentes en la estructura\n",
    "\n",
    "<img src=\"./Figures/PDB_screen-4.png\" width=\"800\" height=\"800\"/>\n",
    "\n",
    "E información experimental sobre la proteína. También encontrará el artículo (si lo hay) en el que se publicó el marco.\n",
    "\n",
    "<img src=\"./Figures/PDB_screen-5.png\" width=\"800\" height=\"800\"/>"
   ]
  },
  {
   "cell_type": "code",
   "execution_count": 4,
   "id": "f2f1fb0f",
   "metadata": {},
   "outputs": [
    {
     "data": {
      "application/vnd.jupyter.widget-view+json": {
       "model_id": "38adbda2f5b24a28a87190cf2f5e4008",
       "version_major": 2,
       "version_minor": 0
      },
      "text/plain": []
     },
     "metadata": {},
     "output_type": "display_data"
    }
   ],
   "source": [
    "import os\n",
    "import nglview as nv"
   ]
  },
  {
   "cell_type": "markdown",
   "id": "db9643c6",
   "metadata": {},
   "source": [
    "# IRAK4"
   ]
  },
  {
   "cell_type": "code",
   "execution_count": 5,
   "id": "bcf184a6",
   "metadata": {},
   "outputs": [
    {
     "data": {
      "application/vnd.jupyter.widget-view+json": {
       "model_id": "1b7db0ec6f794ca8b0d01e53e24dad33",
       "version_major": 2,
       "version_minor": 0
      },
      "text/plain": [
       "NGLWidget()"
      ]
     },
     "metadata": {},
     "output_type": "display_data"
    }
   ],
   "source": [
    "filepath = os.path.join('PDB_files', '5uit.cif')\n",
    "view = nv.show_file(filepath)\n",
    "view"
   ]
  },
  {
   "cell_type": "markdown",
   "id": "c0299e2d",
   "metadata": {},
   "source": [
    "# IRAK1"
   ]
  },
  {
   "cell_type": "code",
   "execution_count": 6,
   "id": "aa141d6b",
   "metadata": {},
   "outputs": [
    {
     "data": {
      "application/vnd.jupyter.widget-view+json": {
       "model_id": "bb54a877d0ab40d48e8532951c160b63",
       "version_major": 2,
       "version_minor": 0
      },
      "text/plain": [
       "NGLWidget()"
      ]
     },
     "metadata": {},
     "output_type": "display_data"
    }
   ],
   "source": [
    "filepath2 = os.path.join('PDB_files', '6bfn.cif')\n",
    "view2 = nv.show_file(filepath2)\n",
    "view2"
   ]
  },
  {
   "cell_type": "markdown",
   "id": "695dda56",
   "metadata": {},
   "source": [
    "# Cambiando la Representación Molecular"
   ]
  },
  {
   "cell_type": "code",
   "execution_count": 9,
   "id": "ae7c3170",
   "metadata": {},
   "outputs": [
    {
     "data": {
      "application/vnd.jupyter.widget-view+json": {
       "model_id": "2a5a2b2812234dcf814ed31ea66bcc51",
       "version_major": 2,
       "version_minor": 0
      },
      "text/plain": [
       "NGLWidget()"
      ]
     },
     "metadata": {},
     "output_type": "display_data"
    }
   ],
   "source": [
    "filepath3 = os.path.join('PDB_files', '2mlr.pdb')\n",
    "view3 = nv.show_file(filepath3)\n",
    "view3"
   ]
  },
  {
   "cell_type": "code",
   "execution_count": 10,
   "id": "c1c97867",
   "metadata": {},
   "outputs": [
    {
     "data": {
      "application/vnd.jupyter.widget-view+json": {
       "model_id": "ef7af1df5fe347e1a15693fe32540f82",
       "version_major": 2,
       "version_minor": 0
      },
      "text/plain": [
       "NGLWidget()"
      ]
     },
     "metadata": {},
     "output_type": "display_data"
    }
   ],
   "source": [
    "view3 = nv.show_file(filepath3)\n",
    "view3.clear_representations()\n",
    "view3.add_representation('ball+stick')\n",
    "view3"
   ]
  },
  {
   "cell_type": "markdown",
   "id": "77246526",
   "metadata": {},
   "source": [
    "Las representaciones disponibles son:\n",
    "- `cartoon`: representación de la estructura secundaria de las proteínas (hélices alfa y láminas beta) y la estructura secundaria de los ácidos nucleicos;\n",
    "- `base` - muestra las bases de los ácidos nucleicos. Generalmente se usa con representación de dibujos animados;\n",
    "- `ball+stick`- representación de átomos como esferas conectadas por cilindros que representan enlaces;\n",
    "- `licorice` - similar a ball+stick, pero no muestra las esferas de los átomos;\n",
    "- `spacefill` - los átomos se representan como grandes esferas sin representar los enlaces\n",
    "- `hyperball`: una derivación de 'bola+palo' en la que cada átomo está débilmente conectado.\n"
   ]
  },
  {
   "cell_type": "markdown",
   "id": "5db52267",
   "metadata": {},
   "source": [
    "# Estructura molecular con diferentes representaciones"
   ]
  },
  {
   "cell_type": "code",
   "execution_count": 11,
   "id": "92dc098e",
   "metadata": {},
   "outputs": [
    {
     "data": {
      "application/vnd.jupyter.widget-view+json": {
       "model_id": "00e3688e1f6646729b6ab6b6f5283817",
       "version_major": 2,
       "version_minor": 0
      },
      "text/plain": [
       "NGLWidget()"
      ]
     },
     "metadata": {},
     "output_type": "display_data"
    }
   ],
   "source": [
    "view4 = nv.show_file(filepath3)\n",
    "view4.clear_representations()\n",
    "view4.add_representation('licorice', 'ligand', opacity=0.5)\n",
    "view4.add_representation('cartoon', 'protein', color=\"blue\", opacity=1)\n",
    "view4.add_representation('contact')\n",
    "view4.center()\n",
    "view4"
   ]
  },
  {
   "cell_type": "code",
   "execution_count": 12,
   "id": "132f2546",
   "metadata": {},
   "outputs": [
    {
     "data": {
      "application/vnd.jupyter.widget-view+json": {
       "model_id": "73ef52c55f554c44be29ef3cb700a52d",
       "version_major": 2,
       "version_minor": 0
      },
      "text/plain": [
       "NGLWidget()"
      ]
     },
     "metadata": {},
     "output_type": "display_data"
    }
   ],
   "source": [
    "filepath4 = os.path.join('PDB_files', '1xs9.pdb')\n",
    "view5 = nv.show_file(filepath4)\n",
    "view5"
   ]
  },
  {
   "cell_type": "markdown",
   "id": "8a8ea129",
   "metadata": {},
   "source": [
    "# Para guardar una figura"
   ]
  },
  {
   "cell_type": "code",
   "execution_count": null,
   "id": "4b6a14ad",
   "metadata": {},
   "outputs": [],
   "source": [
    "view5.render_image()"
   ]
  },
  {
   "cell_type": "code",
   "execution_count": null,
   "id": "56857399",
   "metadata": {},
   "outputs": [],
   "source": [
    "view5.download_image()"
   ]
  },
  {
   "cell_type": "markdown",
   "id": "5afa1c1a",
   "metadata": {},
   "source": [
    "# AlphaFold\n",
    "\n",
    "Si la estructura de una proteína se define predominantemente por su secuencia de aminoácidos, **¿cómo predecir su estructura a partir de esa secuencia?**\n",
    "\n",
    "Este es un problema muy relevante para la biología estructural. Debido a la complejidad del problema, se lleva a cabo una competencia llamada CASP (Critical Assessment of Structure Prediction) para evaluar la predicción de estructuras de proteínas utilizando varios métodos computacionales.\n",
    "\n",
    "En CASP14 (2020), AlphaFold logró una precisión notable en la predicción de estructuras de proteínas (https://predictioncenter.org/casp14/zscores_final.cgi).\n",
    "\n",
    "<img src=\"./Figures/AlphaFold.png\" width=\"800\" height=\"800\"/>\n",
    "\n",
    "AlphaFold es un nuevo enfoque de machine learning que incorpora conocimientos físicos y biológicos sobre la estructura de las proteínas, aprovechando las alineaciones de varias secuencias, en el diseño del algoritmo de deep learning. Recomendamos leer el artículo para más información sobre la metodología:\n",
    "\n",
    "Jumper, J., Evans, R., Pritzel, A. et al. Highly accurate protein structure prediction with AlphaFold. Nature 596, 583–589 (2021). https://doi.org/10.1038/s41586-021-03819-2\n",
    "\n",
    "<img src=\"./Figures/AlphaFold-2.1.png\" width=\"1000\" height=\"1000\"/>\n",
    "\n",
    "Existe un banco de datos con milhões de estructuras de proteínas preditas\n",
    "\n",
    "<img src=\"./Figures/AlphaFold-3.png\" width=\"800\" height=\"800\"/>\n",
    "\n",
    "\n",
    "Si desea modelar una proteína que no está en la base de datos, la sugerencia es usar AlphaFold en Google Colab:\n",
    "\n",
    "https://colab.research.google.com/github/deepmind/alphafold/blob/main/notebooks/AlphaFold.ipynb\n",
    "\n",
    "\n",
    "<img src=\"./Figures/Colab.png\" width=\"1000\" height=\"1000\"/>\n",
    "\n",
    "Simplemente instale las dependencias y prepare el 'environment' haciendo clic en las dos primeras celdas. Una vez descargada las dependencias, nos proporciona una secuencia de aminoácidos:\n",
    "\n",
    "<img src=\"./Figures/Colab-2.png\" width=\"1000\" height=\"1000\"/>\n",
    "\n",
    "\n",
    "\n",
    "<img src=\"./Figures/Colab-3.png\" width=\"1000\" height=\"1000\"/>\n",
    "\n",
    "\n",
    "<img src=\"./Figures/Colab-4.png\" width=\"1000\" height=\"1000\"/>"
   ]
  },
  {
   "cell_type": "code",
   "execution_count": null,
   "id": "cee391bf",
   "metadata": {},
   "outputs": [],
   "source": []
  },
  {
   "cell_type": "code",
   "execution_count": null,
   "id": "5942243f",
   "metadata": {},
   "outputs": [],
   "source": []
  }
 ],
 "metadata": {
  "kernelspec": {
   "display_name": "Python 3",
   "language": "python",
   "name": "python3"
  },
  "language_info": {
   "codemirror_mode": {
    "name": "ipython",
    "version": 3
   },
   "file_extension": ".py",
   "mimetype": "text/x-python",
   "name": "python",
   "nbconvert_exporter": "python",
   "pygments_lexer": "ipython3",
   "version": "3.9.6"
  }
 },
 "nbformat": 4,
 "nbformat_minor": 5
}
