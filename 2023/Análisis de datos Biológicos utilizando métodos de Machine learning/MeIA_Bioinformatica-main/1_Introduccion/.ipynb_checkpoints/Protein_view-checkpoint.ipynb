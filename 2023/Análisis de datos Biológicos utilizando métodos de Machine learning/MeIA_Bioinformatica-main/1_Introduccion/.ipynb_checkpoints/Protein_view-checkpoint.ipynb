{
 "cells": [
  {
   "cell_type": "markdown",
   "id": "3792d16f",
   "metadata": {},
   "source": [
    "Vamos utilizar a biblioteca `nglview` para visualizar os dados do PDB. Para instalar basta: \n",
    "\n",
    "pip install nglview"
   ]
  },
  {
   "cell_type": "markdown",
   "id": "e6af0114",
   "metadata": {},
   "source": [
    "!pip3 install nglview"
   ]
  },
  {
   "cell_type": "code",
   "execution_count": 5,
   "id": "f2f1fb0f",
   "metadata": {},
   "outputs": [],
   "source": [
    "import os\n",
    "import nglview as nv"
   ]
  },
  {
   "cell_type": "markdown",
   "id": "444c601e",
   "metadata": {},
   "source": [
    "Para visualizar a proteína, vamos utilizar a função show_file. Vamos colocar essa função dentro da variável view"
   ]
  },
  {
   "cell_type": "code",
   "execution_count": 6,
   "id": "bcf184a6",
   "metadata": {},
   "outputs": [],
   "source": [
    "filepath = os.path.join('PDB_files', '3fgu.pdb')\n",
    "view = nv.show_file(filepath)"
   ]
  },
  {
   "cell_type": "code",
   "execution_count": 7,
   "id": "d472ddf5",
   "metadata": {},
   "outputs": [
    {
     "data": {
      "application/vnd.jupyter.widget-view+json": {
       "model_id": "f72f582347c949adb4da20af20f3513f",
       "version_major": 2,
       "version_minor": 0
      },
      "text/plain": [
       "NGLWidget()"
      ]
     },
     "metadata": {},
     "output_type": "display_data"
    }
   ],
   "source": [
    "view"
   ]
  },
  {
   "cell_type": "markdown",
   "id": "695dda56",
   "metadata": {},
   "source": [
    "# Alterando a representação molecular"
   ]
  },
  {
   "cell_type": "code",
   "execution_count": 8,
   "id": "ae7c3170",
   "metadata": {},
   "outputs": [
    {
     "data": {
      "application/vnd.jupyter.widget-view+json": {
       "model_id": "bcedef30680341f5b5eb422a108de0fc",
       "version_major": 2,
       "version_minor": 0
      },
      "text/plain": [
       "NGLWidget()"
      ]
     },
     "metadata": {},
     "output_type": "display_data"
    }
   ],
   "source": [
    "filepath2 = os.path.join('PDB_files', '2mlr.pdb')\n",
    "view2 = nv.show_file(filepath2)\n",
    "view2"
   ]
  },
  {
   "cell_type": "code",
   "execution_count": 9,
   "id": "c1c97867",
   "metadata": {},
   "outputs": [
    {
     "data": {
      "application/vnd.jupyter.widget-view+json": {
       "model_id": "67ffad39f91e4e36a18d8a9152bc5f12",
       "version_major": 2,
       "version_minor": 0
      },
      "text/plain": [
       "NGLWidget()"
      ]
     },
     "metadata": {},
     "output_type": "display_data"
    }
   ],
   "source": [
    "view2 = nv.show_file(filepath2)\n",
    "view2.clear_representations()\n",
    "view2.add_representation('ball+stick')\n",
    "view2"
   ]
  },
  {
   "cell_type": "markdown",
   "id": "77246526",
   "metadata": {},
   "source": [
    "As representações disponíveis são:\n",
    "- `cartoon` - representação da estrutura secundária de proteínas (alpha hélices e folhas beta) e estrutura secundária de ácidos nucléicos;\n",
    "- `base` - mostra as bases dos ácidos nucleicos. Geralmente utilizado com a representação em cartoon;\n",
    "- `ball+stick`- representação dos átomos como esferas conectados por cilindros representando as ligações;\n",
    "- `licorice` - similar a ball+stick, mas não mostra as esferas dos átomos;\n",
    "- `spacefill` - os átomos são representados como grandes esferas sem representar as ligações\n",
    "- `hyperball` - uma derivação do `ball+stick` em que cada átomos esta levemente conectado.\n"
   ]
  },
  {
   "cell_type": "markdown",
   "id": "3bc127aa",
   "metadata": {},
   "source": [
    "### Tarefa\n",
    "Nesse ponto podemos deixar como tarefa que eles explorem os outros modos de visualização das duas proteínas"
   ]
  },
  {
   "cell_type": "markdown",
   "id": "5db52267",
   "metadata": {},
   "source": [
    "# Estrutura molecular com diferentes representações"
   ]
  },
  {
   "cell_type": "code",
   "execution_count": 10,
   "id": "92dc098e",
   "metadata": {},
   "outputs": [
    {
     "data": {
      "application/vnd.jupyter.widget-view+json": {
       "model_id": "8bbd07cbb68f406f96d389943fa29efc",
       "version_major": 2,
       "version_minor": 0
      },
      "text/plain": [
       "NGLWidget()"
      ]
     },
     "metadata": {},
     "output_type": "display_data"
    }
   ],
   "source": [
    "view4 = nv.show_file(filepath2)\n",
    "view4.clear_representations()\n",
    "view4.add_representation('licorice', 'ligand', opacity=0.5)\n",
    "view4.add_representation('cartoon', 'protein', color=\"blue\", opacity=1)\n",
    "view4.add_representation('contact')\n",
    "view4.center()\n",
    "view4"
   ]
  },
  {
   "cell_type": "code",
   "execution_count": 11,
   "id": "132f2546",
   "metadata": {},
   "outputs": [
    {
     "data": {
      "application/vnd.jupyter.widget-view+json": {
       "model_id": "3cc58d1bbb0a48ea9bba3643d2f7953e",
       "version_major": 2,
       "version_minor": 0
      },
      "text/plain": [
       "NGLWidget()"
      ]
     },
     "metadata": {},
     "output_type": "display_data"
    }
   ],
   "source": [
    "filepath3 = os.path.join('PDB_files', '1xs9.pdb')\n",
    "view5 = nv.show_file(filepath3)\n",
    "view5"
   ]
  },
  {
   "cell_type": "markdown",
   "id": "8a8ea129",
   "metadata": {},
   "source": [
    "# Para salvar uma figura"
   ]
  },
  {
   "cell_type": "code",
   "execution_count": 12,
   "id": "4b6a14ad",
   "metadata": {},
   "outputs": [],
   "source": [
    "view5.render_image()"
   ]
  },
  {
   "cell_type": "code",
   "execution_count": 13,
   "id": "56857399",
   "metadata": {},
   "outputs": [],
   "source": [
    "view5.download_image()"
   ]
  },
  {
   "cell_type": "code",
   "execution_count": null,
   "id": "44cbebc5",
   "metadata": {},
   "outputs": [],
   "source": []
  }
 ],
 "metadata": {
  "kernelspec": {
   "display_name": "Python 3 (ipykernel)",
   "language": "python",
   "name": "python3"
  },
  "language_info": {
   "codemirror_mode": {
    "name": "ipython",
    "version": 3
   },
   "file_extension": ".py",
   "mimetype": "text/x-python",
   "name": "python",
   "nbconvert_exporter": "python",
   "pygments_lexer": "ipython3",
   "version": "3.9.12"
  }
 },
 "nbformat": 4,
 "nbformat_minor": 5
}
