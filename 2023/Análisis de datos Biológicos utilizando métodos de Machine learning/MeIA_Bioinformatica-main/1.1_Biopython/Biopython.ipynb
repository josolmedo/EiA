{
 "cells": [
  {
   "cell_type": "markdown",
   "id": "3a44582a",
   "metadata": {},
   "source": [
    "# BioPython\n",
    "\n",
    "__Análisis de datos biológicos utilizando métodos de machine learning__\n",
    "\n",
    "_MeIA_\n",
    "\n",
    "`2023`"
   ]
  },
  {
   "cell_type": "markdown",
   "id": "f6c75df0",
   "metadata": {},
   "source": [
    "Biophyton es un conjunto de librerias para el análisis de datos Biológicos escrita en Python por un equipo internacional de desarrolladores. Se inicio en 1999 y su primer version fue lanzada en Julio del 2000. \n",
    "\n",
    "El objetivo de Biopython es hacer que los análisis Bioinformaticos sean lo más simple posibles. Proporciona varios formatos de archivo, incluidos, FASTA, GenBank, SwissProt, PDB, etc. También ofrece acceso a recursos en línea y bases de datos biológicas con interfaces para muchas herramientas para hacer más sencillas y rapidas las tareas de la bioinformática. \n",
    "\n",
    "http://biopython.org/DIST/docs/tutorial/Tutorial.pdf."
   ]
  },
  {
   "cell_type": "markdown",
   "id": "c0f049b9",
   "metadata": {},
   "source": [
    "### Que podemos encontrar en Biopython\n",
    "\n",
    "- La capacidad de analizar archivos bioinformáticos, incluida la compatibilidad con los siguientes formatos:\n",
    "     - Blast output\n",
    "     - Clusterw\n",
    "     - Fasta\n",
    "     - GenBank\n",
    "     - PudMed and Medline\n",
    "     - ExPASy files\n",
    "     - SCOP\n",
    "     - UniGene\n",
    "     - SwissProt\n",
    "\n",
    "Los archivos en los formatos admitidos se pueden iterar registro a registro o se pueden indexar y acceder a través de una interfaz de diccionario.\n",
    "\n",
    "- Código para manejar destinos populares de bioinformática en línea como:\n",
    "    - NCBI Blast, Blast, servicios de Entrez y PudMed\n",
    "    - ExPASy, entrada de Swiss-Prot y Prosite\n",
    "    \n",
    "- Interfaces a programas comunes de bioinformática tales como:\n",
    "    - Exploración independente de NCBI\n",
    "    - Programa de alineamiento ClustalW\n",
    "    - Herramientas de línea de comando EMBOSS\n",
    "    \n",
    "- Una clase secuencia estándar que se ocupa de secuencias, identificadores de secuencias y características de secuencias.\n",
    "\n",
    "- Herramientas para realizar operaciones comunes en secuencias, como traducción, transcripción y cálculo de peso.\n",
    "\n",
    "- Código pata realizar clasificación de datos utilizando K Nearest Neighbors, Naive Bayers o Suppert Vector Machines.\n",
    "\n",
    "- Código para gestionar alineamientos, incluida una forma estándar de crear y gestionar matrices de sutitución.\n",
    "\n",
    "- Código que facilita la división de tareas paralelizables en procesos separados.\n",
    "\n",
    "- Programas basados en GUI para realizar manipulaciones de secuencias básicas, traducciones, BLASTing, etc.\n",
    "\n",
    "- Integración con BioSQL.\n",
    "    "
   ]
  },
  {
   "cell_type": "markdown",
   "id": "51f6c161",
   "metadata": {},
   "source": [
    "### Instalación de Biopython\n",
    "\n",
    "Podemos instalar Biopython usando conda o pip a través de Command prompt: \n",
    "    \n",
    "`conda install biopython`\n",
    "\n",
    "`pip install biopython`\n",
    "\n",
    "Despues solo importamos la paqueteria dentro del notebook"
   ]
  },
  {
   "cell_type": "code",
   "execution_count": null,
   "id": "103e8fff",
   "metadata": {},
   "outputs": [],
   "source": [
    "!pip install biopython"
   ]
  },
  {
   "cell_type": "code",
   "execution_count": 1,
   "id": "c8c5b352",
   "metadata": {},
   "outputs": [
    {
     "name": "stdout",
     "output_type": "stream",
     "text": [
      "1.81\n"
     ]
    }
   ],
   "source": [
    "import Bio\n",
    "\n",
    "print(Bio.__version__)"
   ]
  },
  {
   "cell_type": "markdown",
   "id": "be70110c",
   "metadata": {},
   "source": [
    "### Seq Class\n"
   ]
  },
  {
   "cell_type": "code",
   "execution_count": 2,
   "id": "fe8504b2",
   "metadata": {},
   "outputs": [
    {
     "name": "stdout",
     "output_type": "stream",
     "text": [
      "<class 'Bio.Seq.Seq'>\n"
     ]
    }
   ],
   "source": [
    "from Bio.Seq import Seq\n",
    "my_seq = Seq(\"ATGGCCTTAAA\")\n",
    "print(type(my_seq))"
   ]
  },
  {
   "cell_type": "markdown",
   "id": "532ad3ae",
   "metadata": {},
   "source": [
    "Podemos utilizar metodo .count() como en los string."
   ]
  },
  {
   "cell_type": "code",
   "execution_count": 3,
   "id": "ead95aa8",
   "metadata": {},
   "outputs": [
    {
     "data": {
      "text/plain": [
       "1"
      ]
     },
     "execution_count": 3,
     "metadata": {},
     "output_type": "execute_result"
    }
   ],
   "source": [
    "my_seq.count(\"AA\")"
   ]
  },
  {
   "cell_type": "markdown",
   "id": "814eebde",
   "metadata": {},
   "source": [
    "Podemos calcular el procentaje de GC "
   ]
  },
  {
   "cell_type": "code",
   "execution_count": 4,
   "id": "2f46dc54",
   "metadata": {},
   "outputs": [
    {
     "data": {
      "text/plain": [
       "36.36363636363637"
      ]
     },
     "execution_count": 4,
     "metadata": {},
     "output_type": "execute_result"
    }
   ],
   "source": [
    "100 * (my_seq.count(\"G\") + my_seq.count(\"C\")) / len(my_seq)"
   ]
  },
  {
   "cell_type": "markdown",
   "id": "a7588dff",
   "metadata": {},
   "source": [
    "El contenido de GC influye en la evolución de las proteínas por su coste energético, y en este proceso intervienen tanto la síntesis de bases como de aminiácidos. Por lo tanto, las proteínas altamente ricas en GC pueden significar un menor costo para la síntesis de proteínas, pero también un mayor costo para la síntesis de nucleótidos. "
   ]
  },
  {
   "cell_type": "code",
   "execution_count": 5,
   "id": "cd5d3000",
   "metadata": {},
   "outputs": [
    {
     "data": {
      "text/plain": [
       "0.36363636363636365"
      ]
     },
     "execution_count": 5,
     "metadata": {},
     "output_type": "execute_result"
    }
   ],
   "source": [
    "from Bio.SeqUtils import gc_fraction\n",
    "gc_fraction(my_seq)"
   ]
  },
  {
   "cell_type": "markdown",
   "id": "af7b8898",
   "metadata": {},
   "source": [
    "#### Concatena y adiciona secuencias"
   ]
  },
  {
   "cell_type": "code",
   "execution_count": 6,
   "id": "6e2675a5",
   "metadata": {},
   "outputs": [
    {
     "data": {
      "text/plain": [
       "Seq('ACGTAACCGG')"
      ]
     },
     "execution_count": 6,
     "metadata": {},
     "output_type": "execute_result"
    }
   ],
   "source": [
    "seq1 = Seq(\"ACGT\")\n",
    "seq2 = Seq(\"AACCGG\")\n",
    "seq1 + seq2"
   ]
  },
  {
   "cell_type": "markdown",
   "id": "db0d6fef",
   "metadata": {},
   "source": [
    "Biopython no revisa que las secuencias sean consistentes por lo que hay que tener cuidado con los tipos de datos"
   ]
  },
  {
   "cell_type": "code",
   "execution_count": 7,
   "id": "6b5057a3",
   "metadata": {},
   "outputs": [
    {
     "data": {
      "text/plain": [
       "Seq('EVRNAKACGT')"
      ]
     },
     "execution_count": 7,
     "metadata": {},
     "output_type": "execute_result"
    }
   ],
   "source": [
    "protein_seq = Seq(\"EVRNAK\")\n",
    "dna_seq = Seq(\"ACGT\")\n",
    "protein_seq + dna_seq"
   ]
  },
  {
   "cell_type": "markdown",
   "id": "22170cca",
   "metadata": {},
   "source": [
    "Muchas veces nos enfrentamos a datos incosistente, principalmente tenemos datos en mayusculas y minusculas"
   ]
  },
  {
   "cell_type": "code",
   "execution_count": 8,
   "id": "71df5d96",
   "metadata": {},
   "outputs": [
    {
     "name": "stdout",
     "output_type": "stream",
     "text": [
      "acgtACGT\n",
      "ACGTACGT\n",
      "acgtacgt\n"
     ]
    }
   ],
   "source": [
    "dna_seq = Seq(\"acgtACGT\")\n",
    "print(dna_seq)\n",
    "print(dna_seq.upper())\n",
    "print(dna_seq.lower())"
   ]
  },
  {
   "cell_type": "markdown",
   "id": "0aecadca",
   "metadata": {},
   "source": [
    "## El dogma central \n",
    "\n",
    "Vamos a recordar un poco el dogma central\n",
    "\n",
    "<img src=\"centraldogma.jpeg\" width=\"700\" height=\"400\"/>"
   ]
  },
  {
   "cell_type": "markdown",
   "id": "24602ac4",
   "metadata": {},
   "source": [
    "Para las secuencias podemos obtener facilmente complemento o el complemento inverso de un objeto Seq utilizando sus métodos integrados."
   ]
  },
  {
   "cell_type": "code",
   "execution_count": 9,
   "id": "69ec646d",
   "metadata": {},
   "outputs": [
    {
     "data": {
      "text/plain": [
       "Seq('GATCGATGGGCCTATATAGGATCGAAAATCGC')"
      ]
     },
     "execution_count": 9,
     "metadata": {},
     "output_type": "execute_result"
    }
   ],
   "source": [
    "my_seq = Seq(\"GATCGATGGGCCTATATAGGATCGAAAATCGC\")\n",
    "my_seq"
   ]
  },
  {
   "cell_type": "code",
   "execution_count": 10,
   "id": "fe320709",
   "metadata": {},
   "outputs": [
    {
     "data": {
      "text/plain": [
       "Seq('CTAGCTACCCGGATATATCCTAGCTTTTAGCG')"
      ]
     },
     "execution_count": 10,
     "metadata": {},
     "output_type": "execute_result"
    }
   ],
   "source": [
    "my_seq.complement()"
   ]
  },
  {
   "cell_type": "code",
   "execution_count": 11,
   "id": "cbfff9a2",
   "metadata": {},
   "outputs": [
    {
     "data": {
      "text/plain": [
       "Seq('GCGATTTTCGATCCTATATAGGCCCATCGATC')"
      ]
     },
     "execution_count": 11,
     "metadata": {},
     "output_type": "execute_result"
    }
   ],
   "source": [
    "my_seq.reverse_complement()"
   ]
  },
  {
   "cell_type": "markdown",
   "id": "cc97b5a0",
   "metadata": {},
   "source": [
    "<div class=\"alert alert-block alert-danger\">\n",
    "<b>Alerta:</b> Debemos recordar que la secuencia de proteínas no tiene secuencia complementaria\n",
    "</div>"
   ]
  },
  {
   "cell_type": "markdown",
   "id": "2448f924",
   "metadata": {},
   "source": [
    "### Transcripción\n",
    "<img src=\"transcription.png\" width=\"700\" height=\"400\"/>"
   ]
  },
  {
   "cell_type": "code",
   "execution_count": 12,
   "id": "ac8c9aff",
   "metadata": {},
   "outputs": [],
   "source": [
    "coding_dna = Seq(\"ATGGCCATTGTAATGGGCCGCTGAAAGGGTGCCCGATAG\")"
   ]
  },
  {
   "cell_type": "code",
   "execution_count": 13,
   "id": "41eb1d25",
   "metadata": {},
   "outputs": [
    {
     "name": "stdout",
     "output_type": "stream",
     "text": [
      "ATGGCCATTGTAATGGGCCGCTGAAAGGGTGCCCGATAG\n"
     ]
    }
   ],
   "source": [
    "print(coding_dna)"
   ]
  },
  {
   "cell_type": "code",
   "execution_count": 14,
   "id": "08af5c44",
   "metadata": {},
   "outputs": [
    {
     "data": {
      "text/plain": [
       "Seq('CTATCGGGCACCCTTTCAGCGGCCCATTACAATGGCCAT')"
      ]
     },
     "execution_count": 14,
     "metadata": {},
     "output_type": "execute_result"
    }
   ],
   "source": [
    "template_dna = coding_dna.reverse_complement()\n",
    "template_dna"
   ]
  },
  {
   "cell_type": "markdown",
   "id": "a784df07",
   "metadata": {},
   "source": [
    "Esto coincide con la imagen anterior, debemos recordar que por convención, las secuencias de nucleótidos se leen en dirección 5' a 3', mientras que en la imagen la hebra molde se muestra al revés.\n",
    "\n",
    "Bien, ahora vamos a transcribir la hebra de codificación en el ARNm correspondiente."
   ]
  },
  {
   "cell_type": "code",
   "execution_count": 15,
   "id": "bcc5a756",
   "metadata": {},
   "outputs": [
    {
     "data": {
      "text/plain": [
       "Seq('AUGGCCAUUGUAAUGGGCCGCUGAAAGGGUGCCCGAUAG')"
      ]
     },
     "execution_count": 15,
     "metadata": {},
     "output_type": "execute_result"
    }
   ],
   "source": [
    "messenger_rna = coding_dna.transcribe()\n",
    "messenger_rna"
   ]
  },
  {
   "cell_type": "markdown",
   "id": "f165e0e6",
   "metadata": {},
   "source": [
    "Como podemos observar solo cambiamos la timina por uracilo.\n",
    "\n",
    "Si deseamos realizar una verdadera transcripción biológica comenzando con la hebra de plantilla, realizaremos estos dos paso:"
   ]
  },
  {
   "cell_type": "code",
   "execution_count": 16,
   "id": "5ce4d061",
   "metadata": {},
   "outputs": [
    {
     "data": {
      "text/plain": [
       "Seq('AUGGCCAUUGUAAUGGGCCGCUGAAAGGGUGCCCGAUAG')"
      ]
     },
     "execution_count": 16,
     "metadata": {},
     "output_type": "execute_result"
    }
   ],
   "source": [
    "template_dna.reverse_complement().transcribe()"
   ]
  },
  {
   "cell_type": "code",
   "execution_count": 17,
   "id": "2dfdac54",
   "metadata": {},
   "outputs": [
    {
     "name": "stdout",
     "output_type": "stream",
     "text": [
      "AUGGCCAUUGUAAUGGGCCGCUGAAAGGGUGCCCGAUAG\n"
     ]
    },
    {
     "data": {
      "text/plain": [
       "Seq('ATGGCCATTGTAATGGGCCGCTGAAAGGGTGCCCGATAG')"
      ]
     },
     "execution_count": 17,
     "metadata": {},
     "output_type": "execute_result"
    }
   ],
   "source": [
    "messenger_rna = Seq(\"AUGGCCAUUGUAAUGGGCCGCUGAAAGGGUGCCCGAUAG\")\n",
    "print(messenger_rna)\n",
    "messenger_rna.back_transcribe()"
   ]
  },
  {
   "cell_type": "markdown",
   "id": "77a3e0ab",
   "metadata": {},
   "source": [
    "Esta es la secuencia del ARN mensajero."
   ]
  },
  {
   "cell_type": "markdown",
   "id": "466b10fd",
   "metadata": {},
   "source": [
    "## Traducción\n",
    "\n",
    "Ahora realizaremos la transcripción de nuestro mRNA para obtener la secuencia de proteínas"
   ]
  },
  {
   "cell_type": "code",
   "execution_count": 18,
   "id": "1baf818c",
   "metadata": {},
   "outputs": [
    {
     "data": {
      "text/plain": [
       "Seq('MAIVMGR*KGAR*')"
      ]
     },
     "execution_count": 18,
     "metadata": {},
     "output_type": "execute_result"
    }
   ],
   "source": [
    "messenger_rna = Seq(\"AUGGCCAUUGUAAUGGGCCGCUGAAAGGGUGCCCGAUAG\")\n",
    "messenger_rna.translate()"
   ]
  },
  {
   "cell_type": "markdown",
   "id": "fb4ac506",
   "metadata": {},
   "source": [
    "Tambien podemos hacer la transcripción desde la secuencia de ADN."
   ]
  },
  {
   "cell_type": "code",
   "execution_count": 19,
   "id": "043d91f4",
   "metadata": {},
   "outputs": [
    {
     "data": {
      "text/plain": [
       "Seq('MAIVMGR*KGAR*')"
      ]
     },
     "execution_count": 19,
     "metadata": {},
     "output_type": "execute_result"
    }
   ],
   "source": [
    "coding_dna.translate()"
   ]
  },
  {
   "cell_type": "markdown",
   "id": "42b495c1",
   "metadata": {},
   "source": [
    "Podemos observar que nuestra secuencia tiene mas de un codon de paro $(*)$ esto se da por el tipo de tabla de transcripción que se utiliza para esto. Por ejemplo vamos a utilizar la tabla \"Vertebrate mitochondrial\", tambien puede ser definida por table=2."
   ]
  },
  {
   "cell_type": "code",
   "execution_count": 20,
   "id": "11b2a375",
   "metadata": {},
   "outputs": [
    {
     "data": {
      "text/plain": [
       "Seq('MAIVMGRWKGAR*')"
      ]
     },
     "execution_count": 20,
     "metadata": {},
     "output_type": "execute_result"
    }
   ],
   "source": [
    "coding_dna.translate(table=\"Vertebrate Mitochondrial\")"
   ]
  },
  {
   "cell_type": "markdown",
   "id": "9c7679e5",
   "metadata": {},
   "source": [
    "Podemos eliminar el codon de paro para facilitar la interacción con otros programas"
   ]
  },
  {
   "cell_type": "code",
   "execution_count": 21,
   "id": "32608b27",
   "metadata": {},
   "outputs": [
    {
     "data": {
      "text/plain": [
       "Seq('MAIVMGRWKGAR')"
      ]
     },
     "execution_count": 21,
     "metadata": {},
     "output_type": "execute_result"
    }
   ],
   "source": [
    "coding_dna.translate(table=2, to_stop=True)"
   ]
  },
  {
   "cell_type": "markdown",
   "id": "1c47608a",
   "metadata": {},
   "source": [
    "Ahora vamos a tomar un CDS (complete coding sequence), es decir una secuencia de nucleótidos (ARNm despues del splicing) que es un número entero de codonos (es decir, su longitud es un multiplo de 3), inicia con un codón de inicio, termina con un codón de paro y no tiene codones de paro internos en el marco de lectura.\n",
    "\n",
    "Debemos tener cuidado cuando nuestro organismo no usa un codon de inicio estandar, esto suele suceden en bacterias."
   ]
  },
  {
   "cell_type": "code",
   "execution_count": 22,
   "id": "41423214",
   "metadata": {},
   "outputs": [],
   "source": [
    "gene = Seq(\"GTGAAAAAGATGCAATCTATCGTACTCGCACTTTCCCTGGTTCTGGTCGCTCCCATGGCA\"\n",
    "           \"GCACAGGCTGCGGAAATTACGTTAGTCCCGTCAGTAAAATTACAGATAGGCGATCGTGAT\"\n",
    "           \"AATCGTGGCTATTACTGGGATGGAGGTCACTGGCGCGACCACGGCTGGTGGAAACAACAT\"\n",
    "           \"TATGAATGGCGAGGCAATCGCTGGCACCTACACGGACCGCCGCCACCGCCGCGCCACCAT\"\n",
    "           \"AAGAAAGCTCCTCATGATCATCACGGCGGTCATGGTCCAGGCAAACATCACCGCTAA\")\n"
   ]
  },
  {
   "cell_type": "code",
   "execution_count": 23,
   "id": "ccf3d3fd",
   "metadata": {},
   "outputs": [
    {
     "data": {
      "text/plain": [
       "Seq('VKKMQSIVLALSLVLVAPMAAQAAEITLVPSVKLQIGDRDNRGYYWDGGHWRDH...HR*')"
      ]
     },
     "execution_count": 23,
     "metadata": {},
     "output_type": "execute_result"
    }
   ],
   "source": [
    "gene.translate(table=\"Bacterial\")"
   ]
  },
  {
   "cell_type": "code",
   "execution_count": 24,
   "id": "b204c02b",
   "metadata": {},
   "outputs": [
    {
     "data": {
      "text/plain": [
       "Seq('VKKMQSIVLALSLVLVAPMAAQAAEITLVPSVKLQIGDRDNRGYYWDGGHWRDH...HHR')"
      ]
     },
     "execution_count": 24,
     "metadata": {},
     "output_type": "execute_result"
    }
   ],
   "source": [
    "gene.translate(table=\"Bacterial\", to_stop=True)"
   ]
  },
  {
   "cell_type": "markdown",
   "id": "cc96f184",
   "metadata": {},
   "source": [
    "En el codigo genético bacteriano GTC es codon de inicio válido y aunque normalmente codifica Valina, si se usa como un codon de inicio debe traducirse como metionina."
   ]
  },
  {
   "cell_type": "code",
   "execution_count": 25,
   "id": "c6873c31",
   "metadata": {},
   "outputs": [
    {
     "data": {
      "text/plain": [
       "Seq('MKKMQSIVLALSLVLVAPMAAQAAEITLVPSVKLQIGDRDNRGYYWDGGHWRDH...HHR')"
      ]
     },
     "execution_count": 25,
     "metadata": {},
     "output_type": "execute_result"
    }
   ],
   "source": [
    "gene.translate(table=\"Bacterial\", cds=True)"
   ]
  },
  {
   "cell_type": "markdown",
   "id": "fa8b097f",
   "metadata": {},
   "source": [
    "### Tabla de transcripciones"
   ]
  },
  {
   "cell_type": "code",
   "execution_count": 26,
   "id": "c3800c01",
   "metadata": {},
   "outputs": [],
   "source": [
    "from Bio.Data import CodonTable"
   ]
  },
  {
   "cell_type": "code",
   "execution_count": 27,
   "id": "132ba72d",
   "metadata": {},
   "outputs": [],
   "source": [
    "standard_table = CodonTable.unambiguous_dna_by_name[\"Standard\"]"
   ]
  },
  {
   "cell_type": "code",
   "execution_count": 28,
   "id": "e94f612b",
   "metadata": {},
   "outputs": [],
   "source": [
    "mito_table = CodonTable.unambiguous_dna_by_id[2]"
   ]
  },
  {
   "cell_type": "code",
   "execution_count": 29,
   "id": "4bfe3311",
   "metadata": {},
   "outputs": [
    {
     "name": "stdout",
     "output_type": "stream",
     "text": [
      "Table 1 Standard, SGC0\n",
      "\n",
      "  |  T      |  C      |  A      |  G      |\n",
      "--+---------+---------+---------+---------+--\n",
      "T | TTT F   | TCT S   | TAT Y   | TGT C   | T\n",
      "T | TTC F   | TCC S   | TAC Y   | TGC C   | C\n",
      "T | TTA L   | TCA S   | TAA Stop| TGA Stop| A\n",
      "T | TTG L(s)| TCG S   | TAG Stop| TGG W   | G\n",
      "--+---------+---------+---------+---------+--\n",
      "C | CTT L   | CCT P   | CAT H   | CGT R   | T\n",
      "C | CTC L   | CCC P   | CAC H   | CGC R   | C\n",
      "C | CTA L   | CCA P   | CAA Q   | CGA R   | A\n",
      "C | CTG L(s)| CCG P   | CAG Q   | CGG R   | G\n",
      "--+---------+---------+---------+---------+--\n",
      "A | ATT I   | ACT T   | AAT N   | AGT S   | T\n",
      "A | ATC I   | ACC T   | AAC N   | AGC S   | C\n",
      "A | ATA I   | ACA T   | AAA K   | AGA R   | A\n",
      "A | ATG M(s)| ACG T   | AAG K   | AGG R   | G\n",
      "--+---------+---------+---------+---------+--\n",
      "G | GTT V   | GCT A   | GAT D   | GGT G   | T\n",
      "G | GTC V   | GCC A   | GAC D   | GGC G   | C\n",
      "G | GTA V   | GCA A   | GAA E   | GGA G   | A\n",
      "G | GTG V   | GCG A   | GAG E   | GGG G   | G\n",
      "--+---------+---------+---------+---------+--\n"
     ]
    }
   ],
   "source": [
    "print(standard_table)"
   ]
  },
  {
   "cell_type": "code",
   "execution_count": 30,
   "id": "519dc74b",
   "metadata": {},
   "outputs": [
    {
     "name": "stdout",
     "output_type": "stream",
     "text": [
      "Table 2 Vertebrate Mitochondrial, SGC1\n",
      "\n",
      "  |  T      |  C      |  A      |  G      |\n",
      "--+---------+---------+---------+---------+--\n",
      "T | TTT F   | TCT S   | TAT Y   | TGT C   | T\n",
      "T | TTC F   | TCC S   | TAC Y   | TGC C   | C\n",
      "T | TTA L   | TCA S   | TAA Stop| TGA W   | A\n",
      "T | TTG L   | TCG S   | TAG Stop| TGG W   | G\n",
      "--+---------+---------+---------+---------+--\n",
      "C | CTT L   | CCT P   | CAT H   | CGT R   | T\n",
      "C | CTC L   | CCC P   | CAC H   | CGC R   | C\n",
      "C | CTA L   | CCA P   | CAA Q   | CGA R   | A\n",
      "C | CTG L   | CCG P   | CAG Q   | CGG R   | G\n",
      "--+---------+---------+---------+---------+--\n",
      "A | ATT I(s)| ACT T   | AAT N   | AGT S   | T\n",
      "A | ATC I(s)| ACC T   | AAC N   | AGC S   | C\n",
      "A | ATA M(s)| ACA T   | AAA K   | AGA Stop| A\n",
      "A | ATG M(s)| ACG T   | AAG K   | AGG Stop| G\n",
      "--+---------+---------+---------+---------+--\n",
      "G | GTT V   | GCT A   | GAT D   | GGT G   | T\n",
      "G | GTC V   | GCC A   | GAC D   | GGC G   | C\n",
      "G | GTA V   | GCA A   | GAA E   | GGA G   | A\n",
      "G | GTG V(s)| GCG A   | GAG E   | GGG G   | G\n",
      "--+---------+---------+---------+---------+--\n"
     ]
    }
   ],
   "source": [
    "print(mito_table)"
   ]
  },
  {
   "cell_type": "code",
   "execution_count": 31,
   "id": "efaaf50e",
   "metadata": {},
   "outputs": [
    {
     "data": {
      "text/plain": [
       "['TAA', 'TAG', 'AGA', 'AGG']"
      ]
     },
     "execution_count": 31,
     "metadata": {},
     "output_type": "execute_result"
    }
   ],
   "source": [
    "mito_table.stop_codons"
   ]
  },
  {
   "cell_type": "code",
   "execution_count": 32,
   "id": "7e2c49c5",
   "metadata": {},
   "outputs": [
    {
     "data": {
      "text/plain": [
       "['TAA', 'TAG', 'TGA']"
      ]
     },
     "execution_count": 32,
     "metadata": {},
     "output_type": "execute_result"
    }
   ],
   "source": [
    "standard_table.stop_codons"
   ]
  },
  {
   "cell_type": "code",
   "execution_count": 33,
   "id": "f27bbc74",
   "metadata": {},
   "outputs": [
    {
     "data": {
      "text/plain": [
       "['ATT', 'ATC', 'ATA', 'ATG', 'GTG']"
      ]
     },
     "execution_count": 33,
     "metadata": {},
     "output_type": "execute_result"
    }
   ],
   "source": [
    "mito_table.start_codons"
   ]
  },
  {
   "cell_type": "code",
   "execution_count": 34,
   "id": "132d52e6",
   "metadata": {},
   "outputs": [
    {
     "data": {
      "text/plain": [
       "['TTG', 'CTG', 'ATG']"
      ]
     },
     "execution_count": 34,
     "metadata": {},
     "output_type": "execute_result"
    }
   ],
   "source": [
    "standard_table.start_codons"
   ]
  },
  {
   "cell_type": "markdown",
   "id": "79d7c2d4",
   "metadata": {},
   "source": [
    "### Análisis de archivos de secuencia\n",
    "\n",
    "Los objetos Bio.Seq se utilizan para la representación de secuencias biológicas. Sin embargo, a menudo necesitamos almacenar cierta información junto con la secuencia, como la identificación, la descripción y la taxonomía.\n",
    "\n",
    "Para hacer esto, el paquete Biopython tiene una clase SeqRecord. que tiene características más sofisticadas como almacenar varios identificadores y anotaciones asociadas con la secuencia o la clase seq."
   ]
  },
  {
   "cell_type": "code",
   "execution_count": 35,
   "id": "354efe1f",
   "metadata": {},
   "outputs": [
    {
     "name": "stdout",
     "output_type": "stream",
     "text": [
      "ID: P62945\n",
      "Name: RL41_HUMAN\n",
      "Description: 60S ribosomal protein L41\n",
      "Number of features: 0\n",
      "Seq('MRAKWRKKRMRRLKRKRRKMRQRSK')\n"
     ]
    }
   ],
   "source": [
    "from Bio.Seq import Seq\n",
    "from Bio.SeqRecord import SeqRecord\n",
    "\n",
    "protein_record = SeqRecord(Seq(\"MRAKWRKKRMRRLKRKRRKMRQRSK\"),\n",
    "id=\"P62945\", name=\"RL41_HUMAN\",\n",
    "description=\"60S ribosomal protein L41\")\n",
    "\n",
    "\n",
    "print(protein_record)"
   ]
  },
  {
   "cell_type": "markdown",
   "id": "eeca1f94",
   "metadata": {},
   "source": [
    "Podemos crear un objeto SeqRecord dando varios argumentos, sin embargo esta diseñado para adquirir toda la información sobre la secuencia biológica de archivos almacenados o extraídos en FASTA, Genbank, SwissProty otros.\n",
    "\n",
    "Normalmente las secuencias Biologicas de ADN, ARN y Proteínas se almacenan en formato fasta, fa, fna o faa.\n",
    "\n",
    "El cual se caracteriza por iniciar cada gen o proteína con un simbolo `>` mayor que, el cual enmarca la línea de descripción, posteriormente se encuentran un conjunto de lineas, normalmente de 80 caracteres, que son la secuencia del gen o proteínas, la información del gen o proteína termina cuando inicia otro mayor que o cuando no se encuentran más secuencias.\n",
    "\n",
    "`>gi|5524211|gb|AAD44166.1| cytochrome b [Elephas maximus maximus]\n",
    "LCLYTHIGRNIYYGSYLYSETWNTGIMLLLITMATAFMGYVLPWGQMSFWGATVITNLFSAIPYIGTNLV\n",
    "EWIWGGFSVDKATLNRFFAFHFILPFTMVALAGVHLTFLHETGSNNPLGLTSDSDKIPFHPYYTIKDFLG\n",
    "LLILILLLLLLALLSPDMLGDPDNHMPADPLNTPLHIKPEWYFLFAYAILRSVPNKLGGVLALFLSIVIL\n",
    "GLMPFLHTSKHRSMMLRPLSQALFWTLTMDLLTLTWIGSQPVEYPYTIIGQMASILYFSIILAFLPIAGX\n",
    "IENY`"
   ]
  },
  {
   "cell_type": "markdown",
   "id": "9923c7df",
   "metadata": {},
   "source": [
    "En Biopython tenemos un módulo SeqIO que permite leer y escribir archivos de secuencias de varios formatos y hacer que el manejo de estos datos sea más sencillo."
   ]
  },
  {
   "cell_type": "code",
   "execution_count": 36,
   "id": "6006598a",
   "metadata": {},
   "outputs": [
    {
     "name": "stdout",
     "output_type": "stream",
     "text": [
      "ID: >sp|Q9SE35|20-107\n",
      "Name: >sp|Q9SE35|20-107\n",
      "Description: >sp|Q9SE35|20-107\n",
      "Number of features: 0\n",
      "Seq('QSIADLAAANLSTEDSKSAQLISADSSDDASDSSVESVDAASSDVSGSSVESVD...RIL')\n"
     ]
    }
   ],
   "source": [
    "from Bio.SeqRecord import SeqRecord\n",
    "sequence = ''\n",
    "with open('sample.fasta','r') as f:\n",
    "    lines = f.readlines() # read the lines of the file\n",
    "for line in lines:\n",
    "    if line.startswith('>'):\n",
    "        description = line.rstrip() # to get rid of the newline character\n",
    "    else:\n",
    "        sequence = sequence + line.rstrip()\n",
    "\n",
    "protein_record = SeqRecord(Seq(sequence),\n",
    "id=description , name=description, description=description)\n",
    "\n",
    "print(protein_record)"
   ]
  },
  {
   "cell_type": "markdown",
   "id": "a79a20ce",
   "metadata": {},
   "source": [
    "Leemos las líneas del archivo. A continuación, iteramos sobre cada una de las líneas e insertamos una línea, que comienza con el símbolo \">\" en la variable de descripción. Las líneas subsiguientes se agregan con una variable de cadena vacía nombrada como una secuencia. El método “rstrip()” se utiliza para deshacerse del carácter de nueva línea “\\n”, que normalmente aparece al final de las líneas.\n",
    "Este código parece fácil, aunque tuvimos que escribir algunas sentencias. El mismo problema se volverá un poco más complicado una vez que trabajemos con varias secuencias en un solo archivo FASTA. El problema se complicará aún más cuando intentemos analizar un archivo de formato GenBank."
   ]
  },
  {
   "cell_type": "code",
   "execution_count": 37,
   "id": "08b7d89a",
   "metadata": {},
   "outputs": [
    {
     "name": "stdout",
     "output_type": "stream",
     "text": [
      "ID: sp|Q9SE35|20-107\n",
      "Name: sp|Q9SE35|20-107\n",
      "Description: sp|Q9SE35|20-107\n",
      "Number of features: 0\n",
      "Seq('QSIADLAAANLSTEDSKSAQLISADSSDDASDSSVESVDAASSDVSGSSVESVD...RIL')\n"
     ]
    }
   ],
   "source": [
    "from Bio import SeqIO\n",
    "records = SeqIO.parse(\"sample.fasta\", \"fasta\")\n",
    "for record in records:\n",
    "    print(record)"
   ]
  },
  {
   "cell_type": "markdown",
   "id": "8d699b80",
   "metadata": {},
   "source": [
    "El método \"parse\" en el modelo \"SeqIO\" toma el nombre del archivo o la ruta y el formato del archivo como argumentos y devuelve un iterador de SeqRecods. Se puede acceder a los elementos de este iterador mediante un bucle \"for\". En el ejemplo anterior, solo tenemos una secuencia, pero podemos usar el mismo método para un archivo FASTA con múltiples secuencias."
   ]
  },
  {
   "cell_type": "code",
   "execution_count": 38,
   "id": "c2644557",
   "metadata": {},
   "outputs": [
    {
     "name": "stdout",
     "output_type": "stream",
     "text": [
      "sp|Q3ZM63|ETDA_HUMAN\n",
      "sp|P53803|RPAB4_HUMAN\n",
      "sp|Q538Z0|LUZP6_HUMAN\n",
      "sp|Q9BZ97|TTY13_HUMAN\n",
      "sp|P58511|SI11A_HUMAN\n"
     ]
    }
   ],
   "source": [
    "record_list = []\n",
    "for record in SeqIO.parse(\"sequences.fasta\", \"fasta\"):\n",
    "    print(record.id)\n",
    "    record_list.append(record)"
   ]
  },
  {
   "cell_type": "markdown",
   "id": "a8daae8b",
   "metadata": {},
   "source": [
    "Podemos crear una lista de SeqRecords agregando los elementos del iterador de SeqIO.parse a una lista vacía. También podemos adquirir una lista de SeqRecods ingresando este iterador como un argumento para la función \"list()\". SeqIO puede manejar varios formatos de archivos de secuencias biológicas como FASTA, GenBank, EMBL y SwissProt, y también puede leer los archivos de salida de varias plataformas NGS como los archivos FASTQ de Solexa e Illumina."
   ]
  },
  {
   "cell_type": "markdown",
   "id": "b75e0966",
   "metadata": {},
   "source": [
    "El GenBank es la base de datos de secuencias genéticas del NIH (National Institutes of Health of USA), https://www.ncbi.nlm.nih.gov/genbank/\n",
    "\n",
    "<img src=\"genbank.png\" width=\"700\" height=\"400\"/>\n",
    "\n",
    "<img src=\"genbankexample.png\" width=\"700\" height=\"400\"/>"
   ]
  },
  {
   "cell_type": "code",
   "execution_count": 39,
   "id": "cacd3d96",
   "metadata": {},
   "outputs": [
    {
     "name": "stdout",
     "output_type": "stream",
     "text": [
      "ID: X03109.1\n",
      "Name: X03109\n",
      "Description: Chimpanzee fetal G-gamma-globin gene\n",
      "Number of features: 13\n",
      "/molecule_type=DNA\n",
      "/topology=linear\n",
      "/data_file_division=PRI\n",
      "/date=14-NOV-2006\n",
      "/accessions=['X03109']\n",
      "/sequence_version=1\n",
      "/keywords=['direct repeat', 'G-gamma-globin', 'gamma-globin', 'tandem repeat']\n",
      "/source=Pan troglodytes (chimpanzee)\n",
      "/organism=Pan troglodytes\n",
      "/taxonomy=['Eukaryota', 'Metazoa', 'Chordata', 'Craniata', 'Vertebrata', 'Euteleostomi', 'Mammalia', 'Eutheria', 'Euarchontoglires', 'Primates', 'Haplorrhini', 'Catarrhini', 'Hominidae', 'Pan']\n",
      "/references=[Reference(title='Chimpanzee fetal G gamma and A gamma globin gene nucleotide sequences provide further evidence of gene conversions in hominine evolution', ...), Reference(title='Direct Submission', ...)]\n",
      "Seq('CCGGCGGCTGGCTAGGGATGAAGAATAAAAGGAAGCACCCTCCAGCAGTTCCAC...AAT')\n"
     ]
    }
   ],
   "source": [
    "records = SeqIO.parse(\"sequence.gb\",\"genbank\")\n",
    "for record in records:\n",
    "    print(record)"
   ]
  },
  {
   "cell_type": "markdown",
   "id": "5befd512",
   "metadata": {},
   "source": [
    "## Alineamiento de secuencias\n",
    "\n",
    "Una de las tareas más importantes en Bioinformática es la comparación de secuencias a nivel de ADN o proteínas. Esto nos permite identificar regiones conservadas entre de ellas y determinar su relación u homología.\n",
    "\n",
    "La identificación de secuencias similares entre e inter especies, ha permitido identificar genes o proteínas con funciones biológicas similares, se han identificado tres tipos proteínas homologas:\n",
    "\n",
    "- Homologos: la homología de secuencias se refiere a la situación en la que las secuencias de dos o más proteínas o ácidos nucleicos son similares entre sí debido a que presentan un mismo origen evolutivo.\n",
    "\n",
    "    - Ortologos: Las secuencias o genes ortólogos son aquellas secuencias homólogas que se han separado por un evento de especiación. Es decir, cuando una especie diverge en dos especies separadas, se dice que las copias divergentes de un mismo gen en las especies resultantes son ortólogas.\n",
    "\n",
    "    - Paralogos: Las secuencias homólogas se dicen parálogas si las mismas se hallan separadas por un evento de duplicación. En otras palabras, si un gen de un organismo se duplica para ocupar dos posiciones diferentes en el mismo genoma, entonces las dos copias son parálogas.\n",
    "\n",
    "    - Xenólogo: Secuencias homólogas de dos especies diferentes pero provienen de una transferencia horizontal.\n",
    "\n",
    "<img src=\"homologos.png\" width=\"600\" height=\"350\"/>\n",
    "\n",
    "\n",
    "### Alineación de dos secuencias\n",
    "\n",
    "Vamos a iniciar la comparación a nivel de dos secuencias:\n",
    "\n",
    "<img src=\"align1.gif\" width=\"600\" height=\"350\"/>\n",
    "\n",
    "Hay dos tipos de alineaciones:\n",
    "    \n",
    "   - El método de alineación global tiene en cuenta la longitud total de las dos secuencias e intenta emparejarlas para obtener la mejor alineación en toda la secuencia. Esto se obtiene insertando huecos o gaps en ambas secuencias. Needleman-Wunsch es uno de los más utilizados.\n",
    "    \n",
    "   - El método de alineación local, en contraste con la alineación global, proporciona las seubsecuencias más similaress entre las dos seuencias. El algoritmo Smith-Warerman es una de las implementaciones del algoritmo de alineación local que aplica programación dinámica. \n",
    "    \n",
    "<img src=\"Global-vs-Local-Alignment_W640.jpeg\" width=\"600\" height=\"350\"/>\n",
    "\n",
    "\n",
    "Exiten varios caminos para alinear dos secuencias, como:\n",
    "\n",
    "- El método de matriz de puntos, que es un proceso en el que se pueden alinear dos secuencias usando una matriz bidimensional, y los datos se trazan en puntos de identidad entre el eje x y el eje y. Por lo tanto, podemos visualizar las parcelas e inferir los resultados. Dado que podría haber varias coincidencias aleatorias en el caso de secuencias genómicas completas, el método de alineación de matriz de puntos solo es adecuado para secuencias muy similares y cortas.\n",
    "\n",
    "- Otro método de alineación de secuencias por pares es el enfoque de programación dinámica. La base del enfoque de programación dinámica para la alineación de secuencias es el método de puntuación, donde la puntuación indica la medida de similitud entre dos secuencias. Este algoritmo de alineación genera una matriz de números que representa todas las posibles alineaciones entre las secuencias. A continuación, la puntuación se utiliza como medida de comparación entre dos secuencias. Se tienen en cuenta tres factores básicos al determinar si los puntajes son coincidentes, desiguales o si hay una penalización por brecha. \n",
    "\n",
    "El enfoque de programación dinámica de la alineación es el método más precido para la alineación de secuencias. Sin embargo, su inconveniente es que es extremadamente lento y computacionalmente intensivo para secuencias grandes. \n",
    "\n",
    "\n",
    "    \n",
    "Utilizaremos el modulos Bio.Aling y la clase PairwiseAligner."
   ]
  },
  {
   "cell_type": "code",
   "execution_count": 40,
   "id": "b66e533a",
   "metadata": {},
   "outputs": [
    {
     "name": "stdout",
     "output_type": "stream",
     "text": [
      "target            0 TACGCCC--GC  9\n",
      "                  0 ||-||||--|| 11\n",
      "query             0 TA-GCCCATGC 10\n",
      "\n",
      "8.0\n"
     ]
    }
   ],
   "source": [
    "from Bio import Align\n",
    "aligner = Align.PairwiseAligner()\n",
    "seq1 = 'TACGCCCGC'\n",
    "seq2 = 'TAGCCCATGC'\n",
    "results = aligner.align(seq1, seq2)\n",
    "for result in results:\n",
    "    print(result)\n",
    "score = aligner.score(seq1, seq2)\n",
    "print(score)"
   ]
  },
  {
   "cell_type": "markdown",
   "id": "00e14c07",
   "metadata": {},
   "source": [
    "PairwiseAligner() tiene varios parametros predeterminados, como el match, mismatch y las penalizaciones de gaps, también podemos cambiar el mode entre globaly local. Aquí podemos ver los parametros."
   ]
  },
  {
   "cell_type": "code",
   "execution_count": 41,
   "id": "4d633b56",
   "metadata": {},
   "outputs": [
    {
     "name": "stdout",
     "output_type": "stream",
     "text": [
      "Pairwise sequence aligner with parameters\n",
      "  wildcard: None\n",
      "  match_score: 1.000000\n",
      "  mismatch_score: 0.000000\n",
      "  target_internal_open_gap_score: 0.000000\n",
      "  target_internal_extend_gap_score: 0.000000\n",
      "  target_left_open_gap_score: 0.000000\n",
      "  target_left_extend_gap_score: 0.000000\n",
      "  target_right_open_gap_score: 0.000000\n",
      "  target_right_extend_gap_score: 0.000000\n",
      "  query_internal_open_gap_score: 0.000000\n",
      "  query_internal_extend_gap_score: 0.000000\n",
      "  query_left_open_gap_score: 0.000000\n",
      "  query_left_extend_gap_score: 0.000000\n",
      "  query_right_open_gap_score: 0.000000\n",
      "  query_right_extend_gap_score: 0.000000\n",
      "  mode: global\n",
      "\n",
      "----------------\n",
      "Needleman-Wunsch\n"
     ]
    }
   ],
   "source": [
    "aligner = Align.PairwiseAligner()\n",
    "print(aligner)\n",
    "print('----------------')\n",
    "print(aligner.algorithm)"
   ]
  },
  {
   "cell_type": "markdown",
   "id": "1e343442",
   "metadata": {},
   "source": [
    "Podemos personalizar los valores de match, mismatch, y penalización de gaps."
   ]
  },
  {
   "cell_type": "code",
   "execution_count": 42,
   "id": "254d4580",
   "metadata": {},
   "outputs": [
    {
     "name": "stdout",
     "output_type": "stream",
     "text": [
      "target            0 TACGCCC--GC  9\n",
      "                  0 ||-||||--|| 11\n",
      "query             0 TA-GCCCATGC 10\n",
      "\n",
      "0.5\n"
     ]
    }
   ],
   "source": [
    "aligner = Align.PairwiseAligner()\n",
    "seq1 = 'TACGCCCGC'\n",
    "seq2 = 'TAGCCCATGC'\n",
    "aligner.match_score = 1.0\n",
    "aligner.mismatch_score = -2.0\n",
    "aligner.gap_score = -2.5\n",
    "alignments = aligner.align(seq1, seq2)\n",
    "for alignment in alignments:\n",
    "    print(alignment)\n",
    "score = aligner.score(seq1, seq2)\n",
    "print(score)"
   ]
  },
  {
   "cell_type": "markdown",
   "id": "45c417ea",
   "metadata": {},
   "source": [
    "En el ejemplo anterior, hemos cambiado la puntuación de match, mismatch y el score del gab, reultado en un cambio en la puntuación general. El aumento del mismatch y gap hará que la alineación sea más estricta."
   ]
  },
  {
   "cell_type": "code",
   "execution_count": 43,
   "id": "f895841f",
   "metadata": {},
   "outputs": [
    {
     "name": "stdout",
     "output_type": "stream",
     "text": [
      "target            0 TACGCCC--GC  9\n",
      "                  0 ||-||||--|| 11\n",
      "query             0 TA-GCCCATGC 10\n",
      "\n",
      "8.0\n"
     ]
    }
   ],
   "source": [
    "#Podemos cambiar el parametro de alineación global a local con mode.\n",
    "aligner = Align.PairwiseAligner()\n",
    "aligner.mode = 'local'\n",
    "seq1 = 'TACGCCCGC'\n",
    "seq2 = 'TAGCCCATGC'\n",
    "alignments = aligner.align(seq1, seq2)\n",
    "for alignment in alignments:\n",
    "    print(alignment)\n",
    "score = aligner.score(seq1, seq2)\n",
    "print(score)"
   ]
  },
  {
   "cell_type": "markdown",
   "id": "b35f4546",
   "metadata": {},
   "source": [
    "Pongamos algo de rigor en los diversos parámetros de puntuación para estudiar la diferencia en la alineación y la puntuación."
   ]
  },
  {
   "cell_type": "code",
   "execution_count": 44,
   "id": "8088809c",
   "metadata": {},
   "outputs": [
    {
     "name": "stdout",
     "output_type": "stream",
     "text": [
      "target            3 GCCC 7\n",
      "                  0 |||| 4\n",
      "query             2 GCCC 6\n",
      "\n",
      "4.0\n"
     ]
    }
   ],
   "source": [
    "aligner = Align.PairwiseAligner()\n",
    "aligner.mode = 'local'\n",
    "seq1 = 'TACGCCCGC'\n",
    "seq2 = 'TAGCCCATGC'\n",
    "aligner.match_score = 1.0\n",
    "aligner.mismatch_score = -2.0\n",
    "aligner.gap_score = -2.5\n",
    "alignments = aligner.align(seq1, seq2)\n",
    "for alignment in alignments:\n",
    "    print(alignment)\n",
    "score = aligner.score(seq1, seq2)\n",
    "print(score)"
   ]
  },
  {
   "cell_type": "markdown",
   "id": "315b0405",
   "metadata": {},
   "source": [
    "Un aspecto importante cuando realizamos alineamientos son las matrices de sustitución, las cuales son matrices de similitud entre dos aminoacidos o nucleotidos.\n",
    "\n",
    "Que importancia tienen estas matrices? El tipo de sustitución se puede ver menos afectada de acuerdo al tipo de aminoácido que se tenga, por ejemplo si un aminoacido hidrofóbico reemplaza a otro aminoacido hidrofóbico, entonces el cambio puede ser tolerable y tales sustituciones se conocen como sustituciones conservadoras. Por el contrario un cambio de un aminoácido hidrofóbico por un hidrofílico se considera radical.\n",
    "\n",
    "Biopython tiene al rededor de 25 matrices de sustitución y estas se pueden obtener por medio de Bio.Align import substitution_matrices\n",
    "\n",
    "Una de las más comunes es BLOSUM62"
   ]
  },
  {
   "cell_type": "code",
   "execution_count": 45,
   "id": "d31794eb",
   "metadata": {},
   "outputs": [
    {
     "name": "stdout",
     "output_type": "stream",
     "text": [
      "#  Matrix made by matblas from blosum62.iij\n",
      "#  * column uses minimum score\n",
      "#  BLOSUM Clustered Scoring Matrix in 1/2 Bit Units\n",
      "#  Blocks Database = /data/blocks_5.0/blocks.dat\n",
      "#  Cluster Percentage: >= 62\n",
      "#  Entropy =   0.6979, Expected =  -0.5209\n",
      "     A    R    N    D    C    Q    E    G    H    I    L    K    M    F    P    S    T    W    Y    V    B    Z    X    *\n",
      "A  4.0 -1.0 -2.0 -2.0  0.0 -1.0 -1.0  0.0 -2.0 -1.0 -1.0 -1.0 -1.0 -2.0 -1.0  1.0  0.0 -3.0 -2.0  0.0 -2.0 -1.0  0.0 -4.0\n",
      "R -1.0  5.0  0.0 -2.0 -3.0  1.0  0.0 -2.0  0.0 -3.0 -2.0  2.0 -1.0 -3.0 -2.0 -1.0 -1.0 -3.0 -2.0 -3.0 -1.0  0.0 -1.0 -4.0\n",
      "N -2.0  0.0  6.0  1.0 -3.0  0.0  0.0  0.0  1.0 -3.0 -3.0  0.0 -2.0 -3.0 -2.0  1.0  0.0 -4.0 -2.0 -3.0  3.0  0.0 -1.0 -4.0\n",
      "D -2.0 -2.0  1.0  6.0 -3.0  0.0  2.0 -1.0 -1.0 -3.0 -4.0 -1.0 -3.0 -3.0 -1.0  0.0 -1.0 -4.0 -3.0 -3.0  4.0  1.0 -1.0 -4.0\n",
      "C  0.0 -3.0 -3.0 -3.0  9.0 -3.0 -4.0 -3.0 -3.0 -1.0 -1.0 -3.0 -1.0 -2.0 -3.0 -1.0 -1.0 -2.0 -2.0 -1.0 -3.0 -3.0 -2.0 -4.0\n",
      "Q -1.0  1.0  0.0  0.0 -3.0  5.0  2.0 -2.0  0.0 -3.0 -2.0  1.0  0.0 -3.0 -1.0  0.0 -1.0 -2.0 -1.0 -2.0  0.0  3.0 -1.0 -4.0\n",
      "E -1.0  0.0  0.0  2.0 -4.0  2.0  5.0 -2.0  0.0 -3.0 -3.0  1.0 -2.0 -3.0 -1.0  0.0 -1.0 -3.0 -2.0 -2.0  1.0  4.0 -1.0 -4.0\n",
      "G  0.0 -2.0  0.0 -1.0 -3.0 -2.0 -2.0  6.0 -2.0 -4.0 -4.0 -2.0 -3.0 -3.0 -2.0  0.0 -2.0 -2.0 -3.0 -3.0 -1.0 -2.0 -1.0 -4.0\n",
      "H -2.0  0.0  1.0 -1.0 -3.0  0.0  0.0 -2.0  8.0 -3.0 -3.0 -1.0 -2.0 -1.0 -2.0 -1.0 -2.0 -2.0  2.0 -3.0  0.0  0.0 -1.0 -4.0\n",
      "I -1.0 -3.0 -3.0 -3.0 -1.0 -3.0 -3.0 -4.0 -3.0  4.0  2.0 -3.0  1.0  0.0 -3.0 -2.0 -1.0 -3.0 -1.0  3.0 -3.0 -3.0 -1.0 -4.0\n",
      "L -1.0 -2.0 -3.0 -4.0 -1.0 -2.0 -3.0 -4.0 -3.0  2.0  4.0 -2.0  2.0  0.0 -3.0 -2.0 -1.0 -2.0 -1.0  1.0 -4.0 -3.0 -1.0 -4.0\n",
      "K -1.0  2.0  0.0 -1.0 -3.0  1.0  1.0 -2.0 -1.0 -3.0 -2.0  5.0 -1.0 -3.0 -1.0  0.0 -1.0 -3.0 -2.0 -2.0  0.0  1.0 -1.0 -4.0\n",
      "M -1.0 -1.0 -2.0 -3.0 -1.0  0.0 -2.0 -3.0 -2.0  1.0  2.0 -1.0  5.0  0.0 -2.0 -1.0 -1.0 -1.0 -1.0  1.0 -3.0 -1.0 -1.0 -4.0\n",
      "F -2.0 -3.0 -3.0 -3.0 -2.0 -3.0 -3.0 -3.0 -1.0  0.0  0.0 -3.0  0.0  6.0 -4.0 -2.0 -2.0  1.0  3.0 -1.0 -3.0 -3.0 -1.0 -4.0\n",
      "P -1.0 -2.0 -2.0 -1.0 -3.0 -1.0 -1.0 -2.0 -2.0 -3.0 -3.0 -1.0 -2.0 -4.0  7.0 -1.0 -1.0 -4.0 -3.0 -2.0 -2.0 -1.0 -2.0 -4.0\n",
      "S  1.0 -1.0  1.0  0.0 -1.0  0.0  0.0  0.0 -1.0 -2.0 -2.0  0.0 -1.0 -2.0 -1.0  4.0  1.0 -3.0 -2.0 -2.0  0.0  0.0  0.0 -4.0\n",
      "T  0.0 -1.0  0.0 -1.0 -1.0 -1.0 -1.0 -2.0 -2.0 -1.0 -1.0 -1.0 -1.0 -2.0 -1.0  1.0  5.0 -2.0 -2.0  0.0 -1.0 -1.0  0.0 -4.0\n",
      "W -3.0 -3.0 -4.0 -4.0 -2.0 -2.0 -3.0 -2.0 -2.0 -3.0 -2.0 -3.0 -1.0  1.0 -4.0 -3.0 -2.0 11.0  2.0 -3.0 -4.0 -3.0 -2.0 -4.0\n",
      "Y -2.0 -2.0 -2.0 -3.0 -2.0 -1.0 -2.0 -3.0  2.0 -1.0 -1.0 -2.0 -1.0  3.0 -3.0 -2.0 -2.0  2.0  7.0 -1.0 -3.0 -2.0 -1.0 -4.0\n",
      "V  0.0 -3.0 -3.0 -3.0 -1.0 -2.0 -2.0 -3.0 -3.0  3.0  1.0 -2.0  1.0 -1.0 -2.0 -2.0  0.0 -3.0 -1.0  4.0 -3.0 -2.0 -1.0 -4.0\n",
      "B -2.0 -1.0  3.0  4.0 -3.0  0.0  1.0 -1.0  0.0 -3.0 -4.0  0.0 -3.0 -3.0 -2.0  0.0 -1.0 -4.0 -3.0 -3.0  4.0  1.0 -1.0 -4.0\n",
      "Z -1.0  0.0  0.0  1.0 -3.0  3.0  4.0 -2.0  0.0 -3.0 -3.0  1.0 -1.0 -3.0 -1.0  0.0 -1.0 -3.0 -2.0 -2.0  1.0  4.0 -1.0 -4.0\n",
      "X  0.0 -1.0 -1.0 -1.0 -2.0 -1.0 -1.0 -1.0 -1.0 -1.0 -1.0 -1.0 -1.0 -1.0 -2.0  0.0  0.0 -2.0 -1.0 -1.0 -1.0 -1.0 -1.0 -4.0\n",
      "* -4.0 -4.0 -4.0 -4.0 -4.0 -4.0 -4.0 -4.0 -4.0 -4.0 -4.0 -4.0 -4.0 -4.0 -4.0 -4.0 -4.0 -4.0 -4.0 -4.0 -4.0 -4.0 -4.0  1.0\n",
      "\n"
     ]
    }
   ],
   "source": [
    "from Bio.Align import substitution_matrices\n",
    "matrix = substitution_matrices.load(\"BLOSUM62\")\n",
    "print(matrix)"
   ]
  },
  {
   "cell_type": "code",
   "execution_count": 46,
   "id": "2a9ceb7a",
   "metadata": {},
   "outputs": [
    {
     "name": "stdout",
     "output_type": "stream",
     "text": [
      "10.0\n",
      "target            0 MERSTQELFINFTVVLITVLLMWLLVRSYQY 31\n",
      "                  0 |...|.|||.|||.|||||.||||||||||| 31\n",
      "query             0 MGINTRELFLNFTIVLITVILMWLLVRSYQY 31\n",
      "\n"
     ]
    }
   ],
   "source": [
    "aligner = Align.PairwiseAligner()\n",
    "matrix = Align.substitution_matrices.load(\"BLOSUM62\")\n",
    "aligner.substitution_matrix = matrix\n",
    "aligner.match_score = 1.0\n",
    "aligner.mismatch_score = -2.0\n",
    "aligner.gap_score = -2.5\n",
    "protein_1 = 'MERSTQELFINFTVVLITVLLMWLLVRSYQY'\n",
    "protein_2 = 'MGINTRELFLNFTIVLITVILMWLLVRSYQY'\n",
    "score = aligner.score(protein_1 , protein_2)\n",
    "alignments = aligner.align(protein_1 , protein_2)\n",
    "print(score)\n",
    "for alignment in alignments:\n",
    "    print(alignment)"
   ]
  },
  {
   "cell_type": "markdown",
   "id": "423f466d",
   "metadata": {},
   "source": [
    "“|” representa coincidencias y “.” representa aminoácidos similares. También podemos realizar la alineación local ajustando los parámetros del objeto “aligner”"
   ]
  },
  {
   "cell_type": "code",
   "execution_count": null,
   "id": "470b396d",
   "metadata": {},
   "outputs": [],
   "source": []
  },
  {
   "cell_type": "markdown",
   "id": "c0d1a89b",
   "metadata": {},
   "source": [
    "## BLAST\n",
    "\n",
    "The Basic Local Alignment Search Tool (BLAST) es una de las herramientas más utilizadas en la investigación Biológica.\n",
    "\n",
    "Nos permite asignarle una función putativa a los genes de interés. Por lo que la manera más facil es encontrar los genes con mayor similitud a nivel de secuencia con nuestro gen estudiado, para asignarle una función previamente conocida.\n",
    "\n",
    "BLAST fue desarrollado por David J. Lipman y sus colegas en 1990. El algoritmo consiste en dividir la secuencia de consulta en pequeñas subsecuencias denominadas K-mers donde k representa el numero de mers o la longitud de la subsecuencia, el valor k suele estar entre 3 y 10 para una secuencia de proteínas\n",
    "\n",
    "Estos pequeños k-mers luego se alinean con las secuencias en la base de datos y los hits son generados. Los hits se refinan aún más al alargar estas subsecuencias de acuerdo a la similitud entre la secuencia de consulta y la secuencia correspondiente en la base de datos.\n",
    "\n",
    "Existen servicios en linea para realizar el BLAST\n",
    "\n",
    "https://blast.ncbi.nlm.nih.gov/Blast.cgi\n",
    "\n",
    "Se puede instalar el software de BLAST y la base de datos de secuencias de NCBI en la computadora pero ocupa mucha memoria\n",
    "\n",
    "Una alternativa es utilizar el modulo NCBIWWWW"
   ]
  },
  {
   "cell_type": "code",
   "execution_count": 55,
   "id": "1b96d078",
   "metadata": {},
   "outputs": [],
   "source": [
    "from Bio.Blast import NCBIWWW\n",
    "sequence = Seq(\"ATTTTCTTGCTCTTGAGCTCTGGCACTTCTCTGCTGCTGTC\")\n",
    "result_handle = NCBIWWW.qblast(\"blastn\", \"nt\", sequence)"
   ]
  },
  {
   "cell_type": "markdown",
   "id": "6a7bb207",
   "metadata": {},
   "source": [
    "qblast, tiene tres principales parámetros:\n",
    "- Primero el tipo de programa que utilizaremos esto depende de nuestra secuencia y de la base de datos a utilizar.\n",
    "    - blastn: Nucleotide-Nucleotide\n",
    "    - blastp: Protein-Protein\n",
    "    - tblastn: Protein-Nucleotide\n",
    "    - blastx: Nucleotide-Protein\n",
    "- El segundo es la pase de datos a utilizar\n",
    "- El tercero es la secuencia o numero id de la secuencia\n",
    "    "
   ]
  },
  {
   "cell_type": "code",
   "execution_count": 50,
   "id": "8bf964cf",
   "metadata": {},
   "outputs": [
    {
     "ename": "ValueError",
     "evalue": "Your XML file was empty",
     "output_type": "error",
     "traceback": [
      "\u001b[0;31m---------------------------------------------------------------------------\u001b[0m",
      "\u001b[0;31mValueError\u001b[0m                                Traceback (most recent call last)",
      "Input \u001b[0;32mIn [50]\u001b[0m, in \u001b[0;36m<cell line: 3>\u001b[0;34m()\u001b[0m\n\u001b[1;32m      1\u001b[0m \u001b[38;5;28;01mfrom\u001b[39;00m \u001b[38;5;21;01mBio\u001b[39;00m\u001b[38;5;21;01m.\u001b[39;00m\u001b[38;5;21;01mBlast\u001b[39;00m \u001b[38;5;28;01mimport\u001b[39;00m NCBIXML\n\u001b[1;32m      2\u001b[0m blast_records \u001b[38;5;241m=\u001b[39m NCBIXML\u001b[38;5;241m.\u001b[39mparse(result_handle)\n\u001b[0;32m----> 3\u001b[0m \u001b[38;5;28;01mfor\u001b[39;00m b \u001b[38;5;129;01min\u001b[39;00m blast_records:\n\u001b[1;32m      4\u001b[0m     \u001b[38;5;28;01mfor\u001b[39;00m alignment \u001b[38;5;129;01min\u001b[39;00m b\u001b[38;5;241m.\u001b[39malignments[:\u001b[38;5;241m2\u001b[39m]:\n\u001b[1;32m      5\u001b[0m         \u001b[38;5;28;01mfor\u001b[39;00m hsp \u001b[38;5;129;01min\u001b[39;00m alignment\u001b[38;5;241m.\u001b[39mhsps:\n",
      "File \u001b[0;32m~/opt/anaconda3/lib/python3.9/site-packages/Bio/Blast/NCBIXML.py:799\u001b[0m, in \u001b[0;36mparse\u001b[0;34m(handle, debug)\u001b[0m\n\u001b[1;32m    795\u001b[0m     pending \u001b[38;5;241m=\u001b[39m \u001b[38;5;124mb\u001b[39m\u001b[38;5;124m\"\u001b[39m\u001b[38;5;124m\"\u001b[39m\n\u001b[1;32m    797\u001b[0m \u001b[38;5;28;01mif\u001b[39;00m \u001b[38;5;129;01mnot\u001b[39;00m text:\n\u001b[1;32m    798\u001b[0m     \u001b[38;5;66;03m# NO DATA FOUND!\u001b[39;00m\n\u001b[0;32m--> 799\u001b[0m     \u001b[38;5;28;01mraise\u001b[39;00m \u001b[38;5;167;01mValueError\u001b[39;00m(\u001b[38;5;124m\"\u001b[39m\u001b[38;5;124mYour XML file was empty\u001b[39m\u001b[38;5;124m\"\u001b[39m)\n\u001b[1;32m    801\u001b[0m \u001b[38;5;28;01mwhile\u001b[39;00m text:\n\u001b[1;32m    802\u001b[0m     \u001b[38;5;66;03m# We are now starting a new XML file\u001b[39;00m\n\u001b[1;32m    803\u001b[0m     \u001b[38;5;28;01mif\u001b[39;00m \u001b[38;5;129;01mnot\u001b[39;00m text\u001b[38;5;241m.\u001b[39mstartswith(XML_START):\n",
      "\u001b[0;31mValueError\u001b[0m: Your XML file was empty"
     ]
    }
   ],
   "source": [
    "from Bio.Blast import NCBIXML\n",
    "blast_records = NCBIXML.parse(result_handle)\n",
    "for b in blast_records:\n",
    "    for alignment in b.alignments[:2]:\n",
    "        for hsp in alignment.hsps:\n",
    "            print('****Alignment****')\n",
    "            print('sequence:', alignment.title)\n",
    "            print('length:', alignment.length)\n",
    "            print('e value:', hsp.expect)\n",
    "            print(hsp.query[0:75] + '…')\n",
    "            print(hsp.match[0:75] + '…')\n",
    "            print(hsp.sbjct[0:75] + '…')"
   ]
  },
  {
   "cell_type": "code",
   "execution_count": 56,
   "id": "81088543",
   "metadata": {},
   "outputs": [
    {
     "data": {
      "text/html": [
       "<div>\n",
       "<style scoped>\n",
       "    .dataframe tbody tr th:only-of-type {\n",
       "        vertical-align: middle;\n",
       "    }\n",
       "\n",
       "    .dataframe tbody tr th {\n",
       "        vertical-align: top;\n",
       "    }\n",
       "\n",
       "    .dataframe thead th {\n",
       "        text-align: right;\n",
       "    }\n",
       "</style>\n",
       "<table border=\"1\" class=\"dataframe\">\n",
       "  <thead>\n",
       "    <tr style=\"text-align: right;\">\n",
       "      <th></th>\n",
       "      <th>Query ID</th>\n",
       "      <th>Alignment Title</th>\n",
       "      <th>Alignment Length</th>\n",
       "      <th>E-value</th>\n",
       "      <th>Score</th>\n",
       "      <th>Query Sequence</th>\n",
       "      <th>Alignment Sequence</th>\n",
       "    </tr>\n",
       "  </thead>\n",
       "  <tbody>\n",
       "    <tr>\n",
       "      <th>0</th>\n",
       "      <td>Query_59857</td>\n",
       "      <td>gi|31790676|dbj|AP002353.4| Homo sapiens genom...</td>\n",
       "      <td>202607</td>\n",
       "      <td>1.877320e-10</td>\n",
       "      <td>82.0</td>\n",
       "      <td>ATTTTCTTGCTCTTGAGCTCTGGCACTTCTCTGCTGCTGTC</td>\n",
       "      <td>ATTTTCTTGCTCTTGAGCTCTGGCACTTCTCTGCTGCTGTC</td>\n",
       "    </tr>\n",
       "    <tr>\n",
       "      <th>1</th>\n",
       "      <td>Query_59857</td>\n",
       "      <td>gi|2464075051|ref|XR_008511356.1| PREDICTED: P...</td>\n",
       "      <td>520</td>\n",
       "      <td>7.982560e-09</td>\n",
       "      <td>77.0</td>\n",
       "      <td>ATTTTCTTGCTCTTGAGCTCTGGCACTTCTCTGCTGCTGTC</td>\n",
       "      <td>ATTTTCTTGCTCTTGAGCTCTGGCTCTTCTCTGCTGCTGTC</td>\n",
       "    </tr>\n",
       "    <tr>\n",
       "      <th>2</th>\n",
       "      <td>Query_59857</td>\n",
       "      <td>gi|1777262699|ref|XR_637767.2| PREDICTED: Papi...</td>\n",
       "      <td>904</td>\n",
       "      <td>4.135070e-06</td>\n",
       "      <td>67.0</td>\n",
       "      <td>CTTGCTCTTGAGCTCTGGCACTTCTCTGCTGCTGTC</td>\n",
       "      <td>CTTGCTCTTGAGCTCTGGCTCTTCTCTGCTGCTGTC</td>\n",
       "    </tr>\n",
       "    <tr>\n",
       "      <th>3</th>\n",
       "      <td>Query_59857</td>\n",
       "      <td>gi|795278787|ref|XM_012066512.1| PREDICTED: Ce...</td>\n",
       "      <td>705</td>\n",
       "      <td>1.443280e-05</td>\n",
       "      <td>64.0</td>\n",
       "      <td>ATTTTCTTGCTCTTGAGCTCTGGCACTTCTCTGCTGCTGTC</td>\n",
       "      <td>ATTTTCTTGCTCTTGAGCTCTGGCCCT--TCTGCTGCTGTC</td>\n",
       "    </tr>\n",
       "    <tr>\n",
       "      <th>4</th>\n",
       "      <td>Query_59857</td>\n",
       "      <td>gi|2441772989|ref|XM_053593833.1| PREDICTED: N...</td>\n",
       "      <td>1386</td>\n",
       "      <td>5.037550e-05</td>\n",
       "      <td>62.0</td>\n",
       "      <td>ATTTTCTTGCTCTTGAGCTCTGGCACTTCTCTGCTGCTGTC</td>\n",
       "      <td>ATATTCTTGCTCTTGAGTTCTGGCTTTTCTCTGCTGCTGTC</td>\n",
       "    </tr>\n",
       "    <tr>\n",
       "      <th>5</th>\n",
       "      <td>Query_59857</td>\n",
       "      <td>gi|2441772987|ref|XM_053593832.1| PREDICTED: N...</td>\n",
       "      <td>1254</td>\n",
       "      <td>5.037550e-05</td>\n",
       "      <td>62.0</td>\n",
       "      <td>ATTTTCTTGCTCTTGAGCTCTGGCACTTCTCTGCTGCTGTC</td>\n",
       "      <td>ATATTCTTGCTCTTGAGTTCTGGCTTTTCTCTGCTGCTGTC</td>\n",
       "    </tr>\n",
       "    <tr>\n",
       "      <th>6</th>\n",
       "      <td>Query_59857</td>\n",
       "      <td>gi|1149873612|ref|XM_020286887.1| PREDICTED: M...</td>\n",
       "      <td>767</td>\n",
       "      <td>1.758280e-04</td>\n",
       "      <td>60.0</td>\n",
       "      <td>TTTTCTTGCTCTTGAGCTCTGGCACTTCTCTGCTGCTGTC</td>\n",
       "      <td>TTTTCTTGCTCTTGAACTCTGGCTTGTCTCTGCTGCTGTC</td>\n",
       "    </tr>\n",
       "    <tr>\n",
       "      <th>7</th>\n",
       "      <td>Query_59857</td>\n",
       "      <td>gi|1149873610|ref|XM_020286886.1| PREDICTED: M...</td>\n",
       "      <td>860</td>\n",
       "      <td>1.758280e-04</td>\n",
       "      <td>60.0</td>\n",
       "      <td>TTTTCTTGCTCTTGAGCTCTGGCACTTCTCTGCTGCTGTC</td>\n",
       "      <td>TTTTCTTGCTCTTGAACTCTGGCTTGTCTCTGCTGCTGTC</td>\n",
       "    </tr>\n",
       "    <tr>\n",
       "      <th>8</th>\n",
       "      <td>Query_59857</td>\n",
       "      <td>gi|1149873608|ref|XM_020286885.1| PREDICTED: M...</td>\n",
       "      <td>878</td>\n",
       "      <td>1.758280e-04</td>\n",
       "      <td>60.0</td>\n",
       "      <td>TTTTCTTGCTCTTGAGCTCTGGCACTTCTCTGCTGCTGTC</td>\n",
       "      <td>TTTTCTTGCTCTTGAACTCTGGCTTGTCTCTGCTGCTGTC</td>\n",
       "    </tr>\n",
       "    <tr>\n",
       "      <th>9</th>\n",
       "      <td>Query_59857</td>\n",
       "      <td>gi|1885978890|emb|LR862365.1| Pipistrellus pip...</td>\n",
       "      <td>72542072</td>\n",
       "      <td>9.108100e-02</td>\n",
       "      <td>51.0</td>\n",
       "      <td>ATTTTCTTGCTCTTGAGCTCTGGCACTTCTCTGCTGCT</td>\n",
       "      <td>ATTTTCTTGCTCTTTAGCTCAGGCTCCGCTCTGCTGCT</td>\n",
       "    </tr>\n",
       "    <tr>\n",
       "      <th>10</th>\n",
       "      <td>Query_59857</td>\n",
       "      <td>gi|1862843685|emb|LR812118.1| Erithacus rubecu...</td>\n",
       "      <td>19110993</td>\n",
       "      <td>3.179040e-01</td>\n",
       "      <td>48.0</td>\n",
       "      <td>AGCTCTGGCACTTCTCTGCTGCTG</td>\n",
       "      <td>AGCTCTGGCACTTCTCTGCTGCTG</td>\n",
       "    </tr>\n",
       "    <tr>\n",
       "      <th>11</th>\n",
       "      <td>Query_59857</td>\n",
       "      <td>gi|1862843683|emb|LR812116.1| Erithacus rubecu...</td>\n",
       "      <td>20404784</td>\n",
       "      <td>1.109590e+00</td>\n",
       "      <td>47.0</td>\n",
       "      <td>TGCTCTTGAGCTCTGGCACTTCTCTG</td>\n",
       "      <td>TGCTCTTGAGCCCTGGCACTTCTCTG</td>\n",
       "    </tr>\n",
       "    <tr>\n",
       "      <th>12</th>\n",
       "      <td>Query_59857</td>\n",
       "      <td>gi|1862831818|emb|LR812066.1| Danio rerio geno...</td>\n",
       "      <td>62664720</td>\n",
       "      <td>1.109590e+00</td>\n",
       "      <td>47.0</td>\n",
       "      <td>TTTCTTGCTCTTGAGCTCTGGCACTTCTCTG</td>\n",
       "      <td>TTTCTTGCTCTTCAGCTCTGGCATTTCTTTG</td>\n",
       "    </tr>\n",
       "    <tr>\n",
       "      <th>13</th>\n",
       "      <td>Query_59857</td>\n",
       "      <td>gi|2350478783|ref|XM_052329191.1| PREDICTED: D...</td>\n",
       "      <td>2095</td>\n",
       "      <td>1.109590e+00</td>\n",
       "      <td>47.0</td>\n",
       "      <td>TTTTCTTGCTCTT-GAGCTCTGGCACTTCTCTGCTGCT</td>\n",
       "      <td>TTTTCTTCTTCTTAGAGCTCTGGCGTTTCTCTGCTGCT</td>\n",
       "    </tr>\n",
       "    <tr>\n",
       "      <th>14</th>\n",
       "      <td>Query_59857</td>\n",
       "      <td>gi|2350478779|ref|XM_052329190.1| PREDICTED: D...</td>\n",
       "      <td>2219</td>\n",
       "      <td>1.109590e+00</td>\n",
       "      <td>47.0</td>\n",
       "      <td>TTTTCTTGCTCTT-GAGCTCTGGCACTTCTCTGCTGCT</td>\n",
       "      <td>TTTTCTTCTTCTTAGAGCTCTGGCGTTTCTCTGCTGCT</td>\n",
       "    </tr>\n",
       "    <tr>\n",
       "      <th>15</th>\n",
       "      <td>Query_59857</td>\n",
       "      <td>gi|2259094042|emb|OX030883.1| Anopheles aquasa...</td>\n",
       "      <td>68231066</td>\n",
       "      <td>1.109590e+00</td>\n",
       "      <td>47.0</td>\n",
       "      <td>AGCTCTGGCACTTCTCTGCTGCTGTC</td>\n",
       "      <td>AGCTCTGGCACTTTTCTGCTGCTGTC</td>\n",
       "    </tr>\n",
       "    <tr>\n",
       "      <th>16</th>\n",
       "      <td>Query_59857</td>\n",
       "      <td>gi|1610705305|emb|LR584241.1| Takifugu rubripe...</td>\n",
       "      <td>16367601</td>\n",
       "      <td>3.872860e+00</td>\n",
       "      <td>45.0</td>\n",
       "      <td>ATTTTCTTGCTCTTGAGCTCTGGCA</td>\n",
       "      <td>ATCTTCTTGCTCTTGAGCTCTGGCA</td>\n",
       "    </tr>\n",
       "    <tr>\n",
       "      <th>17</th>\n",
       "      <td>Query_59857</td>\n",
       "      <td>gi|1610705258|emb|LR584238.1| Takifugu rubripe...</td>\n",
       "      <td>17515293</td>\n",
       "      <td>3.872860e+00</td>\n",
       "      <td>45.0</td>\n",
       "      <td>ATTTTCTTGCTCTTGAGCTCTGGCA</td>\n",
       "      <td>ATCTTCTTGCTCTTGAGCTCTGGCA</td>\n",
       "    </tr>\n",
       "    <tr>\n",
       "      <th>18</th>\n",
       "      <td>Query_59857</td>\n",
       "      <td>gi|1804371612|ref|XM_032285689.1| PREDICTED: S...</td>\n",
       "      <td>710</td>\n",
       "      <td>3.872860e+00</td>\n",
       "      <td>44.0</td>\n",
       "      <td>ATTTTCTTGCTCTTGAGCTCTGGCACTTCTCTGCTGCTGTC</td>\n",
       "      <td>ATTTTCTTGCTC-------CTGGCTCTTCTCTGCTGCTGTC</td>\n",
       "    </tr>\n",
       "    <tr>\n",
       "      <th>19</th>\n",
       "      <td>Query_59857</td>\n",
       "      <td>gi|1775566801|gb|CP023095.1| Fusarium fujikuro...</td>\n",
       "      <td>3298124</td>\n",
       "      <td>3.872860e+00</td>\n",
       "      <td>44.0</td>\n",
       "      <td>TCTTGA-GCTCTGGCACTTCTCTGCTGCT</td>\n",
       "      <td>TCTTGAAGCTCTGGCACTTCTCTTCTGCT</td>\n",
       "    </tr>\n",
       "    <tr>\n",
       "      <th>20</th>\n",
       "      <td>Query_59857</td>\n",
       "      <td>gi|1775541406|gb|CP023107.1| Fusarium fujikuro...</td>\n",
       "      <td>3373196</td>\n",
       "      <td>3.872860e+00</td>\n",
       "      <td>44.0</td>\n",
       "      <td>TCTTGA-GCTCTGGCACTTCTCTGCTGCT</td>\n",
       "      <td>TCTTGAAGCTCTGGCACTTCTCTTCTGCT</td>\n",
       "    </tr>\n",
       "    <tr>\n",
       "      <th>21</th>\n",
       "      <td>Query_59857</td>\n",
       "      <td>gi|1775513100|gb|CP023083.1| Fusarium fujikuro...</td>\n",
       "      <td>3298383</td>\n",
       "      <td>3.872860e+00</td>\n",
       "      <td>44.0</td>\n",
       "      <td>TCTTGA-GCTCTGGCACTTCTCTGCTGCT</td>\n",
       "      <td>TCTTGAAGCTCTGGCACTTCTCTTCTGCT</td>\n",
       "    </tr>\n",
       "    <tr>\n",
       "      <th>22</th>\n",
       "      <td>Query_59857</td>\n",
       "      <td>gi|1766889160|ref|XM_031231909.1| Fusarium pro...</td>\n",
       "      <td>3210</td>\n",
       "      <td>3.872860e+00</td>\n",
       "      <td>44.0</td>\n",
       "      <td>TCTTGA-GCTCTGGCACTTCTCTGCTGCT</td>\n",
       "      <td>TCTTGAAGCTCTGGCACTTCTCTTCTGCT</td>\n",
       "    </tr>\n",
       "    <tr>\n",
       "      <th>23</th>\n",
       "      <td>Query_59857</td>\n",
       "      <td>gi|1698050887|emb|LR606196.1| Aquila chrysaeto...</td>\n",
       "      <td>30610376</td>\n",
       "      <td>3.872860e+00</td>\n",
       "      <td>44.0</td>\n",
       "      <td>CTTGCTCTTGAGCTCTGGCACTTCTCT</td>\n",
       "      <td>CTAGCTCTTGAGCTCTGGCACTGCTCT</td>\n",
       "    </tr>\n",
       "    <tr>\n",
       "      <th>24</th>\n",
       "      <td>Query_59857</td>\n",
       "      <td>gi|1353793173|gb|CP027083.1| Bos mutus isolate...</td>\n",
       "      <td>79990276</td>\n",
       "      <td>3.872860e+00</td>\n",
       "      <td>44.0</td>\n",
       "      <td>ATTTTCTTGCTCTTGAGCTCTGGCACTTCTCTGCTGC</td>\n",
       "      <td>ATTTTCTTGCCCTTTAGCTCAAGTTCTTCTCTGCTGC</td>\n",
       "    </tr>\n",
       "    <tr>\n",
       "      <th>25</th>\n",
       "      <td>Query_59857</td>\n",
       "      <td>gi|1328544164|ref|XM_023580798.1| Fusarium fuj...</td>\n",
       "      <td>3231</td>\n",
       "      <td>3.872860e+00</td>\n",
       "      <td>44.0</td>\n",
       "      <td>TCTTGA-GCTCTGGCACTTCTCTGCTGCT</td>\n",
       "      <td>TCTTGAAGCTCTGGCACTTCTCTTCTGCT</td>\n",
       "    </tr>\n",
       "    <tr>\n",
       "      <th>26</th>\n",
       "      <td>Query_59857</td>\n",
       "      <td>gi|2507477286|emb|OX597829.1| Octopus vulgaris...</td>\n",
       "      <td>58760710</td>\n",
       "      <td>3.872860e+00</td>\n",
       "      <td>44.0</td>\n",
       "      <td>ATTTTCTTGCTCTTGAG-CTC-TGGCACTTCTCTGC</td>\n",
       "      <td>ATTTTCTTTCTCTTGAATCTCCTGGCACTTCTCTGC</td>\n",
       "    </tr>\n",
       "    <tr>\n",
       "      <th>27</th>\n",
       "      <td>Query_59857</td>\n",
       "      <td>gi|2504565238|emb|OX596094.1| Rangifer tarandu...</td>\n",
       "      <td>78466499</td>\n",
       "      <td>3.872860e+00</td>\n",
       "      <td>44.0</td>\n",
       "      <td>ATTTTCTTGCTCTTGAGCTCTGGCACTTCTCTGCTGC</td>\n",
       "      <td>ATTTTCTTGCCCTTTAGCTCAAGTTCTTCTCTGCTGC</td>\n",
       "    </tr>\n",
       "    <tr>\n",
       "      <th>28</th>\n",
       "      <td>Query_59857</td>\n",
       "      <td>gi|2486609118|emb|OX459946.2| Rangifer tarandu...</td>\n",
       "      <td>80885817</td>\n",
       "      <td>3.872860e+00</td>\n",
       "      <td>44.0</td>\n",
       "      <td>ATTTTCTTGCTCTTGAGCTCTGGCACTTCTCTGCTGC</td>\n",
       "      <td>ATTTTCTTGCCCTTTAGCTCAAGTTCTTCTCTGCTGC</td>\n",
       "    </tr>\n",
       "    <tr>\n",
       "      <th>29</th>\n",
       "      <td>Query_59857</td>\n",
       "      <td>gi|2477388901|emb|OX460894.1| Onychomys torrid...</td>\n",
       "      <td>78371027</td>\n",
       "      <td>3.872860e+00</td>\n",
       "      <td>44.0</td>\n",
       "      <td>TCTTGCTCTTGAGCTCTGGCACTTCTCTGCTG</td>\n",
       "      <td>TCTTGATTGTGAGCTCTGCCACTTCTCTGCTG</td>\n",
       "    </tr>\n",
       "    <tr>\n",
       "      <th>30</th>\n",
       "      <td>Query_59857</td>\n",
       "      <td>gi|2476195890|emb|OX460454.1| Onychomys arenic...</td>\n",
       "      <td>83010255</td>\n",
       "      <td>3.872860e+00</td>\n",
       "      <td>44.0</td>\n",
       "      <td>TCTTGCTCTTGAGCTCTGGCACTTCTCTGCTG</td>\n",
       "      <td>TCTTGATTGTGAGCTCTGCCACTTCTCTGCTG</td>\n",
       "    </tr>\n",
       "    <tr>\n",
       "      <th>31</th>\n",
       "      <td>Query_59857</td>\n",
       "      <td>gi|2476186504|emb|OX460430.1| Onychomys leucog...</td>\n",
       "      <td>78949399</td>\n",
       "      <td>3.872860e+00</td>\n",
       "      <td>44.0</td>\n",
       "      <td>TCTTGCTCTTGAGCTCTGGCACTTCTCTGCTG</td>\n",
       "      <td>TCTTGATTGTGAGCTCTGCCACTTCTCTGCTG</td>\n",
       "    </tr>\n",
       "    <tr>\n",
       "      <th>32</th>\n",
       "      <td>Query_59857</td>\n",
       "      <td>gi|2476159873|emb|OX460383.1| Onychomys leucog...</td>\n",
       "      <td>79005184</td>\n",
       "      <td>3.872860e+00</td>\n",
       "      <td>44.0</td>\n",
       "      <td>TCTTGCTCTTGAGCTCTGGCACTTCTCTGCTG</td>\n",
       "      <td>TCTTGATTGTGAGCTCTGCCACTTCTCTGCTG</td>\n",
       "    </tr>\n",
       "    <tr>\n",
       "      <th>33</th>\n",
       "      <td>Query_59857</td>\n",
       "      <td>gi|2390895752|emb|OX381656.1| Haliaeetus albic...</td>\n",
       "      <td>29849426</td>\n",
       "      <td>3.872860e+00</td>\n",
       "      <td>44.0</td>\n",
       "      <td>TGCTCTTGAGCTCTGGCACTTCTCTGCTG</td>\n",
       "      <td>TGCTCTGG-GCTCTGGCACTTCTCTGCTG</td>\n",
       "    </tr>\n",
       "    <tr>\n",
       "      <th>34</th>\n",
       "      <td>Query_59857</td>\n",
       "      <td>gi|2390895744|emb|OX381653.1| Haliaeetus albic...</td>\n",
       "      <td>33638006</td>\n",
       "      <td>3.872860e+00</td>\n",
       "      <td>44.0</td>\n",
       "      <td>CTTGCTCTTGAGCTCTGGCACTTCTCT</td>\n",
       "      <td>CTAGCTCTTGAGCTCTGGCACTGCTCT</td>\n",
       "    </tr>\n",
       "    <tr>\n",
       "      <th>35</th>\n",
       "      <td>Query_59857</td>\n",
       "      <td>gi|2323024345|emb|OX344704.1| Bos taurus strai...</td>\n",
       "      <td>87697707</td>\n",
       "      <td>3.872860e+00</td>\n",
       "      <td>44.0</td>\n",
       "      <td>ATTTTCTTGCTCTTGAGCTCTGGCACTTCTCTGCTGC</td>\n",
       "      <td>ATTTTCTTGCCCTTTAGCTCAAGTTCTTCTCTGCTGC</td>\n",
       "    </tr>\n",
       "    <tr>\n",
       "      <th>36</th>\n",
       "      <td>Query_59857</td>\n",
       "      <td>gi|2280518945|emb|OX258969.1| Bos gaurus x Bos...</td>\n",
       "      <td>84953035</td>\n",
       "      <td>3.872860e+00</td>\n",
       "      <td>44.0</td>\n",
       "      <td>ATTTTCTTGCTCTTGAGCTCTGGCACTTCTCTGCTGC</td>\n",
       "      <td>ATTTTCTTGCCCTTTAGCTCAAGTTCTTCTCTGCTGC</td>\n",
       "    </tr>\n",
       "    <tr>\n",
       "      <th>37</th>\n",
       "      <td>Query_59857</td>\n",
       "      <td>gi|2191808365|emb|OV839379.1| Accipiter gentil...</td>\n",
       "      <td>29659553</td>\n",
       "      <td>3.872860e+00</td>\n",
       "      <td>44.0</td>\n",
       "      <td>TGCTCTTGAGCTCTGGCACTTCTCTGCTG</td>\n",
       "      <td>TGCTCTGG-GCTCTGGCACTTCTCTGCTG</td>\n",
       "    </tr>\n",
       "    <tr>\n",
       "      <th>38</th>\n",
       "      <td>Query_59857</td>\n",
       "      <td>gi|2191808364|emb|OV839378.1| Accipiter gentil...</td>\n",
       "      <td>31036983</td>\n",
       "      <td>3.872860e+00</td>\n",
       "      <td>44.0</td>\n",
       "      <td>CTTGCTCTTGAGCTCTGGCACTTCTCT</td>\n",
       "      <td>CTAGCTCTTGAGCTCTGGCACTGCTCT</td>\n",
       "    </tr>\n",
       "    <tr>\n",
       "      <th>39</th>\n",
       "      <td>Query_59857</td>\n",
       "      <td>gi|2156558416|emb|LR962870.1| Bos taurus genom...</td>\n",
       "      <td>84476814</td>\n",
       "      <td>3.872860e+00</td>\n",
       "      <td>44.0</td>\n",
       "      <td>ATTTTCTTGCTCTTGAGCTCTGGCACTTCTCTGCTGC</td>\n",
       "      <td>ATTTTCTTGCCCTTTAGCTCAAGTTCTTCTCTGCTGC</td>\n",
       "    </tr>\n",
       "    <tr>\n",
       "      <th>40</th>\n",
       "      <td>Query_59857</td>\n",
       "      <td>gi|2156558384|emb|LR962745.1| Bos taurus genom...</td>\n",
       "      <td>85540509</td>\n",
       "      <td>3.872860e+00</td>\n",
       "      <td>44.0</td>\n",
       "      <td>ATTTTCTTGCTCTTGAGCTCTGGCACTTCTCTGCTGC</td>\n",
       "      <td>ATTTTCTTGCCCTTTAGCTCAAGTTCTTCTCTGCTGC</td>\n",
       "    </tr>\n",
       "    <tr>\n",
       "      <th>41</th>\n",
       "      <td>Query_59857</td>\n",
       "      <td>gi|2073535368|ref|XM_031582090.2| PREDICTED: C...</td>\n",
       "      <td>1225</td>\n",
       "      <td>3.872860e+00</td>\n",
       "      <td>44.0</td>\n",
       "      <td>TCTTGCTCTTGAGCTCTGGCACTTCTC</td>\n",
       "      <td>TCTTGCTCTTGAGCTCTGGAACCTCTC</td>\n",
       "    </tr>\n",
       "    <tr>\n",
       "      <th>42</th>\n",
       "      <td>Query_59857</td>\n",
       "      <td>gi|2063802350|emb|OU343078.1| Cervus elaphus g...</td>\n",
       "      <td>99365844</td>\n",
       "      <td>3.872860e+00</td>\n",
       "      <td>44.0</td>\n",
       "      <td>ATTTTCTTGCTCTTGAGCTCTGGCACTTCTCTGCTGC</td>\n",
       "      <td>ATTTTCTTGCCCTTTAGCTCAAGTTCTTCTCTGCTGC</td>\n",
       "    </tr>\n",
       "    <tr>\n",
       "      <th>43</th>\n",
       "      <td>Query_59857</td>\n",
       "      <td>gi|2046458096|ref|XM_041824068.1| Fusarium man...</td>\n",
       "      <td>3225</td>\n",
       "      <td>3.872860e+00</td>\n",
       "      <td>44.0</td>\n",
       "      <td>TCTTGA-GCTCTGGCACTTCTCTGCTGCT</td>\n",
       "      <td>TCTTGAAGCTCTGGCACTTCTCTTCTGCT</td>\n",
       "    </tr>\n",
       "    <tr>\n",
       "      <th>44</th>\n",
       "      <td>Query_59857</td>\n",
       "      <td>gi|517320210|emb|HF679029.1| Fusarium fujikuro...</td>\n",
       "      <td>3307243</td>\n",
       "      <td>3.872860e+00</td>\n",
       "      <td>44.0</td>\n",
       "      <td>TCTTGA-GCTCTGGCACTTCTCTGCTGCT</td>\n",
       "      <td>TCTTGAAGCTCTGGCACTTCTCTTCTGCT</td>\n",
       "    </tr>\n",
       "    <tr>\n",
       "      <th>45</th>\n",
       "      <td>Query_59857</td>\n",
       "      <td>gi|1894914055|emb|LR877200.1| Onychomys torrid...</td>\n",
       "      <td>78371027</td>\n",
       "      <td>3.872860e+00</td>\n",
       "      <td>44.0</td>\n",
       "      <td>TCTTGCTCTTGAGCTCTGGCACTTCTCTGCTG</td>\n",
       "      <td>TCTTGATTGTGAGCTCTGCCACTTCTCTGCTG</td>\n",
       "    </tr>\n",
       "  </tbody>\n",
       "</table>\n",
       "</div>"
      ],
      "text/plain": [
       "       Query ID                                    Alignment Title  \\\n",
       "0   Query_59857  gi|31790676|dbj|AP002353.4| Homo sapiens genom...   \n",
       "1   Query_59857  gi|2464075051|ref|XR_008511356.1| PREDICTED: P...   \n",
       "2   Query_59857  gi|1777262699|ref|XR_637767.2| PREDICTED: Papi...   \n",
       "3   Query_59857  gi|795278787|ref|XM_012066512.1| PREDICTED: Ce...   \n",
       "4   Query_59857  gi|2441772989|ref|XM_053593833.1| PREDICTED: N...   \n",
       "5   Query_59857  gi|2441772987|ref|XM_053593832.1| PREDICTED: N...   \n",
       "6   Query_59857  gi|1149873612|ref|XM_020286887.1| PREDICTED: M...   \n",
       "7   Query_59857  gi|1149873610|ref|XM_020286886.1| PREDICTED: M...   \n",
       "8   Query_59857  gi|1149873608|ref|XM_020286885.1| PREDICTED: M...   \n",
       "9   Query_59857  gi|1885978890|emb|LR862365.1| Pipistrellus pip...   \n",
       "10  Query_59857  gi|1862843685|emb|LR812118.1| Erithacus rubecu...   \n",
       "11  Query_59857  gi|1862843683|emb|LR812116.1| Erithacus rubecu...   \n",
       "12  Query_59857  gi|1862831818|emb|LR812066.1| Danio rerio geno...   \n",
       "13  Query_59857  gi|2350478783|ref|XM_052329191.1| PREDICTED: D...   \n",
       "14  Query_59857  gi|2350478779|ref|XM_052329190.1| PREDICTED: D...   \n",
       "15  Query_59857  gi|2259094042|emb|OX030883.1| Anopheles aquasa...   \n",
       "16  Query_59857  gi|1610705305|emb|LR584241.1| Takifugu rubripe...   \n",
       "17  Query_59857  gi|1610705258|emb|LR584238.1| Takifugu rubripe...   \n",
       "18  Query_59857  gi|1804371612|ref|XM_032285689.1| PREDICTED: S...   \n",
       "19  Query_59857  gi|1775566801|gb|CP023095.1| Fusarium fujikuro...   \n",
       "20  Query_59857  gi|1775541406|gb|CP023107.1| Fusarium fujikuro...   \n",
       "21  Query_59857  gi|1775513100|gb|CP023083.1| Fusarium fujikuro...   \n",
       "22  Query_59857  gi|1766889160|ref|XM_031231909.1| Fusarium pro...   \n",
       "23  Query_59857  gi|1698050887|emb|LR606196.1| Aquila chrysaeto...   \n",
       "24  Query_59857  gi|1353793173|gb|CP027083.1| Bos mutus isolate...   \n",
       "25  Query_59857  gi|1328544164|ref|XM_023580798.1| Fusarium fuj...   \n",
       "26  Query_59857  gi|2507477286|emb|OX597829.1| Octopus vulgaris...   \n",
       "27  Query_59857  gi|2504565238|emb|OX596094.1| Rangifer tarandu...   \n",
       "28  Query_59857  gi|2486609118|emb|OX459946.2| Rangifer tarandu...   \n",
       "29  Query_59857  gi|2477388901|emb|OX460894.1| Onychomys torrid...   \n",
       "30  Query_59857  gi|2476195890|emb|OX460454.1| Onychomys arenic...   \n",
       "31  Query_59857  gi|2476186504|emb|OX460430.1| Onychomys leucog...   \n",
       "32  Query_59857  gi|2476159873|emb|OX460383.1| Onychomys leucog...   \n",
       "33  Query_59857  gi|2390895752|emb|OX381656.1| Haliaeetus albic...   \n",
       "34  Query_59857  gi|2390895744|emb|OX381653.1| Haliaeetus albic...   \n",
       "35  Query_59857  gi|2323024345|emb|OX344704.1| Bos taurus strai...   \n",
       "36  Query_59857  gi|2280518945|emb|OX258969.1| Bos gaurus x Bos...   \n",
       "37  Query_59857  gi|2191808365|emb|OV839379.1| Accipiter gentil...   \n",
       "38  Query_59857  gi|2191808364|emb|OV839378.1| Accipiter gentil...   \n",
       "39  Query_59857  gi|2156558416|emb|LR962870.1| Bos taurus genom...   \n",
       "40  Query_59857  gi|2156558384|emb|LR962745.1| Bos taurus genom...   \n",
       "41  Query_59857  gi|2073535368|ref|XM_031582090.2| PREDICTED: C...   \n",
       "42  Query_59857  gi|2063802350|emb|OU343078.1| Cervus elaphus g...   \n",
       "43  Query_59857  gi|2046458096|ref|XM_041824068.1| Fusarium man...   \n",
       "44  Query_59857  gi|517320210|emb|HF679029.1| Fusarium fujikuro...   \n",
       "45  Query_59857  gi|1894914055|emb|LR877200.1| Onychomys torrid...   \n",
       "\n",
       "    Alignment Length       E-value  Score  \\\n",
       "0             202607  1.877320e-10   82.0   \n",
       "1                520  7.982560e-09   77.0   \n",
       "2                904  4.135070e-06   67.0   \n",
       "3                705  1.443280e-05   64.0   \n",
       "4               1386  5.037550e-05   62.0   \n",
       "5               1254  5.037550e-05   62.0   \n",
       "6                767  1.758280e-04   60.0   \n",
       "7                860  1.758280e-04   60.0   \n",
       "8                878  1.758280e-04   60.0   \n",
       "9           72542072  9.108100e-02   51.0   \n",
       "10          19110993  3.179040e-01   48.0   \n",
       "11          20404784  1.109590e+00   47.0   \n",
       "12          62664720  1.109590e+00   47.0   \n",
       "13              2095  1.109590e+00   47.0   \n",
       "14              2219  1.109590e+00   47.0   \n",
       "15          68231066  1.109590e+00   47.0   \n",
       "16          16367601  3.872860e+00   45.0   \n",
       "17          17515293  3.872860e+00   45.0   \n",
       "18               710  3.872860e+00   44.0   \n",
       "19           3298124  3.872860e+00   44.0   \n",
       "20           3373196  3.872860e+00   44.0   \n",
       "21           3298383  3.872860e+00   44.0   \n",
       "22              3210  3.872860e+00   44.0   \n",
       "23          30610376  3.872860e+00   44.0   \n",
       "24          79990276  3.872860e+00   44.0   \n",
       "25              3231  3.872860e+00   44.0   \n",
       "26          58760710  3.872860e+00   44.0   \n",
       "27          78466499  3.872860e+00   44.0   \n",
       "28          80885817  3.872860e+00   44.0   \n",
       "29          78371027  3.872860e+00   44.0   \n",
       "30          83010255  3.872860e+00   44.0   \n",
       "31          78949399  3.872860e+00   44.0   \n",
       "32          79005184  3.872860e+00   44.0   \n",
       "33          29849426  3.872860e+00   44.0   \n",
       "34          33638006  3.872860e+00   44.0   \n",
       "35          87697707  3.872860e+00   44.0   \n",
       "36          84953035  3.872860e+00   44.0   \n",
       "37          29659553  3.872860e+00   44.0   \n",
       "38          31036983  3.872860e+00   44.0   \n",
       "39          84476814  3.872860e+00   44.0   \n",
       "40          85540509  3.872860e+00   44.0   \n",
       "41              1225  3.872860e+00   44.0   \n",
       "42          99365844  3.872860e+00   44.0   \n",
       "43              3225  3.872860e+00   44.0   \n",
       "44           3307243  3.872860e+00   44.0   \n",
       "45          78371027  3.872860e+00   44.0   \n",
       "\n",
       "                               Query Sequence  \\\n",
       "0   ATTTTCTTGCTCTTGAGCTCTGGCACTTCTCTGCTGCTGTC   \n",
       "1   ATTTTCTTGCTCTTGAGCTCTGGCACTTCTCTGCTGCTGTC   \n",
       "2        CTTGCTCTTGAGCTCTGGCACTTCTCTGCTGCTGTC   \n",
       "3   ATTTTCTTGCTCTTGAGCTCTGGCACTTCTCTGCTGCTGTC   \n",
       "4   ATTTTCTTGCTCTTGAGCTCTGGCACTTCTCTGCTGCTGTC   \n",
       "5   ATTTTCTTGCTCTTGAGCTCTGGCACTTCTCTGCTGCTGTC   \n",
       "6    TTTTCTTGCTCTTGAGCTCTGGCACTTCTCTGCTGCTGTC   \n",
       "7    TTTTCTTGCTCTTGAGCTCTGGCACTTCTCTGCTGCTGTC   \n",
       "8    TTTTCTTGCTCTTGAGCTCTGGCACTTCTCTGCTGCTGTC   \n",
       "9      ATTTTCTTGCTCTTGAGCTCTGGCACTTCTCTGCTGCT   \n",
       "10                   AGCTCTGGCACTTCTCTGCTGCTG   \n",
       "11                 TGCTCTTGAGCTCTGGCACTTCTCTG   \n",
       "12            TTTCTTGCTCTTGAGCTCTGGCACTTCTCTG   \n",
       "13     TTTTCTTGCTCTT-GAGCTCTGGCACTTCTCTGCTGCT   \n",
       "14     TTTTCTTGCTCTT-GAGCTCTGGCACTTCTCTGCTGCT   \n",
       "15                 AGCTCTGGCACTTCTCTGCTGCTGTC   \n",
       "16                  ATTTTCTTGCTCTTGAGCTCTGGCA   \n",
       "17                  ATTTTCTTGCTCTTGAGCTCTGGCA   \n",
       "18  ATTTTCTTGCTCTTGAGCTCTGGCACTTCTCTGCTGCTGTC   \n",
       "19              TCTTGA-GCTCTGGCACTTCTCTGCTGCT   \n",
       "20              TCTTGA-GCTCTGGCACTTCTCTGCTGCT   \n",
       "21              TCTTGA-GCTCTGGCACTTCTCTGCTGCT   \n",
       "22              TCTTGA-GCTCTGGCACTTCTCTGCTGCT   \n",
       "23                CTTGCTCTTGAGCTCTGGCACTTCTCT   \n",
       "24      ATTTTCTTGCTCTTGAGCTCTGGCACTTCTCTGCTGC   \n",
       "25              TCTTGA-GCTCTGGCACTTCTCTGCTGCT   \n",
       "26       ATTTTCTTGCTCTTGAG-CTC-TGGCACTTCTCTGC   \n",
       "27      ATTTTCTTGCTCTTGAGCTCTGGCACTTCTCTGCTGC   \n",
       "28      ATTTTCTTGCTCTTGAGCTCTGGCACTTCTCTGCTGC   \n",
       "29           TCTTGCTCTTGAGCTCTGGCACTTCTCTGCTG   \n",
       "30           TCTTGCTCTTGAGCTCTGGCACTTCTCTGCTG   \n",
       "31           TCTTGCTCTTGAGCTCTGGCACTTCTCTGCTG   \n",
       "32           TCTTGCTCTTGAGCTCTGGCACTTCTCTGCTG   \n",
       "33              TGCTCTTGAGCTCTGGCACTTCTCTGCTG   \n",
       "34                CTTGCTCTTGAGCTCTGGCACTTCTCT   \n",
       "35      ATTTTCTTGCTCTTGAGCTCTGGCACTTCTCTGCTGC   \n",
       "36      ATTTTCTTGCTCTTGAGCTCTGGCACTTCTCTGCTGC   \n",
       "37              TGCTCTTGAGCTCTGGCACTTCTCTGCTG   \n",
       "38                CTTGCTCTTGAGCTCTGGCACTTCTCT   \n",
       "39      ATTTTCTTGCTCTTGAGCTCTGGCACTTCTCTGCTGC   \n",
       "40      ATTTTCTTGCTCTTGAGCTCTGGCACTTCTCTGCTGC   \n",
       "41                TCTTGCTCTTGAGCTCTGGCACTTCTC   \n",
       "42      ATTTTCTTGCTCTTGAGCTCTGGCACTTCTCTGCTGC   \n",
       "43              TCTTGA-GCTCTGGCACTTCTCTGCTGCT   \n",
       "44              TCTTGA-GCTCTGGCACTTCTCTGCTGCT   \n",
       "45           TCTTGCTCTTGAGCTCTGGCACTTCTCTGCTG   \n",
       "\n",
       "                           Alignment Sequence  \n",
       "0   ATTTTCTTGCTCTTGAGCTCTGGCACTTCTCTGCTGCTGTC  \n",
       "1   ATTTTCTTGCTCTTGAGCTCTGGCTCTTCTCTGCTGCTGTC  \n",
       "2        CTTGCTCTTGAGCTCTGGCTCTTCTCTGCTGCTGTC  \n",
       "3   ATTTTCTTGCTCTTGAGCTCTGGCCCT--TCTGCTGCTGTC  \n",
       "4   ATATTCTTGCTCTTGAGTTCTGGCTTTTCTCTGCTGCTGTC  \n",
       "5   ATATTCTTGCTCTTGAGTTCTGGCTTTTCTCTGCTGCTGTC  \n",
       "6    TTTTCTTGCTCTTGAACTCTGGCTTGTCTCTGCTGCTGTC  \n",
       "7    TTTTCTTGCTCTTGAACTCTGGCTTGTCTCTGCTGCTGTC  \n",
       "8    TTTTCTTGCTCTTGAACTCTGGCTTGTCTCTGCTGCTGTC  \n",
       "9      ATTTTCTTGCTCTTTAGCTCAGGCTCCGCTCTGCTGCT  \n",
       "10                   AGCTCTGGCACTTCTCTGCTGCTG  \n",
       "11                 TGCTCTTGAGCCCTGGCACTTCTCTG  \n",
       "12            TTTCTTGCTCTTCAGCTCTGGCATTTCTTTG  \n",
       "13     TTTTCTTCTTCTTAGAGCTCTGGCGTTTCTCTGCTGCT  \n",
       "14     TTTTCTTCTTCTTAGAGCTCTGGCGTTTCTCTGCTGCT  \n",
       "15                 AGCTCTGGCACTTTTCTGCTGCTGTC  \n",
       "16                  ATCTTCTTGCTCTTGAGCTCTGGCA  \n",
       "17                  ATCTTCTTGCTCTTGAGCTCTGGCA  \n",
       "18  ATTTTCTTGCTC-------CTGGCTCTTCTCTGCTGCTGTC  \n",
       "19              TCTTGAAGCTCTGGCACTTCTCTTCTGCT  \n",
       "20              TCTTGAAGCTCTGGCACTTCTCTTCTGCT  \n",
       "21              TCTTGAAGCTCTGGCACTTCTCTTCTGCT  \n",
       "22              TCTTGAAGCTCTGGCACTTCTCTTCTGCT  \n",
       "23                CTAGCTCTTGAGCTCTGGCACTGCTCT  \n",
       "24      ATTTTCTTGCCCTTTAGCTCAAGTTCTTCTCTGCTGC  \n",
       "25              TCTTGAAGCTCTGGCACTTCTCTTCTGCT  \n",
       "26       ATTTTCTTTCTCTTGAATCTCCTGGCACTTCTCTGC  \n",
       "27      ATTTTCTTGCCCTTTAGCTCAAGTTCTTCTCTGCTGC  \n",
       "28      ATTTTCTTGCCCTTTAGCTCAAGTTCTTCTCTGCTGC  \n",
       "29           TCTTGATTGTGAGCTCTGCCACTTCTCTGCTG  \n",
       "30           TCTTGATTGTGAGCTCTGCCACTTCTCTGCTG  \n",
       "31           TCTTGATTGTGAGCTCTGCCACTTCTCTGCTG  \n",
       "32           TCTTGATTGTGAGCTCTGCCACTTCTCTGCTG  \n",
       "33              TGCTCTGG-GCTCTGGCACTTCTCTGCTG  \n",
       "34                CTAGCTCTTGAGCTCTGGCACTGCTCT  \n",
       "35      ATTTTCTTGCCCTTTAGCTCAAGTTCTTCTCTGCTGC  \n",
       "36      ATTTTCTTGCCCTTTAGCTCAAGTTCTTCTCTGCTGC  \n",
       "37              TGCTCTGG-GCTCTGGCACTTCTCTGCTG  \n",
       "38                CTAGCTCTTGAGCTCTGGCACTGCTCT  \n",
       "39      ATTTTCTTGCCCTTTAGCTCAAGTTCTTCTCTGCTGC  \n",
       "40      ATTTTCTTGCCCTTTAGCTCAAGTTCTTCTCTGCTGC  \n",
       "41                TCTTGCTCTTGAGCTCTGGAACCTCTC  \n",
       "42      ATTTTCTTGCCCTTTAGCTCAAGTTCTTCTCTGCTGC  \n",
       "43              TCTTGAAGCTCTGGCACTTCTCTTCTGCT  \n",
       "44              TCTTGAAGCTCTGGCACTTCTCTTCTGCT  \n",
       "45           TCTTGATTGTGAGCTCTGCCACTTCTCTGCTG  "
      ]
     },
     "execution_count": 56,
     "metadata": {},
     "output_type": "execute_result"
    }
   ],
   "source": [
    "import pandas as pd\n",
    "sequence = Seq(\"ATTTTCTTGCTCTTGAGCTCTGGCACTTCTCTGCTGCTGTC\")\n",
    "result_handle = NCBIWWW.qblast(\"blastn\", \"nt\", sequence)\n",
    "blast_records = NCBIXML.parse(result_handle)\n",
    "blast_data = []  #la unica cosa que hice es crear una lista vazia para guardar con append\n",
    "for record in blast_records:\n",
    "    for alignment in record.alignments:\n",
    "        for hsp in alignment.hsps:\n",
    "            blast_data.append({\n",
    "                'Query ID': record.query_id,\n",
    "                'Alignment Title': alignment.title,\n",
    "                'Alignment Length': alignment.length,\n",
    "                'E-value': hsp.expect,\n",
    "                'Score': hsp.score,\n",
    "                'Query Sequence': hsp.query,\n",
    "                'Alignment Sequence': hsp.sbjct\n",
    "            })\n",
    "\n",
    "df = pd.DataFrame(blast_data)\n",
    "df"
   ]
  },
  {
   "cell_type": "markdown",
   "id": "a511f36a",
   "metadata": {},
   "source": [
    "## Alineamiento multiple"
   ]
  },
  {
   "cell_type": "markdown",
   "id": "bd5c7e2f",
   "metadata": {},
   "source": [
    "Otro de los análisis populares en Bioinformática es el alineamiento de secuencias multiples (MSA), que implica el alineamiento de más de dos secuencias.\n",
    "\n",
    "Existe una variedad de software online que pueden utilizarse, dos de los más conocidos son muscle y clustalW.\n",
    "\n",
    "Biopython no tiene un módulo incorporado para realizar MSA, pero proporciona contenedores de lineas de comando para estos dos softwares.\n",
    "\n",
    "Además tiene un módulo que permite leer archivos de alineación que resultan de este tipo de  programas.\n",
    "\n",
    "Supongamos que tenemos las siguientes secuencias:\n",
    "\n",
    "```\n",
    ">Seq0\n",
    "AACCGTCAGAAGAGAGCTTTATGCAC\n",
    ">Seq1\n",
    "ATCCGTCAGGATAGAGTTTTATTCTC\n",
    ">Seq2\n",
    "AACCGTCCGAATCGAGCATTATTCTC\n",
    ">Seq3\n",
    "AACCGTCCGAATAGCCCTTTATTCTC\n",
    ">Seq4\n",
    "ATCGGTACGAATAGAGCTTTATTCTC\n",
    ">Seq5\n",
    "AACCGTCGGAAAAGAGCTTTAGTCTC\n",
    "```\n",
    "\n",
    "https://www.ebi.ac.uk/Tools/msa/clustalo/"
   ]
  },
  {
   "cell_type": "markdown",
   "id": "37ba14b3",
   "metadata": {},
   "source": [
    "Primero tenemos que entrar al programa de clustal Omega, pegar las secuencias, especificar el tipo de secuencia que tenemos y correr el alineamiento. Posteriormente descargamos el archivo clustal.\n",
    "\n",
    "Primero seleccionamos el tipo de secuencia que utilizaremos:\n",
    "\n",
    "<img src=\"clustaomega.png\" width=\"600\" height=\"350\"/>\n",
    "\n",
    "Pegamos la secuencias o subimos el archivo que las contiene\n",
    "\n",
    "<img src=\"clustalomega2.png\" width=\"600\" height=\"350\"/>\n",
    "\n",
    "Descargamos los alineamientos en formato *.clustal\n",
    "<img src=\"clustalomega3.png\" width=\"600\" height=\"350\"/>\n",
    "\n",
    "Vamos a utilizar el modulo AlignIO para leer el archivo que acabamos de generar."
   ]
  },
  {
   "cell_type": "code",
   "execution_count": 49,
   "id": "c44338c4",
   "metadata": {},
   "outputs": [
    {
     "name": "stdout",
     "output_type": "stream",
     "text": [
      "Alignment with 6 rows and 26 columns\n",
      "ATCCGTCAGGATAGAGTTTTATTCTC Seq1\n",
      "ATCGGTACGAATAGAGCTTTATTCTC Seq4\n",
      "AACCGTCAGAAGAGAGCTTTATGCAC Seq0\n",
      "AACCGTCCGAATAGCCCTTTATTCTC Seq3\n",
      "AACCGTCCGAATCGAGCATTATTCTC Seq2\n",
      "AACCGTCGGAAAAGAGCTTTAGTCTC Seq5\n"
     ]
    }
   ],
   "source": [
    "#open the alignment file\n",
    "from Bio import AlignIO\n",
    "with open(\"aln-clustal_num.clustal\", \"r\") as aln:\n",
    "    #use AlignIO to read the alignment file in 'clustal' format\n",
    "    alignment = AlignIO.read(aln, \"clustal\")\n",
    "    print(alignment)\n",
    "    alignment"
   ]
  },
  {
   "cell_type": "markdown",
   "id": "f0611227",
   "metadata": {},
   "source": [
    "De esta manera podemos visualizar todas las secuencias y su tamaño. Bio.AlingIO puede leer varios tipos de formato de alineamiento, aqui puedes ver una lista:\n",
    "\n",
    "https://biopython.org/wiki/AlignIO"
   ]
  },
  {
   "cell_type": "markdown",
   "id": "f5fdfd11",
   "metadata": {},
   "source": [
    "A partir de esta información nosotros podemos trazar un arbol filogenético."
   ]
  },
  {
   "cell_type": "markdown",
   "id": "a179cc06",
   "metadata": {},
   "source": [
    "## Construcción de un árbol filogenético\n",
    "\n",
    "La contrucción de arboles filogenéticos es una de las aplicaciones más extendidas de MSA.\n",
    "\n",
    "Existe una gran variedad de métodos de construcción de árboles filogenéticos. Uno de los más populares es el método basado en la distancia que depende de la medida de la distancia genética entre las secuencias que se clasifican.\n",
    "\n",
    "Las secuencias que tienen uns distancia genética menor tienden ser evolutivamente similares y por lo tanto estas más cerca en el árbol filogenético.\n",
    "\n",
    "Entonces lo primero que tenemos que hacer es calcular la distancia entre cada par de secuencias de nuesto archivo de alineación. Creamos la matriz de distancias."
   ]
  },
  {
   "cell_type": "code",
   "execution_count": 50,
   "id": "cf47b940",
   "metadata": {},
   "outputs": [
    {
     "name": "stdout",
     "output_type": "stream",
     "text": [
      "Seq1    0.000000\n",
      "Seq4    0.192308    0.000000\n",
      "Seq0    0.230769    0.269231    0.000000\n",
      "Seq3    0.230769    0.192308    0.230769    0.000000\n",
      "Seq2    0.230769    0.192308    0.230769    0.153846    0.000000\n",
      "Seq5    0.230769    0.230769    0.192308    0.192308    0.192308    0.000000\n",
      "    Seq1    Seq4    Seq0    Seq3    Seq2    Seq5\n"
     ]
    }
   ],
   "source": [
    "from Bio.Phylo.TreeConstruction import DistanceCalculator\n",
    "#calculate the distance matrix\n",
    "calculator = DistanceCalculator('identity')\n",
    "#adds distance matrix to the calculator object and returns it\n",
    "dm = calculator.get_distance(alignment)\n",
    "print(dm)"
   ]
  },
  {
   "cell_type": "markdown",
   "id": "972c7230",
   "metadata": {},
   "source": [
    "En el resultado, podemos determinar la distancia por pares en forma de matriz que se ha calculado utilizando la variable de \"alignment\" del ejemplo anterior de análisis de un archivo de alineación. Biopython tiene un módulo conocido como “Phylo” que se ocupa de las operaciones para la construcción y trazado de árboles filogenéticos. El objeto \"DistanceCalculator\" se inicia con una matriz de sustitución como argumento. Una matriz de identidad es una matriz simple en la que se otorga una puntuación para una identidad y \"0\" para una falta de coincidencia. Una vez que tenemos las distancias, podemos proceder a construir un árbol filogenético, como se muestra a continuación\n"
   ]
  },
  {
   "cell_type": "code",
   "execution_count": 51,
   "id": "b0e3757d",
   "metadata": {},
   "outputs": [
    {
     "name": "stdout",
     "output_type": "stream",
     "text": [
      "Tree(rooted=False)\n",
      "    Clade(branch_length=0, name='Inner4')\n",
      "        Clade(branch_length=0.014423076923076886, name='Inner3')\n",
      "            Clade(branch_length=0.024038461538461536, name='Inner1')\n",
      "                Clade(branch_length=0.10096153846153844, name='Seq1')\n",
      "                Clade(branch_length=0.09134615384615385, name='Seq4')\n",
      "            Clade(branch_length=0.024038461538461536, name='Inner2')\n",
      "                Clade(branch_length=0.0801282051282051, name='Seq5')\n",
      "                Clade(branch_length=0.1121794871794872, name='Seq0')\n",
      "        Clade(branch_length=0.07692307692307694, name='Seq3')\n",
      "        Clade(branch_length=0.07692307692307693, name='Seq2')\n"
     ]
    }
   ],
   "source": [
    "from Bio.Phylo.TreeConstruction import DistanceTreeConstructor\n",
    "#initialize a DistanceTreeConstructor object based on our distance calculator\n",
    "object\n",
    "constructor = DistanceTreeConstructor(calculator)\n",
    "#build the tree\n",
    "tree = constructor.build_tree(alignment)\n",
    "print(tree)"
   ]
  },
  {
   "cell_type": "markdown",
   "id": "8ec50f95",
   "metadata": {},
   "source": [
    "\n",
    "\"Phylo.TreeConstruction\" de Biopython tiene un módulo llamado \"DistanceTreeConstructor\". Identifica como argumento el objeto “DistanceCalculator”, que contiene la matriz de sustitución para el cálculo de las distancias. A continuación, podemos colocar nuestra variable de alineación en el constructor de árboles para construir un árbol filogenético. La salida puede requerir un poco de esfuerzo para comprender, donde cada línea representa un nodo y las pestañas son longitudes de rama. Para hacerlo simple, también podemos dibujar/trazar este árbol"
   ]
  },
  {
   "cell_type": "code",
   "execution_count": 52,
   "id": "4b34ec84",
   "metadata": {},
   "outputs": [
    {
     "data": {
      "image/png": "[encoded data removed]",
      "text/plain": [
       "<Figure size 432x288 with 1 Axes>"
      ]
     },
     "metadata": {
      "needs_background": "light"
     },
     "output_type": "display_data"
    }
   ],
   "source": [
    "from Bio import Phylo\n",
    "import pylab\n",
    "#draw the tree\n",
    "Phylo.draw(tree)"
   ]
  },
  {
   "cell_type": "markdown",
   "id": "6c24e356",
   "metadata": {},
   "source": [
    "Al dibujar un árbol filogenético, necesitaremos un módulo \"pylab\". Esto viene con Anaconda por defecto, o se puede instalar usando los instaladores \"pip\" o \"conda\". El resultado anterior es fácil de interpretar para ancestros comunes, puntos de especiación, etc"
   ]
  },
  {
   "cell_type": "markdown",
   "id": "ce5b3bb0",
   "metadata": {},
   "source": [
    "## Manejo de archivos PDB\n",
    "\n",
    "The Protein Data Bank (PDB) es una depósito de estructuras de proteínas en 3D.\n",
    "\n",
    "El plegamiento 3D de las cadena de aminoácidos determina su función. Las estructuras 3D se pueden determinar experimentalmente mediante cristalografía de rayos X, RMN y microscopía electronica. Pero la cristalografía de rayos X es la más utilizada. \n",
    "\n",
    "La identificación experimental de la estructura 3D es esencialmente una deducción de las coordenadas de cada átomo en un especio tridimensional.\n",
    "\n",
    "Estas coordenas, junto con algunas anotaciones, se almacenan en un formato de archivos particular llamado .pdb"
   ]
  },
  {
   "cell_type": "markdown",
   "id": "16f379eb",
   "metadata": {},
   "source": [
    "Existen softwares para visualizar: RasMol, PyMOL, JMOL, Chimera, etc.\n",
    "\n",
    "Biopython tiene un módulo para el manejo de estos archivos Bio.PDB\n",
    "\n",
    "Primero descargaremos un archivo en formato pdb y mmCif, que utliza diccionarios de datos para defnir el contenido de información de las entradas de PDB."
   ]
  },
  {
   "cell_type": "code",
   "execution_count": 53,
   "id": "1381afeb",
   "metadata": {},
   "outputs": [
    {
     "name": "stdout",
     "output_type": "stream",
     "text": [
      "Structure exists: './pdb1mbs.ent' \n",
      "Structure exists: './1mbs.cif' \n"
     ]
    },
    {
     "data": {
      "text/plain": [
       "'./1mbs.cif'"
      ]
     },
     "execution_count": 53,
     "metadata": {},
     "output_type": "execute_result"
    }
   ],
   "source": [
    "from Bio.PDB import PDBList\n",
    "pdbl = PDBList()\n",
    "pdbl.retrieve_pdb_file('1mbs', pdir = '.', file_format = 'pdb')\n",
    "pdbl.retrieve_pdb_file('1mbs', pdir = '.', file_format = 'mmCif')"
   ]
  },
  {
   "cell_type": "markdown",
   "id": "530b4ef4",
   "metadata": {},
   "source": [
    "De esta forma podemos decargar los archivos directamente de PDB.\n",
    "\n",
    "necesitamos el PDB ID, directorio y formato del archivo.\n"
   ]
  },
  {
   "cell_type": "code",
   "execution_count": 54,
   "id": "627ca08d",
   "metadata": {},
   "outputs": [
    {
     "name": "stdout",
     "output_type": "stream",
     "text": [
      "dict_keys(['name', 'head', 'idcode', 'deposition_date', 'release_date', 'structure_method', 'resolution', 'structure_reference', 'journal_reference', 'author', 'compound', 'source', 'has_missing_residues', 'missing_residues', 'keywords', 'journal'])\n",
      "-----------------------------\n",
      "x-ray crystallographic studies of seal myoglobin. the molecule at 2.5 angstroms resolution\n",
      "1979-05-15\n",
      "2.5\n",
      "oxygen transport\n"
     ]
    }
   ],
   "source": [
    "# PDBParser puede leer archivos PDB y puede guaradr piezas de información en un formato estrucutrado\n",
    "#como un diccionario\n",
    "from Bio.PDB.PDBParser import PDBParser\n",
    "parser = PDBParser(QUIET = True) # ignora cualquier error (como residuos faltantes) en  archivo meintras lo análiza\n",
    "pdb_id = \"1mbs\"\n",
    "pdb_filename = \"pdb1mbs.ent\"\n",
    "structure_pdb = parser.get_structure(pdb_id, pdb_filename)\n",
    "print(structure_pdb.header.keys())\n",
    "print('-----------------------------')\n",
    "print(structure_pdb.header[\"name\"])\n",
    "print(structure_pdb.header[\"release_date\"])\n",
    "print(structure_pdb.header[\"resolution\"])\n",
    "print(structure_pdb.header[\"keywords\"])"
   ]
  },
  {
   "cell_type": "markdown",
   "id": "f8a431da",
   "metadata": {},
   "source": [
    "Se utiliza el formato PDBx o mmCIF que utiliza diccionarios de datos para definir el contenido de informaicón de las entradas de PDB.\n",
    "\n",
    "Este formato tiene un par clave-valor flexible para representar información de la estructura macromolecular y puede acomodar cualquier cantidad de átomos, residuos o cadenas.\n",
    "\n",
    "El modulo PDBParser  puede leer archivos PDB y guardar información en formato de estructurado como un diccionario de Python."
   ]
  },
  {
   "cell_type": "code",
   "execution_count": 55,
   "id": "57f7347b",
   "metadata": {},
   "outputs": [
    {
     "name": "stdout",
     "output_type": "stream",
     "text": [
      "[<Model id=0>]\n"
     ]
    }
   ],
   "source": [
    "models = list(structure_pdb.get_models()) # Enumera todos los modelos, n este caso solo existe uno\n",
    "print(models)"
   ]
  },
  {
   "cell_type": "code",
   "execution_count": 56,
   "id": "b5773324",
   "metadata": {},
   "outputs": [
    {
     "name": "stdout",
     "output_type": "stream",
     "text": [
      "[<Chain id=A>]\n"
     ]
    }
   ],
   "source": [
    "chains = list(models[0].get_chains()) #Además también podemos recuperar las cadenas de un modelo\n",
    "print(chains)"
   ]
  },
  {
   "cell_type": "code",
   "execution_count": 57,
   "id": "3efbef3c",
   "metadata": {},
   "outputs": [
    {
     "name": "stdout",
     "output_type": "stream",
     "text": [
      "154\n"
     ]
    }
   ],
   "source": [
    "## La cadena A de 1MBS contiene 154 residuos\n",
    "residues_0 = list(chains[0].get_residues())\n",
    "print(len(residues_0))"
   ]
  },
  {
   "cell_type": "code",
   "execution_count": 58,
   "id": "0e3c4f66",
   "metadata": {},
   "outputs": [
    {
     "name": "stdout",
     "output_type": "stream",
     "text": [
      "<Residue GLY het=  resseq=1 icode= >\n",
      "[<Atom N>, <Atom CA>, <Atom C>, <Atom O>]\n",
      "<Vector 15.74, 11.18, -11.73>\n"
     ]
    }
   ],
   "source": [
    "#Podemos tomar todos los átomos del primer residuo, así como las coordenadas del primer modelo\n",
    "print(residues_0[0])\n",
    "atoms = list(residues_0[0].get_atoms())\n",
    "print(atoms)\n",
    "print(atoms[0].get_vector())"
   ]
  },
  {
   "cell_type": "markdown",
   "id": "bcd89d3d",
   "metadata": {},
   "source": [
    "El primer residuo de la cadena A es glicina y contiene 4 atomos, las coordenadas del primer átomo son x=15.74, y=11.18 z=-11.73"
   ]
  },
  {
   "cell_type": "code",
   "execution_count": 59,
   "id": "c1a9f6bf",
   "metadata": {},
   "outputs": [
    {
     "name": "stdout",
     "output_type": "stream",
     "text": [
      "<Atom N>\n",
      "<Vector 15.74, 11.18, -11.73>\n",
      "<Atom CA>\n",
      "<Vector 15.23, 10.46, -10.56>\n",
      "<Atom C>\n",
      "<Vector 16.28, 9.48, -10.00>\n",
      "<Atom O>\n",
      "<Vector 17.15, 8.98, -10.71>\n"
     ]
    }
   ],
   "source": [
    "for model in structure_pdb.get_models():\n",
    "    for chain in model.get_chains():\n",
    "        for residue in chain.get_residues():\n",
    "            for atom in residue.get_atoms():\n",
    "                print(atom)\n",
    "                print(atom.get_vector())\n",
    "            break\n",
    "        break\n",
    "    break"
   ]
  },
  {
   "cell_type": "markdown",
   "id": "3aa5226b",
   "metadata": {},
   "source": [
    "## Análisis de motivos de secuencia\n",
    "\n",
    "En biología molecular, un motivo de secuencia es una secuencia corta de nucleótidos que se presume que desempeña una función biológica concreta, puesto que está altamente conservada entre especies. Estas secuencias pueden ser codificantes o no codificantes, y suelen estar implicadas en la regulación de procesos biológicos como la transcripción, el procesamiento del ARN mensajero y la traducción a proteína.\n",
    "\n",
    "Con frecuencia, el mecanismo por el cual los motivos de secuencia regulan funciones biológicas es modulando la unión específica de proteínas y complejos proteicos a ácidos nucleicos, tales como enzimas nucleasas y factores de transcripción.\n",
    "\n",
    "Los motivos de secuencia encapsulan funciones biológicas esenciales para la vida. Su estudio es especialmente relevante tanto para la clasificación de familias de proteínas y generación de relaciones filogenéticas robustas, como para entender en profundidad los procesos moleculares que permiten la vida en la tierra.\n",
    "\n",
    "- Motivos de secuencia: consisten en secuencias lineales cortas de elementos adyacentes que han evolucionado principalmente de forma independiente al contexto molecular que los rodea. Son especialmente comunes en ácidos nucleicos; algunos ejemplos de motivos de secuencia son: caja TATA, señal de N-glicosilación y sitios de reconocimiento de splicing.\n",
    "\n",
    "   <img src=\"TATA_box.png\" width=\"600\" height=\"350\"/>\n",
    "   \n",
    "- Motivos estructurales: estructuras tridimensionales formadas esencialmente por elementos no adyacentes que se han conservado junto a su contexto molecular, dado que su funcionalidad depende directamente de su correcto plegamiento espacial. Tanto las proteínas como los ácidos nucleicos forman supra-estructuras tridimensionales. Ejemplos de motivos estructurales son: las hélice alfa, las regiones transmembrana y los bucles omega.\n",
    "\n",
    "    <img src=\"Multiple-sequence-alignment-of-the-DNA-binding-domain-of-62-AraC-XylS-family-members-with_W640.jpeg\" width=\"600\" height=\"350\"/>"
   ]
  },
  {
   "cell_type": "code",
   "execution_count": 60,
   "id": "83d9a0cc",
   "metadata": {},
   "outputs": [],
   "source": [
    "from Bio import motifs\n",
    "\n",
    "instances = [\n",
    "Seq(\"TACAA\"),\n",
    "Seq(\"TACGC\"),\n",
    "Seq(\"TACAC\"),\n",
    "Seq(\"TACCC\"),\n",
    "Seq(\"AACCC\"),\n",
    "Seq(\"AATGC\"),\n",
    "Seq(\"AATGC\")]"
   ]
  },
  {
   "cell_type": "code",
   "execution_count": 61,
   "id": "4ed93425",
   "metadata": {},
   "outputs": [
    {
     "name": "stdout",
     "output_type": "stream",
     "text": [
      "TACAA\n",
      "TACGC\n",
      "TACAC\n",
      "TACCC\n",
      "AACCC\n",
      "AATGC\n",
      "AATGC\n",
      "\n",
      "5\n"
     ]
    }
   ],
   "source": [
    "m = motifs.create(instances)\n",
    "print(m)\n",
    "print(len(m))"
   ]
  },
  {
   "cell_type": "markdown",
   "id": "f754cd18",
   "metadata": {},
   "source": [
    "Las instancias se guardan en un atributo m.instances, que es esencialmente una lista de python con algunas funcionalidades adicionales.\n",
    "\n",
    "El objeto Motif tiene un atributo .counts que contiene los recuentos de cada nucleótido en cada posición.\n",
    "\n",
    "Esto nos permite visualizar la matriz de conteos"
   ]
  },
  {
   "cell_type": "code",
   "execution_count": 62,
   "id": "dda15605",
   "metadata": {},
   "outputs": [
    {
     "name": "stdout",
     "output_type": "stream",
     "text": [
      "        0      1      2      3      4\n",
      "A:   3.00   7.00   0.00   2.00   1.00\n",
      "C:   0.00   0.00   5.00   2.00   6.00\n",
      "G:   0.00   0.00   0.00   3.00   0.00\n",
      "T:   4.00   0.00   2.00   0.00   0.00\n",
      "\n"
     ]
    }
   ],
   "source": [
    "print(m.counts)"
   ]
  },
  {
   "cell_type": "markdown",
   "id": "66f2764e",
   "metadata": {},
   "source": [
    "El motivo tiene asociada una secuencia consenso, definida como la secuencia de letras a lo largo de las posiciones del motivo para la que se obtiene el mayor valor en las columnas correspondientes de la matriz."
   ]
  },
  {
   "cell_type": "code",
   "execution_count": 63,
   "id": "1420ed3f",
   "metadata": {},
   "outputs": [
    {
     "data": {
      "text/plain": [
       "Seq('TACGC')"
      ]
     },
     "execution_count": 63,
     "metadata": {},
     "output_type": "execute_result"
    }
   ],
   "source": [
    "m.consensus"
   ]
  },
  {
   "cell_type": "markdown",
   "id": "2070d1c9",
   "metadata": {},
   "source": [
    "Así como una secuencia anticonsensu, correspondiente a los valores más pequeños en las columnas."
   ]
  },
  {
   "cell_type": "code",
   "execution_count": 64,
   "id": "cd31dc78",
   "metadata": {},
   "outputs": [
    {
     "data": {
      "text/plain": [
       "Seq('CCATG')"
      ]
     },
     "execution_count": 64,
     "metadata": {},
     "output_type": "execute_result"
    }
   ],
   "source": [
    "m.anticonsensus"
   ]
  },
  {
   "cell_type": "markdown",
   "id": "6d37ec6e",
   "metadata": {},
   "source": [
    "Tenga en cuanta que existen cierta ambigüedad en las definicion de estos consensus si en algunas columnas tienen varios nucleotidos con el recuento maximo o minimo.\n"
   ]
  },
  {
   "cell_type": "markdown",
   "id": "f1b190dd",
   "metadata": {},
   "source": [
    "También puede solicitar una secuencia de consenso degenerada, en la que se utilizan nucleótidos ambiguos para posiciones en las que hay varios nucleótidos con recuentos elevados:"
   ]
  },
  {
   "cell_type": "code",
   "execution_count": 65,
   "id": "715572cf",
   "metadata": {},
   "outputs": [
    {
     "data": {
      "text/plain": [
       "Seq('WACVC')"
      ]
     },
     "execution_count": 65,
     "metadata": {},
     "output_type": "execute_result"
    }
   ],
   "source": [
    "m.degenerate_consensus"
   ]
  },
  {
   "cell_type": "markdown",
   "id": "55116dd4",
   "metadata": {},
   "source": [
    "Aquí, W y R siguen los códigos de ambigüedad de nucleótidos de la IUPAC: W es A o T, y V es A, C o G. La secuencia consenso degenerada se construye siguiendo las reglas especificadas por Cavener.\n",
    "\n",
    " <img src=\"nomenclatura-bases.png\" width=\"300\" height=\"100\"/>\n",
    "\n",
    "\n",
    "También podemos obtener el complemento inverso de un motivo:"
   ]
  },
  {
   "cell_type": "code",
   "execution_count": 66,
   "id": "ae35a821",
   "metadata": {},
   "outputs": [
    {
     "data": {
      "text/plain": [
       "Seq('GCGTA')"
      ]
     },
     "execution_count": 66,
     "metadata": {},
     "output_type": "execute_result"
    }
   ],
   "source": [
    "#También podemos obtener su reversa complemantaria\n",
    "r = m.reverse_complement()\n",
    "r.consensus"
   ]
  },
  {
   "cell_type": "markdown",
   "id": "e91333e3",
   "metadata": {},
   "source": [
    "https://weblogo.berkeley.edu\n",
    "\n",
    "<img src=\"logo.png\" width=\"600\" height=\"350\"/>\n"
   ]
  },
  {
   "cell_type": "markdown",
   "id": "50f779d1",
   "metadata": {},
   "source": [
    "## JASPAR\n",
    "\n",
    "No existen estandares bien establecidos para almacenar motifs, pero JASPER es uno de los más altamente usados.\n",
    "\n",
    "JASPER: Es una de las bases de datos de motifs más populares. Además de la información de la secuencia del motif, la base de datos JASPER almacena metainformación para cada motif. \n",
    "https://jaspar.genereg.net\n",
    "\n",
    "<img src=\"jaspar.png\" width=\"600\" height=\"350\"/>"
   ]
  },
  {
   "cell_type": "code",
   "execution_count": 67,
   "id": "5f65bdc5",
   "metadata": {},
   "outputs": [],
   "source": [
    "from Bio import motifs\n",
    "with open(\"Arnt.sites\") as handle:\n",
    "    arnt = motifs.read(handle, \"sites\")"
   ]
  },
  {
   "cell_type": "code",
   "execution_count": 68,
   "id": "bcd4d703",
   "metadata": {},
   "outputs": [
    {
     "name": "stdout",
     "output_type": "stream",
     "text": [
      "[Seq('CACGTG'), Seq('CACGTG'), Seq('CACGTG')]\n"
     ]
    }
   ],
   "source": [
    "print(arnt.instances[:3])"
   ]
  },
  {
   "cell_type": "code",
   "execution_count": 69,
   "id": "f5f11f18",
   "metadata": {},
   "outputs": [
    {
     "name": "stdout",
     "output_type": "stream",
     "text": [
      "CACGTG\n",
      "CACGTG\n",
      "CACGTG\n",
      "CACGTG\n",
      "CACGTG\n",
      "CACGTG\n",
      "CACGTG\n",
      "CACGTG\n",
      "CACGTG\n",
      "CACGTG\n",
      "CACGTG\n",
      "CACGTG\n",
      "CACGTG\n",
      "CACGTG\n",
      "CACGTG\n",
      "AACGTG\n",
      "AACGTG\n",
      "AACGTG\n",
      "AACGTG\n",
      "CGCGTG\n"
     ]
    }
   ],
   "source": [
    "for instance in arnt.instances:\n",
    "    print(instance)"
   ]
  },
  {
   "cell_type": "code",
   "execution_count": 70,
   "id": "46f4c193",
   "metadata": {},
   "outputs": [
    {
     "name": "stdout",
     "output_type": "stream",
     "text": [
      "        0      1      2      3      4      5\n",
      "A:   4.00  19.00   0.00   0.00   0.00   0.00\n",
      "C:  16.00   0.00  20.00   0.00   0.00   0.00\n",
      "G:   0.00   1.00   0.00  20.00   0.00  20.00\n",
      "T:   0.00   0.00   0.00   0.00  20.00   0.00\n",
      "\n"
     ]
    }
   ],
   "source": [
    "print(arnt.counts)"
   ]
  },
  {
   "cell_type": "code",
   "execution_count": 71,
   "id": "c9ffbc62",
   "metadata": {},
   "outputs": [
    {
     "name": "stdout",
     "output_type": "stream",
     "text": [
      "        0      1      2      3      4      5\n",
      "A:   0.20   0.89   0.02   0.02   0.02   0.02\n",
      "C:   0.75   0.02   0.93   0.02   0.02   0.02\n",
      "G:   0.02   0.07   0.02   0.93   0.02   0.93\n",
      "T:   0.02   0.02   0.02   0.02   0.93   0.02\n",
      "\n"
     ]
    }
   ],
   "source": [
    "pwm = arnt.counts.normalize(pseudocounts=0.5)\n",
    "print(pwm)"
   ]
  },
  {
   "cell_type": "code",
   "execution_count": null,
   "id": "f2a2d7e4",
   "metadata": {},
   "outputs": [],
   "source": []
  },
  {
   "cell_type": "code",
   "execution_count": null,
   "id": "2e6b58b7",
   "metadata": {},
   "outputs": [],
   "source": []
  }
 ],
 "metadata": {
  "kernelspec": {
   "display_name": "Python 3 (ipykernel)",
   "language": "python",
   "name": "python3"
  },
  "language_info": {
   "codemirror_mode": {
    "name": "ipython",
    "version": 3
   },
   "file_extension": ".py",
   "mimetype": "text/x-python",
   "name": "python",
   "nbconvert_exporter": "python",
   "pygments_lexer": "ipython3",
   "version": "3.9.12"
  }
 },
 "nbformat": 4,
 "nbformat_minor": 5
}
